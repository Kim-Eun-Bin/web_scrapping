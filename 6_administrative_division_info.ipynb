{
 "cells": [
  {
   "cell_type": "markdown",
   "metadata": {
    "collapsed": true,
    "pycharm": {
     "name": "#%% md\n"
    }
   },
   "source": [
    "## 행정 구역 정보\n",
    "- read_csv() 함수로 csv file read\n",
    "- 특정 행과 열 선택\n",
    "- 컬럼명 변경\n",
    "- 상관관계 분석 (인구수와 면적간의 상관관계)\n",
    "- 시각화"
   ]
  },
  {
   "cell_type": "code",
   "execution_count": 17,
   "outputs": [
    {
     "name": "stdout",
     "output_type": "stream",
     "text": [
      "<class 'pandas.core.frame.DataFrame'>\n"
     ]
    },
    {
     "data": {
      "text/plain": "   Unnamed: 0     인구수 shortName   x  y       면적 광역시도 행정구역\n0           0  202520        강릉  11  4  1040.07  강원도  강릉시\n1           1   25589    고성(강원)   9  0   664.19  강원도  고성군\n2           2   86747        동해  11  5   180.01  강원도  동해시\n3           3   63986        삼척  11  8  1185.80  강원도  삼척시\n4           4   76733        속초   9  1   105.25  강원도  속초시",
      "text/html": "<div>\n<style scoped>\n    .dataframe tbody tr th:only-of-type {\n        vertical-align: middle;\n    }\n\n    .dataframe tbody tr th {\n        vertical-align: top;\n    }\n\n    .dataframe thead th {\n        text-align: right;\n    }\n</style>\n<table border=\"1\" class=\"dataframe\">\n  <thead>\n    <tr style=\"text-align: right;\">\n      <th></th>\n      <th>Unnamed: 0</th>\n      <th>인구수</th>\n      <th>shortName</th>\n      <th>x</th>\n      <th>y</th>\n      <th>면적</th>\n      <th>광역시도</th>\n      <th>행정구역</th>\n    </tr>\n  </thead>\n  <tbody>\n    <tr>\n      <th>0</th>\n      <td>0</td>\n      <td>202520</td>\n      <td>강릉</td>\n      <td>11</td>\n      <td>4</td>\n      <td>1040.07</td>\n      <td>강원도</td>\n      <td>강릉시</td>\n    </tr>\n    <tr>\n      <th>1</th>\n      <td>1</td>\n      <td>25589</td>\n      <td>고성(강원)</td>\n      <td>9</td>\n      <td>0</td>\n      <td>664.19</td>\n      <td>강원도</td>\n      <td>고성군</td>\n    </tr>\n    <tr>\n      <th>2</th>\n      <td>2</td>\n      <td>86747</td>\n      <td>동해</td>\n      <td>11</td>\n      <td>5</td>\n      <td>180.01</td>\n      <td>강원도</td>\n      <td>동해시</td>\n    </tr>\n    <tr>\n      <th>3</th>\n      <td>3</td>\n      <td>63986</td>\n      <td>삼척</td>\n      <td>11</td>\n      <td>8</td>\n      <td>1185.80</td>\n      <td>강원도</td>\n      <td>삼척시</td>\n    </tr>\n    <tr>\n      <th>4</th>\n      <td>4</td>\n      <td>76733</td>\n      <td>속초</td>\n      <td>9</td>\n      <td>1</td>\n      <td>105.25</td>\n      <td>강원도</td>\n      <td>속초시</td>\n    </tr>\n  </tbody>\n</table>\n</div>"
     },
     "execution_count": 17,
     "metadata": {},
     "output_type": "execute_result"
    }
   ],
   "source": [
    "import pandas as pd\n",
    "\n",
    "data = pd.read_csv('data/data_draw_korea.csv')\n",
    "print(type(data))\n",
    "data.head()"
   ],
   "metadata": {
    "collapsed": false,
    "pycharm": {
     "name": "#%%\n"
    }
   }
  },
  {
   "cell_type": "code",
   "execution_count": 18,
   "outputs": [
    {
     "data": {
      "text/plain": "     Unnamed: 0     인구수 shortName  x   y      면적  광역시도 행정구역\n224         224  127462        제천  8  10  882.47  충청북도  제천시\n225         225   34480        증평  6  11   81.84  충청북도  증평군\n226         226   62809        진천  5  11  406.08  충청북도  진천군\n227         227  790216        청주  6  12  932.51  충청북도  청주시\n228         228  198077        충주  6  10  983.70  충청북도  충주시",
      "text/html": "<div>\n<style scoped>\n    .dataframe tbody tr th:only-of-type {\n        vertical-align: middle;\n    }\n\n    .dataframe tbody tr th {\n        vertical-align: top;\n    }\n\n    .dataframe thead th {\n        text-align: right;\n    }\n</style>\n<table border=\"1\" class=\"dataframe\">\n  <thead>\n    <tr style=\"text-align: right;\">\n      <th></th>\n      <th>Unnamed: 0</th>\n      <th>인구수</th>\n      <th>shortName</th>\n      <th>x</th>\n      <th>y</th>\n      <th>면적</th>\n      <th>광역시도</th>\n      <th>행정구역</th>\n    </tr>\n  </thead>\n  <tbody>\n    <tr>\n      <th>224</th>\n      <td>224</td>\n      <td>127462</td>\n      <td>제천</td>\n      <td>8</td>\n      <td>10</td>\n      <td>882.47</td>\n      <td>충청북도</td>\n      <td>제천시</td>\n    </tr>\n    <tr>\n      <th>225</th>\n      <td>225</td>\n      <td>34480</td>\n      <td>증평</td>\n      <td>6</td>\n      <td>11</td>\n      <td>81.84</td>\n      <td>충청북도</td>\n      <td>증평군</td>\n    </tr>\n    <tr>\n      <th>226</th>\n      <td>226</td>\n      <td>62809</td>\n      <td>진천</td>\n      <td>5</td>\n      <td>11</td>\n      <td>406.08</td>\n      <td>충청북도</td>\n      <td>진천군</td>\n    </tr>\n    <tr>\n      <th>227</th>\n      <td>227</td>\n      <td>790216</td>\n      <td>청주</td>\n      <td>6</td>\n      <td>12</td>\n      <td>932.51</td>\n      <td>충청북도</td>\n      <td>청주시</td>\n    </tr>\n    <tr>\n      <th>228</th>\n      <td>228</td>\n      <td>198077</td>\n      <td>충주</td>\n      <td>6</td>\n      <td>10</td>\n      <td>983.70</td>\n      <td>충청북도</td>\n      <td>충주시</td>\n    </tr>\n  </tbody>\n</table>\n</div>"
     },
     "execution_count": 18,
     "metadata": {},
     "output_type": "execute_result"
    }
   ],
   "source": [
    "data.tail()"
   ],
   "metadata": {
    "collapsed": false,
    "pycharm": {
     "name": "#%%\n"
    }
   }
  },
  {
   "cell_type": "code",
   "execution_count": 19,
   "outputs": [
    {
     "data": {
      "text/plain": "     Unnamed: 0     인구수 shortName  x   y      면적   광역시도 행정구역\n174         174   38705        보성  3  21  663.16   전라남도  보성군\n104         104  236524      대전동구  5  13  136.80  대전광역시   동구\n86           86   38571        청도  8  13  696.52   경상북도  청도군",
      "text/html": "<div>\n<style scoped>\n    .dataframe tbody tr th:only-of-type {\n        vertical-align: middle;\n    }\n\n    .dataframe tbody tr th {\n        vertical-align: top;\n    }\n\n    .dataframe thead th {\n        text-align: right;\n    }\n</style>\n<table border=\"1\" class=\"dataframe\">\n  <thead>\n    <tr style=\"text-align: right;\">\n      <th></th>\n      <th>Unnamed: 0</th>\n      <th>인구수</th>\n      <th>shortName</th>\n      <th>x</th>\n      <th>y</th>\n      <th>면적</th>\n      <th>광역시도</th>\n      <th>행정구역</th>\n    </tr>\n  </thead>\n  <tbody>\n    <tr>\n      <th>174</th>\n      <td>174</td>\n      <td>38705</td>\n      <td>보성</td>\n      <td>3</td>\n      <td>21</td>\n      <td>663.16</td>\n      <td>전라남도</td>\n      <td>보성군</td>\n    </tr>\n    <tr>\n      <th>104</th>\n      <td>104</td>\n      <td>236524</td>\n      <td>대전동구</td>\n      <td>5</td>\n      <td>13</td>\n      <td>136.80</td>\n      <td>대전광역시</td>\n      <td>동구</td>\n    </tr>\n    <tr>\n      <th>86</th>\n      <td>86</td>\n      <td>38571</td>\n      <td>청도</td>\n      <td>8</td>\n      <td>13</td>\n      <td>696.52</td>\n      <td>경상북도</td>\n      <td>청도군</td>\n    </tr>\n  </tbody>\n</table>\n</div>"
     },
     "execution_count": 19,
     "metadata": {},
     "output_type": "execute_result"
    }
   ],
   "source": [
    "data.sample(3)"
   ],
   "metadata": {
    "collapsed": false,
    "pycharm": {
     "name": "#%%\n"
    }
   }
  },
  {
   "cell_type": "code",
   "execution_count": 20,
   "outputs": [
    {
     "name": "stdout",
     "output_type": "stream",
     "text": [
      "(229, 8)\n",
      "Index(['Unnamed: 0', '인구수', 'shortName', 'x', 'y', '면적', '광역시도', '행정구역'], dtype='object')\n",
      "RangeIndex(start=0, stop=229, step=1)\n"
     ]
    }
   ],
   "source": [
    "print(data.shape)\n",
    "print(data.columns)\n",
    "print(data.index)"
   ],
   "metadata": {
    "collapsed": false,
    "pycharm": {
     "name": "#%%\n"
    }
   }
  },
  {
   "cell_type": "code",
   "execution_count": 21,
   "outputs": [
    {
     "name": "stdout",
     "output_type": "stream",
     "text": [
      "<class 'pandas.core.frame.DataFrame'>\n",
      "RangeIndex: 229 entries, 0 to 228\n",
      "Data columns (total 8 columns):\n",
      " #   Column      Non-Null Count  Dtype  \n",
      "---  ------      --------------  -----  \n",
      " 0   Unnamed: 0  229 non-null    int64  \n",
      " 1   인구수         229 non-null    int64  \n",
      " 2   shortName   229 non-null    object \n",
      " 3   x           229 non-null    int64  \n",
      " 4   y           229 non-null    int64  \n",
      " 5   면적          229 non-null    float64\n",
      " 6   광역시도        229 non-null    object \n",
      " 7   행정구역        229 non-null    object \n",
      "dtypes: float64(1), int64(4), object(3)\n",
      "memory usage: 14.4+ KB\n"
     ]
    }
   ],
   "source": [
    "data.info()"
   ],
   "metadata": {
    "collapsed": false,
    "pycharm": {
     "name": "#%%\n"
    }
   }
  },
  {
   "cell_type": "code",
   "execution_count": 22,
   "outputs": [
    {
     "data": {
      "text/plain": "       Unnamed: 0           인구수           x           y           면적\ncount  229.000000  2.290000e+02  229.000000  229.000000   229.000000\nmean   114.000000  2.110898e+05    6.117904   11.262009   435.419795\nstd     66.250786  2.074378e+05    3.320469    6.040898   381.612549\nmin      0.000000  8.392000e+03    0.000000    0.000000     2.800000\n25%     57.000000  4.955900e+04    3.000000    6.000000    54.000000\n50%    114.000000  1.401590e+05    6.000000   11.000000   436.400000\n75%    171.000000  3.216180e+05    9.000000   16.000000   692.800000\nmax    228.000000  1.125461e+06   13.000000   25.000000  1817.940000",
      "text/html": "<div>\n<style scoped>\n    .dataframe tbody tr th:only-of-type {\n        vertical-align: middle;\n    }\n\n    .dataframe tbody tr th {\n        vertical-align: top;\n    }\n\n    .dataframe thead th {\n        text-align: right;\n    }\n</style>\n<table border=\"1\" class=\"dataframe\">\n  <thead>\n    <tr style=\"text-align: right;\">\n      <th></th>\n      <th>Unnamed: 0</th>\n      <th>인구수</th>\n      <th>x</th>\n      <th>y</th>\n      <th>면적</th>\n    </tr>\n  </thead>\n  <tbody>\n    <tr>\n      <th>count</th>\n      <td>229.000000</td>\n      <td>2.290000e+02</td>\n      <td>229.000000</td>\n      <td>229.000000</td>\n      <td>229.000000</td>\n    </tr>\n    <tr>\n      <th>mean</th>\n      <td>114.000000</td>\n      <td>2.110898e+05</td>\n      <td>6.117904</td>\n      <td>11.262009</td>\n      <td>435.419795</td>\n    </tr>\n    <tr>\n      <th>std</th>\n      <td>66.250786</td>\n      <td>2.074378e+05</td>\n      <td>3.320469</td>\n      <td>6.040898</td>\n      <td>381.612549</td>\n    </tr>\n    <tr>\n      <th>min</th>\n      <td>0.000000</td>\n      <td>8.392000e+03</td>\n      <td>0.000000</td>\n      <td>0.000000</td>\n      <td>2.800000</td>\n    </tr>\n    <tr>\n      <th>25%</th>\n      <td>57.000000</td>\n      <td>4.955900e+04</td>\n      <td>3.000000</td>\n      <td>6.000000</td>\n      <td>54.000000</td>\n    </tr>\n    <tr>\n      <th>50%</th>\n      <td>114.000000</td>\n      <td>1.401590e+05</td>\n      <td>6.000000</td>\n      <td>11.000000</td>\n      <td>436.400000</td>\n    </tr>\n    <tr>\n      <th>75%</th>\n      <td>171.000000</td>\n      <td>3.216180e+05</td>\n      <td>9.000000</td>\n      <td>16.000000</td>\n      <td>692.800000</td>\n    </tr>\n    <tr>\n      <th>max</th>\n      <td>228.000000</td>\n      <td>1.125461e+06</td>\n      <td>13.000000</td>\n      <td>25.000000</td>\n      <td>1817.940000</td>\n    </tr>\n  </tbody>\n</table>\n</div>"
     },
     "execution_count": 22,
     "metadata": {},
     "output_type": "execute_result"
    }
   ],
   "source": [
    "data.describe()"
   ],
   "metadata": {
    "collapsed": false,
    "pycharm": {
     "name": "#%%\n"
    }
   }
  },
  {
   "cell_type": "code",
   "execution_count": 23,
   "outputs": [
    {
     "name": "stdout",
     "output_type": "stream",
     "text": [
      "인구수 최대값  1125461\n",
      "인구수 최소값  8392\n",
      "인구수 평균값  211089.77729257641\n",
      "인구수 표준편차값  207437.8370475227\n"
     ]
    }
   ],
   "source": [
    "print('인구수 최대값 ',data['인구수'].max())\n",
    "print('인구수 최소값 ',data['인구수'].min())\n",
    "print('인구수 평균값 ',data['인구수'].mean())\n",
    "print('인구수 표준편차값 ',data['인구수'].std())"
   ],
   "metadata": {
    "collapsed": false,
    "pycharm": {
     "name": "#%%\n"
    }
   }
  },
  {
   "cell_type": "code",
   "execution_count": 24,
   "outputs": [
    {
     "data": {
      "text/plain": "array(['강원도', '경기도', '경상남도', '경상북도', '광주광역시', '대구광역시', '대전광역시', '부산광역시',\n       '서울특별시', '세종특별자치시', '울산광역시', '인천광역시', '전라남도', '전라북도', '제주특별자치도',\n       '충청남도', '충청북도'], dtype=object)"
     },
     "execution_count": 24,
     "metadata": {},
     "output_type": "execute_result"
    }
   ],
   "source": [
    "#unique한 광역시도명\n",
    "data['광역시도'].unique()"
   ],
   "metadata": {
    "collapsed": false,
    "pycharm": {
     "name": "#%%\n"
    }
   }
  },
  {
   "cell_type": "code",
   "execution_count": 25,
   "outputs": [
    {
     "data": {
      "text/plain": "경기도        31\n서울특별시      25\n경상북도       23\n전라남도       22\n강원도        18\n경상남도       18\n부산광역시      16\n충청남도       15\n전라북도       14\n충청북도       11\n인천광역시      10\n대구광역시       8\n대전광역시       5\n광주광역시       5\n울산광역시       5\n제주특별자치도     2\n세종특별자치시     1\nName: 광역시도, dtype: int64"
     },
     "execution_count": 25,
     "metadata": {},
     "output_type": "execute_result"
    }
   ],
   "source": [
    "#광역시도 값 row counting\n",
    "data['광역시도'].value_counts()"
   ],
   "metadata": {
    "collapsed": false,
    "pycharm": {
     "name": "#%%\n"
    }
   }
  },
  {
   "cell_type": "code",
   "execution_count": 26,
   "outputs": [
    {
     "data": {
      "text/plain": "    Unnamed: 0     인구수 shortName  x  y     면적   광역시도  행정구역\n0          141  615487      서울송파  8  6  33.90  서울특별시   송파구\n1          127  554709      서울강서  4  4  41.40  서울특별시   강서구\n2          132  547202      서울노원  6  1  35.44  서울특별시   노원구\n3          124  526157      서울강남  6  7  39.50  서울특별시   강남구\n4          128  484478      서울관악  5  6  29.60  서울특별시   관악구\n5          145  464236      서울은평  4  3  29.70  서울특별시   은평구\n6          142  453634      서울양천  4  5  17.40  서울특별시   양천구\n7          140  434061      서울성북  6  2  24.57  서울특별시   성북구\n8          125  432028      서울강동  8  5  24.60  서울특별시   강동구\n9          138  407416      서울서초  6  6  47.04  서울특별시   서초구\n10         130  401233      서울구로  4  7  20.11  서울특별시   구로구\n11         148  391655      서울중랑  8  4  18.50  서울특별시   중랑구\n12         135  383917      서울동작  5  5  16.36  서울특별시   동작구\n13         136  364232      서울마포  5  4  23.87  서울특별시   마포구\n14         143  351837     서울영등포  4  6  24.56  서울특별시  영등포구\n15         129  342909      서울광진  7  6  17.05  서울특별시   광진구\n16         134  342429     서울동대문  7  4  14.20  서울특별시  동대문구\n17         133  331682      서울도봉  5  1  20.80  서울특별시   도봉구\n18         126  310292      서울강북  5  2  23.60  서울특별시   강북구\n19         137  288543     서울서대문  5  3  17.60  서울특별시  서대문구\n20         139  279939      서울성동  7  5  16.85  서울특별시   성동구\n21         131  222566      서울금천  5  7  13.01  서울특별시   금천구\n22         144  208603      서울용산  6  5  21.87  서울특별시   용산구\n23         146  140595      서울종로  6  3  23.90  서울특별시   종로구\n24         147  114967      서울중구  6  4   9.96  서울특별시    중구",
      "text/html": "<div>\n<style scoped>\n    .dataframe tbody tr th:only-of-type {\n        vertical-align: middle;\n    }\n\n    .dataframe tbody tr th {\n        vertical-align: top;\n    }\n\n    .dataframe thead th {\n        text-align: right;\n    }\n</style>\n<table border=\"1\" class=\"dataframe\">\n  <thead>\n    <tr style=\"text-align: right;\">\n      <th></th>\n      <th>Unnamed: 0</th>\n      <th>인구수</th>\n      <th>shortName</th>\n      <th>x</th>\n      <th>y</th>\n      <th>면적</th>\n      <th>광역시도</th>\n      <th>행정구역</th>\n    </tr>\n  </thead>\n  <tbody>\n    <tr>\n      <th>0</th>\n      <td>141</td>\n      <td>615487</td>\n      <td>서울송파</td>\n      <td>8</td>\n      <td>6</td>\n      <td>33.90</td>\n      <td>서울특별시</td>\n      <td>송파구</td>\n    </tr>\n    <tr>\n      <th>1</th>\n      <td>127</td>\n      <td>554709</td>\n      <td>서울강서</td>\n      <td>4</td>\n      <td>4</td>\n      <td>41.40</td>\n      <td>서울특별시</td>\n      <td>강서구</td>\n    </tr>\n    <tr>\n      <th>2</th>\n      <td>132</td>\n      <td>547202</td>\n      <td>서울노원</td>\n      <td>6</td>\n      <td>1</td>\n      <td>35.44</td>\n      <td>서울특별시</td>\n      <td>노원구</td>\n    </tr>\n    <tr>\n      <th>3</th>\n      <td>124</td>\n      <td>526157</td>\n      <td>서울강남</td>\n      <td>6</td>\n      <td>7</td>\n      <td>39.50</td>\n      <td>서울특별시</td>\n      <td>강남구</td>\n    </tr>\n    <tr>\n      <th>4</th>\n      <td>128</td>\n      <td>484478</td>\n      <td>서울관악</td>\n      <td>5</td>\n      <td>6</td>\n      <td>29.60</td>\n      <td>서울특별시</td>\n      <td>관악구</td>\n    </tr>\n    <tr>\n      <th>5</th>\n      <td>145</td>\n      <td>464236</td>\n      <td>서울은평</td>\n      <td>4</td>\n      <td>3</td>\n      <td>29.70</td>\n      <td>서울특별시</td>\n      <td>은평구</td>\n    </tr>\n    <tr>\n      <th>6</th>\n      <td>142</td>\n      <td>453634</td>\n      <td>서울양천</td>\n      <td>4</td>\n      <td>5</td>\n      <td>17.40</td>\n      <td>서울특별시</td>\n      <td>양천구</td>\n    </tr>\n    <tr>\n      <th>7</th>\n      <td>140</td>\n      <td>434061</td>\n      <td>서울성북</td>\n      <td>6</td>\n      <td>2</td>\n      <td>24.57</td>\n      <td>서울특별시</td>\n      <td>성북구</td>\n    </tr>\n    <tr>\n      <th>8</th>\n      <td>125</td>\n      <td>432028</td>\n      <td>서울강동</td>\n      <td>8</td>\n      <td>5</td>\n      <td>24.60</td>\n      <td>서울특별시</td>\n      <td>강동구</td>\n    </tr>\n    <tr>\n      <th>9</th>\n      <td>138</td>\n      <td>407416</td>\n      <td>서울서초</td>\n      <td>6</td>\n      <td>6</td>\n      <td>47.04</td>\n      <td>서울특별시</td>\n      <td>서초구</td>\n    </tr>\n    <tr>\n      <th>10</th>\n      <td>130</td>\n      <td>401233</td>\n      <td>서울구로</td>\n      <td>4</td>\n      <td>7</td>\n      <td>20.11</td>\n      <td>서울특별시</td>\n      <td>구로구</td>\n    </tr>\n    <tr>\n      <th>11</th>\n      <td>148</td>\n      <td>391655</td>\n      <td>서울중랑</td>\n      <td>8</td>\n      <td>4</td>\n      <td>18.50</td>\n      <td>서울특별시</td>\n      <td>중랑구</td>\n    </tr>\n    <tr>\n      <th>12</th>\n      <td>135</td>\n      <td>383917</td>\n      <td>서울동작</td>\n      <td>5</td>\n      <td>5</td>\n      <td>16.36</td>\n      <td>서울특별시</td>\n      <td>동작구</td>\n    </tr>\n    <tr>\n      <th>13</th>\n      <td>136</td>\n      <td>364232</td>\n      <td>서울마포</td>\n      <td>5</td>\n      <td>4</td>\n      <td>23.87</td>\n      <td>서울특별시</td>\n      <td>마포구</td>\n    </tr>\n    <tr>\n      <th>14</th>\n      <td>143</td>\n      <td>351837</td>\n      <td>서울영등포</td>\n      <td>4</td>\n      <td>6</td>\n      <td>24.56</td>\n      <td>서울특별시</td>\n      <td>영등포구</td>\n    </tr>\n    <tr>\n      <th>15</th>\n      <td>129</td>\n      <td>342909</td>\n      <td>서울광진</td>\n      <td>7</td>\n      <td>6</td>\n      <td>17.05</td>\n      <td>서울특별시</td>\n      <td>광진구</td>\n    </tr>\n    <tr>\n      <th>16</th>\n      <td>134</td>\n      <td>342429</td>\n      <td>서울동대문</td>\n      <td>7</td>\n      <td>4</td>\n      <td>14.20</td>\n      <td>서울특별시</td>\n      <td>동대문구</td>\n    </tr>\n    <tr>\n      <th>17</th>\n      <td>133</td>\n      <td>331682</td>\n      <td>서울도봉</td>\n      <td>5</td>\n      <td>1</td>\n      <td>20.80</td>\n      <td>서울특별시</td>\n      <td>도봉구</td>\n    </tr>\n    <tr>\n      <th>18</th>\n      <td>126</td>\n      <td>310292</td>\n      <td>서울강북</td>\n      <td>5</td>\n      <td>2</td>\n      <td>23.60</td>\n      <td>서울특별시</td>\n      <td>강북구</td>\n    </tr>\n    <tr>\n      <th>19</th>\n      <td>137</td>\n      <td>288543</td>\n      <td>서울서대문</td>\n      <td>5</td>\n      <td>3</td>\n      <td>17.60</td>\n      <td>서울특별시</td>\n      <td>서대문구</td>\n    </tr>\n    <tr>\n      <th>20</th>\n      <td>139</td>\n      <td>279939</td>\n      <td>서울성동</td>\n      <td>7</td>\n      <td>5</td>\n      <td>16.85</td>\n      <td>서울특별시</td>\n      <td>성동구</td>\n    </tr>\n    <tr>\n      <th>21</th>\n      <td>131</td>\n      <td>222566</td>\n      <td>서울금천</td>\n      <td>5</td>\n      <td>7</td>\n      <td>13.01</td>\n      <td>서울특별시</td>\n      <td>금천구</td>\n    </tr>\n    <tr>\n      <th>22</th>\n      <td>144</td>\n      <td>208603</td>\n      <td>서울용산</td>\n      <td>6</td>\n      <td>5</td>\n      <td>21.87</td>\n      <td>서울특별시</td>\n      <td>용산구</td>\n    </tr>\n    <tr>\n      <th>23</th>\n      <td>146</td>\n      <td>140595</td>\n      <td>서울종로</td>\n      <td>6</td>\n      <td>3</td>\n      <td>23.90</td>\n      <td>서울특별시</td>\n      <td>종로구</td>\n    </tr>\n    <tr>\n      <th>24</th>\n      <td>147</td>\n      <td>114967</td>\n      <td>서울중구</td>\n      <td>6</td>\n      <td>4</td>\n      <td>9.96</td>\n      <td>서울특별시</td>\n      <td>중구</td>\n    </tr>\n  </tbody>\n</table>\n</div>"
     },
     "execution_count": 26,
     "metadata": {},
     "output_type": "execute_result"
    }
   ],
   "source": [
    "#서울특별시에 속한 구에 대한 정보 선택하기\n",
    "#입력으로 광역시도 이름을 받아서 광역시도에 속한 행정구역정보를 반환하는 함수 만들기\n",
    "data.loc[data['광역시도'] == '서울특별시'].sort_values(by='인구수',ascending=False).reset_index(drop=True)"
   ],
   "metadata": {
    "collapsed": false,
    "pycharm": {
     "name": "#%%\n"
    }
   }
  },
  {
   "cell_type": "code",
   "execution_count": 27,
   "outputs": [
    {
     "name": "stdout",
     "output_type": "stream",
     "text": [
      "인구수 평균 375792.28\n",
      "인구수 표준편차 125231.24797500289\n"
     ]
    }
   ],
   "source": [
    "#서울특별시의 인구수의 평균과 표준편차\n",
    "print('인구수 평균', data.loc[data['광역시도'] == '서울특별시','인구수'].mean())\n",
    "print('인구수 표준편차',data.loc[data['광역시도'] == '서울특별시','인구수'].std())"
   ],
   "metadata": {
    "collapsed": false,
    "pycharm": {
     "name": "#%%\n"
    }
   }
  },
  {
   "cell_type": "code",
   "execution_count": 28,
   "outputs": [],
   "source": [
    "#경기도의 인구수의 평균과 표준편차를 출력하시오 (함수로 만들어서 출력하기)\n",
    "#경기도와 서울특별시의 인구수의 표준편차가 어느지역이 더 큰가요? 표준편차가 더 크다면 어떤 의미인지 생각해보기\n",
    "def print_mean_std(sido_name):\n",
    "    print(f'광역시도 = {sido_name}')\n",
    "    print('인구수 평균', data.loc[data['광역시도'] == sido_name,'인구수'].mean())\n",
    "    print('인구수 표준편차',data.loc[data['광역시도'] == sido_name,'인구수'].std())"
   ],
   "metadata": {
    "collapsed": false,
    "pycharm": {
     "name": "#%%\n"
    }
   }
  },
  {
   "cell_type": "code",
   "execution_count": 29,
   "outputs": [
    {
     "name": "stdout",
     "output_type": "stream",
     "text": [
      "광역시도 = 경기도\n",
      "인구수 평균 378845.48387096776\n",
      "인구수 표준편차 304548.39514203876\n"
     ]
    }
   ],
   "source": [
    "print_mean_std('경기도')"
   ],
   "metadata": {
    "collapsed": false,
    "pycharm": {
     "name": "#%%\n"
    }
   }
  },
  {
   "cell_type": "code",
   "execution_count": 30,
   "outputs": [
    {
     "name": "stdout",
     "output_type": "stream",
     "text": [
      "광역시도 = 강원도\n",
      "인구수 평균 79413.22222222222\n",
      "인구수 표준편차 87316.38323837094\n",
      "광역시도 = 경기도\n",
      "인구수 평균 378845.48387096776\n",
      "인구수 표준편차 304548.39514203876\n",
      "광역시도 = 경상남도\n",
      "인구수 평균 174693.72222222222\n",
      "인구수 표준편차 245796.4650767224\n",
      "광역시도 = 경상북도\n",
      "인구수 평균 109085.39130434782\n",
      "인구수 표준편차 124954.74088490057\n",
      "광역시도 = 광주광역시\n",
      "인구수 평균 287641.8\n",
      "인구수 표준편차 137076.68320578814\n",
      "광역시도 = 대구광역시\n",
      "인구수 평균 297306.25\n",
      "인구수 표준편차 174375.39437968715\n",
      "광역시도 = 대전광역시\n",
      "인구수 평균 293535.4\n",
      "인구수 표준편차 111853.57188217103\n",
      "광역시도 = 부산광역시\n",
      "인구수 평균 207724.4375\n",
      "인구수 표준편차 106246.04138380481\n",
      "광역시도 = 서울특별시\n",
      "인구수 평균 375792.28\n",
      "인구수 표준편차 125231.24797500289\n",
      "광역시도 = 세종특별자치시\n",
      "인구수 평균 191233.0\n",
      "인구수 표준편차 nan\n",
      "광역시도 = 울산광역시\n",
      "인구수 평균 221117.0\n",
      "인구수 표준편차 64163.28658196991\n",
      "광역시도 = 인천광역시\n",
      "인구수 평균 276657.5\n",
      "인구수 표준편차 199353.5964908417\n",
      "광역시도 = 전라남도\n",
      "인구수 평균 77298.31818181818\n",
      "인구수 표준편차 74413.25322969875\n",
      "광역시도 = 전라북도\n",
      "인구수 평균 124217.71428571429\n",
      "인구수 표준편차 168327.13482128442\n",
      "광역시도 = 제주특별자치도\n",
      "인구수 평균 287936.5\n",
      "인구수 표준편차 201620.89205362622\n",
      "광역시도 = 충청남도\n",
      "인구수 평균 129741.93333333333\n",
      "인구수 표준편차 141125.1080796583\n",
      "광역시도 = 충청북도\n",
      "인구수 평균 134974.54545454544\n",
      "인구수 표준편차 223460.35665744546\n"
     ]
    }
   ],
   "source": [
    "for sido_name in data['광역시도'].unique():\n",
    "    print_mean_std(sido_name)"
   ],
   "metadata": {
    "collapsed": false,
    "pycharm": {
     "name": "#%%\n"
    }
   }
  },
  {
   "cell_type": "code",
   "execution_count": 31,
   "outputs": [
    {
     "data": {
      "text/plain": "   행정구역     인구수       면적\n0   포항시  488395  1127.00\n1   구미시  396685   616.10\n2   경산시  251220   411.58\n3   경주시  242618  1323.85\n4   안동시  157317  1519.00\n5   김천시  127941  1009.56\n6   칠곡군  112446   451.00\n7   영주시  101612   668.45\n8   상주시   93305  1254.82\n9   영천시   91214   919.76\n10  문경시   67919   912.00\n11  의성군   48776  1175.89\n12  울진군   46748   989.06\n13  예천군   40779   660.70\n14  청도군   38571   696.52\n15  성주군   38277   616.28\n16  영덕군   34864   741.05\n17  고령군   31189   383.70\n18  봉화군   30287  1201.00\n19  청송군   23804   842.45\n20  군위군   20596   614.15\n21  영양군   16009   815.11\n22  울릉군    8392    72.82",
      "text/html": "<div>\n<style scoped>\n    .dataframe tbody tr th:only-of-type {\n        vertical-align: middle;\n    }\n\n    .dataframe tbody tr th {\n        vertical-align: top;\n    }\n\n    .dataframe thead th {\n        text-align: right;\n    }\n</style>\n<table border=\"1\" class=\"dataframe\">\n  <thead>\n    <tr style=\"text-align: right;\">\n      <th></th>\n      <th>행정구역</th>\n      <th>인구수</th>\n      <th>면적</th>\n    </tr>\n  </thead>\n  <tbody>\n    <tr>\n      <th>0</th>\n      <td>포항시</td>\n      <td>488395</td>\n      <td>1127.00</td>\n    </tr>\n    <tr>\n      <th>1</th>\n      <td>구미시</td>\n      <td>396685</td>\n      <td>616.10</td>\n    </tr>\n    <tr>\n      <th>2</th>\n      <td>경산시</td>\n      <td>251220</td>\n      <td>411.58</td>\n    </tr>\n    <tr>\n      <th>3</th>\n      <td>경주시</td>\n      <td>242618</td>\n      <td>1323.85</td>\n    </tr>\n    <tr>\n      <th>4</th>\n      <td>안동시</td>\n      <td>157317</td>\n      <td>1519.00</td>\n    </tr>\n    <tr>\n      <th>5</th>\n      <td>김천시</td>\n      <td>127941</td>\n      <td>1009.56</td>\n    </tr>\n    <tr>\n      <th>6</th>\n      <td>칠곡군</td>\n      <td>112446</td>\n      <td>451.00</td>\n    </tr>\n    <tr>\n      <th>7</th>\n      <td>영주시</td>\n      <td>101612</td>\n      <td>668.45</td>\n    </tr>\n    <tr>\n      <th>8</th>\n      <td>상주시</td>\n      <td>93305</td>\n      <td>1254.82</td>\n    </tr>\n    <tr>\n      <th>9</th>\n      <td>영천시</td>\n      <td>91214</td>\n      <td>919.76</td>\n    </tr>\n    <tr>\n      <th>10</th>\n      <td>문경시</td>\n      <td>67919</td>\n      <td>912.00</td>\n    </tr>\n    <tr>\n      <th>11</th>\n      <td>의성군</td>\n      <td>48776</td>\n      <td>1175.89</td>\n    </tr>\n    <tr>\n      <th>12</th>\n      <td>울진군</td>\n      <td>46748</td>\n      <td>989.06</td>\n    </tr>\n    <tr>\n      <th>13</th>\n      <td>예천군</td>\n      <td>40779</td>\n      <td>660.70</td>\n    </tr>\n    <tr>\n      <th>14</th>\n      <td>청도군</td>\n      <td>38571</td>\n      <td>696.52</td>\n    </tr>\n    <tr>\n      <th>15</th>\n      <td>성주군</td>\n      <td>38277</td>\n      <td>616.28</td>\n    </tr>\n    <tr>\n      <th>16</th>\n      <td>영덕군</td>\n      <td>34864</td>\n      <td>741.05</td>\n    </tr>\n    <tr>\n      <th>17</th>\n      <td>고령군</td>\n      <td>31189</td>\n      <td>383.70</td>\n    </tr>\n    <tr>\n      <th>18</th>\n      <td>봉화군</td>\n      <td>30287</td>\n      <td>1201.00</td>\n    </tr>\n    <tr>\n      <th>19</th>\n      <td>청송군</td>\n      <td>23804</td>\n      <td>842.45</td>\n    </tr>\n    <tr>\n      <th>20</th>\n      <td>군위군</td>\n      <td>20596</td>\n      <td>614.15</td>\n    </tr>\n    <tr>\n      <th>21</th>\n      <td>영양군</td>\n      <td>16009</td>\n      <td>815.11</td>\n    </tr>\n    <tr>\n      <th>22</th>\n      <td>울릉군</td>\n      <td>8392</td>\n      <td>72.82</td>\n    </tr>\n  </tbody>\n</table>\n</div>"
     },
     "execution_count": 31,
     "metadata": {},
     "output_type": "execute_result"
    }
   ],
   "source": [
    "data.loc[data['광역시도'] == '경상북도', ['행정구역', '인구수', '면적']].sort_values(by=['인구수', '면적'], ascending=False).reset_index(drop=True)"
   ],
   "metadata": {
    "collapsed": false,
    "pycharm": {
     "name": "#%%\n"
    }
   }
  },
  {
   "cell_type": "code",
   "execution_count": 34,
   "outputs": [
    {
     "data": {
      "text/plain": "Index(['Unnamed: 0', '인구수', 'shortName', 'x', 'y', '면적', '광역시도', '행정구역'], dtype='object')"
     },
     "execution_count": 34,
     "metadata": {},
     "output_type": "execute_result"
    }
   ],
   "source": [
    "data.columns"
   ],
   "metadata": {
    "collapsed": false,
    "pycharm": {
     "name": "#%%\n"
    }
   }
  },
  {
   "cell_type": "code",
   "execution_count": 33,
   "outputs": [
    {
     "data": {
      "text/plain": "       인구수 shortName  x  y       면적 광역시도\n20   63227        과천  7  7   35.813  경기도\n21  327111        광명  3  3   38.500  경기도\n22  290210        광주  8  7  431.840  경기도\n23  175676        구리  9  4   33.300  경기도\n24  273302        군포  5  8   36.350  경기도\n25  326523        김포  2  3  276.640  경기도",
      "text/html": "<div>\n<style scoped>\n    .dataframe tbody tr th:only-of-type {\n        vertical-align: middle;\n    }\n\n    .dataframe tbody tr th {\n        vertical-align: top;\n    }\n\n    .dataframe thead th {\n        text-align: right;\n    }\n</style>\n<table border=\"1\" class=\"dataframe\">\n  <thead>\n    <tr style=\"text-align: right;\">\n      <th></th>\n      <th>인구수</th>\n      <th>shortName</th>\n      <th>x</th>\n      <th>y</th>\n      <th>면적</th>\n      <th>광역시도</th>\n    </tr>\n  </thead>\n  <tbody>\n    <tr>\n      <th>20</th>\n      <td>63227</td>\n      <td>과천</td>\n      <td>7</td>\n      <td>7</td>\n      <td>35.813</td>\n      <td>경기도</td>\n    </tr>\n    <tr>\n      <th>21</th>\n      <td>327111</td>\n      <td>광명</td>\n      <td>3</td>\n      <td>3</td>\n      <td>38.500</td>\n      <td>경기도</td>\n    </tr>\n    <tr>\n      <th>22</th>\n      <td>290210</td>\n      <td>광주</td>\n      <td>8</td>\n      <td>7</td>\n      <td>431.840</td>\n      <td>경기도</td>\n    </tr>\n    <tr>\n      <th>23</th>\n      <td>175676</td>\n      <td>구리</td>\n      <td>9</td>\n      <td>4</td>\n      <td>33.300</td>\n      <td>경기도</td>\n    </tr>\n    <tr>\n      <th>24</th>\n      <td>273302</td>\n      <td>군포</td>\n      <td>5</td>\n      <td>8</td>\n      <td>36.350</td>\n      <td>경기도</td>\n    </tr>\n    <tr>\n      <th>25</th>\n      <td>326523</td>\n      <td>김포</td>\n      <td>2</td>\n      <td>3</td>\n      <td>276.640</td>\n      <td>경기도</td>\n    </tr>\n  </tbody>\n</table>\n</div>"
     },
     "execution_count": 33,
     "metadata": {},
     "output_type": "execute_result"
    }
   ],
   "source": [
    "# use loc\n",
    "data.loc[20:25, '인구수':'광역시도']"
   ],
   "metadata": {
    "collapsed": false,
    "pycharm": {
     "name": "#%%\n"
    }
   }
  },
  {
   "cell_type": "code",
   "execution_count": 35,
   "outputs": [
    {
     "data": {
      "text/plain": "       인구수 shortName  x\n20   63227        과천  7\n21  327111        광명  3\n22  290210        광주  8\n23  175676        구리  9\n24  273302        군포  5",
      "text/html": "<div>\n<style scoped>\n    .dataframe tbody tr th:only-of-type {\n        vertical-align: middle;\n    }\n\n    .dataframe tbody tr th {\n        vertical-align: top;\n    }\n\n    .dataframe thead th {\n        text-align: right;\n    }\n</style>\n<table border=\"1\" class=\"dataframe\">\n  <thead>\n    <tr style=\"text-align: right;\">\n      <th></th>\n      <th>인구수</th>\n      <th>shortName</th>\n      <th>x</th>\n    </tr>\n  </thead>\n  <tbody>\n    <tr>\n      <th>20</th>\n      <td>63227</td>\n      <td>과천</td>\n      <td>7</td>\n    </tr>\n    <tr>\n      <th>21</th>\n      <td>327111</td>\n      <td>광명</td>\n      <td>3</td>\n    </tr>\n    <tr>\n      <th>22</th>\n      <td>290210</td>\n      <td>광주</td>\n      <td>8</td>\n    </tr>\n    <tr>\n      <th>23</th>\n      <td>175676</td>\n      <td>구리</td>\n      <td>9</td>\n    </tr>\n    <tr>\n      <th>24</th>\n      <td>273302</td>\n      <td>군포</td>\n      <td>5</td>\n    </tr>\n  </tbody>\n</table>\n</div>"
     },
     "execution_count": 35,
     "metadata": {},
     "output_type": "execute_result"
    }
   ],
   "source": [
    "# use iloc\n",
    "# index 20 ~ 25, column index 1 ~ 4\n",
    "data.iloc[20:25, 1:4]"
   ],
   "metadata": {
    "collapsed": false,
    "pycharm": {
     "name": "#%%\n"
    }
   }
  },
  {
   "cell_type": "code",
   "execution_count": 46,
   "outputs": [
    {
     "name": "stdout",
     "output_type": "stream",
     "text": [
      "211089.77729257641\n",
      "211090\n",
      "211089.78\n"
     ]
    }
   ],
   "source": [
    "# 인구수가 전국 평균 인구수보다 작은 지역 선택\n",
    "# 결과는 엑셀로 저장\n",
    "pop_mean_value = data['인구수'].mean()\n",
    "print(pop_mean_value)\n",
    "# 올림\n",
    "print(round(pop_mean_value))\n",
    "# 소수점 이하 둘째 자리 까지\n",
    "print(f'{pop_mean_value:.2f}')\n",
    "pop_mean_lt_df = data.loc[data['인구수'] < pop_mean_value,'인구수':'행정구역'].sort_values(by='인구수').reset_index(drop=True)\n",
    "pop_mean_lt_df.to_excel('data/평균인구수미만지역.xlsx')"
   ],
   "metadata": {
    "collapsed": false,
    "pycharm": {
     "name": "#%%\n"
    }
   }
  },
  {
   "cell_type": "code",
   "execution_count": 51,
   "outputs": [],
   "source": [
    "# 컬럼명 변경\n",
    "data = data.rename(columns={'Unnamed: 0':'seq'})"
   ],
   "metadata": {
    "collapsed": false,
    "pycharm": {
     "name": "#%%\n"
    }
   }
  },
  {
   "cell_type": "code",
   "execution_count": 55,
   "outputs": [],
   "source": [
    "# seq 컬럼을 index로 변경\n",
    "data = data.set_index('seq')"
   ],
   "metadata": {
    "collapsed": false,
    "pycharm": {
     "name": "#%%\n"
    }
   }
  },
  {
   "cell_type": "code",
   "execution_count": 56,
   "outputs": [
    {
     "data": {
      "text/plain": "        인구수 shortName   x  y       면적 광역시도 행정구역\nseq                                            \n0    202520        강릉  11  4  1040.07  강원도  강릉시\n1     25589    고성(강원)   9  0   664.19  강원도  고성군\n2     86747        동해  11  5   180.01  강원도  동해시\n3     63986        삼척  11  8  1185.80  강원도  삼척시\n4     76733        속초   9  1   105.25  강원도  속초시",
      "text/html": "<div>\n<style scoped>\n    .dataframe tbody tr th:only-of-type {\n        vertical-align: middle;\n    }\n\n    .dataframe tbody tr th {\n        vertical-align: top;\n    }\n\n    .dataframe thead th {\n        text-align: right;\n    }\n</style>\n<table border=\"1\" class=\"dataframe\">\n  <thead>\n    <tr style=\"text-align: right;\">\n      <th></th>\n      <th>인구수</th>\n      <th>shortName</th>\n      <th>x</th>\n      <th>y</th>\n      <th>면적</th>\n      <th>광역시도</th>\n      <th>행정구역</th>\n    </tr>\n    <tr>\n      <th>seq</th>\n      <th></th>\n      <th></th>\n      <th></th>\n      <th></th>\n      <th></th>\n      <th></th>\n      <th></th>\n    </tr>\n  </thead>\n  <tbody>\n    <tr>\n      <th>0</th>\n      <td>202520</td>\n      <td>강릉</td>\n      <td>11</td>\n      <td>4</td>\n      <td>1040.07</td>\n      <td>강원도</td>\n      <td>강릉시</td>\n    </tr>\n    <tr>\n      <th>1</th>\n      <td>25589</td>\n      <td>고성(강원)</td>\n      <td>9</td>\n      <td>0</td>\n      <td>664.19</td>\n      <td>강원도</td>\n      <td>고성군</td>\n    </tr>\n    <tr>\n      <th>2</th>\n      <td>86747</td>\n      <td>동해</td>\n      <td>11</td>\n      <td>5</td>\n      <td>180.01</td>\n      <td>강원도</td>\n      <td>동해시</td>\n    </tr>\n    <tr>\n      <th>3</th>\n      <td>63986</td>\n      <td>삼척</td>\n      <td>11</td>\n      <td>8</td>\n      <td>1185.80</td>\n      <td>강원도</td>\n      <td>삼척시</td>\n    </tr>\n    <tr>\n      <th>4</th>\n      <td>76733</td>\n      <td>속초</td>\n      <td>9</td>\n      <td>1</td>\n      <td>105.25</td>\n      <td>강원도</td>\n      <td>속초시</td>\n    </tr>\n  </tbody>\n</table>\n</div>"
     },
     "execution_count": 56,
     "metadata": {},
     "output_type": "execute_result"
    }
   ],
   "source": [
    "data.head()"
   ],
   "metadata": {
    "collapsed": false,
    "pycharm": {
     "name": "#%%\n"
    }
   }
  },
  {
   "cell_type": "markdown",
   "source": [
    "## 광역시도별 인구수가 가장 많은 행정 구역\n",
    "* unique(), value_counts(), max() method\n",
    "* 사용자 정의 method"
   ],
   "metadata": {
    "collapsed": false,
    "pycharm": {
     "name": "#%% md\n"
    }
   }
  },
  {
   "cell_type": "code",
   "execution_count": 58,
   "outputs": [
    {
     "data": {
      "text/plain": "    행정구역      인구수\nseq              \n30   수원시  1125461\n19   고양시   955384\n40   용인시   915005\n29   성남시   911628\n28   부천시   805473",
      "text/html": "<div>\n<style scoped>\n    .dataframe tbody tr th:only-of-type {\n        vertical-align: middle;\n    }\n\n    .dataframe tbody tr th {\n        vertical-align: top;\n    }\n\n    .dataframe thead th {\n        text-align: right;\n    }\n</style>\n<table border=\"1\" class=\"dataframe\">\n  <thead>\n    <tr style=\"text-align: right;\">\n      <th></th>\n      <th>행정구역</th>\n      <th>인구수</th>\n    </tr>\n    <tr>\n      <th>seq</th>\n      <th></th>\n      <th></th>\n    </tr>\n  </thead>\n  <tbody>\n    <tr>\n      <th>30</th>\n      <td>수원시</td>\n      <td>1125461</td>\n    </tr>\n    <tr>\n      <th>19</th>\n      <td>고양시</td>\n      <td>955384</td>\n    </tr>\n    <tr>\n      <th>40</th>\n      <td>용인시</td>\n      <td>915005</td>\n    </tr>\n    <tr>\n      <th>29</th>\n      <td>성남시</td>\n      <td>911628</td>\n    </tr>\n    <tr>\n      <th>28</th>\n      <td>부천시</td>\n      <td>805473</td>\n    </tr>\n  </tbody>\n</table>\n</div>"
     },
     "execution_count": 58,
     "metadata": {},
     "output_type": "execute_result"
    }
   ],
   "source": [
    "# 경기도에서 인구수가 가장 많은 행정구역\n",
    "data.loc[data['광역시도'] == '경기도', ['행정구역', '인구수']].sort_values(by='인구수', ascending=False).head()"
   ],
   "metadata": {
    "collapsed": false,
    "pycharm": {
     "name": "#%%\n"
    }
   }
  },
  {
   "cell_type": "code",
   "execution_count": 59,
   "outputs": [
    {
     "data": {
      "text/plain": "1125461"
     },
     "execution_count": 59,
     "metadata": {},
     "output_type": "execute_result"
    }
   ],
   "source": [
    "pop_max_value = data.loc[data['광역시도'] == '경기도', '인구수'].max()\n",
    "pop_max_value"
   ],
   "metadata": {
    "collapsed": false,
    "pycharm": {
     "name": "#%%\n"
    }
   }
  },
  {
   "cell_type": "code",
   "execution_count": 60,
   "outputs": [
    {
     "data": {
      "text/plain": "         인구수 shortName  x  y      면적 광역시도 행정구역\nseq                                           \n30   1125461        수원  6  9  121.09  경기도  수원시",
      "text/html": "<div>\n<style scoped>\n    .dataframe tbody tr th:only-of-type {\n        vertical-align: middle;\n    }\n\n    .dataframe tbody tr th {\n        vertical-align: top;\n    }\n\n    .dataframe thead th {\n        text-align: right;\n    }\n</style>\n<table border=\"1\" class=\"dataframe\">\n  <thead>\n    <tr style=\"text-align: right;\">\n      <th></th>\n      <th>인구수</th>\n      <th>shortName</th>\n      <th>x</th>\n      <th>y</th>\n      <th>면적</th>\n      <th>광역시도</th>\n      <th>행정구역</th>\n    </tr>\n    <tr>\n      <th>seq</th>\n      <th></th>\n      <th></th>\n      <th></th>\n      <th></th>\n      <th></th>\n      <th></th>\n      <th></th>\n    </tr>\n  </thead>\n  <tbody>\n    <tr>\n      <th>30</th>\n      <td>1125461</td>\n      <td>수원</td>\n      <td>6</td>\n      <td>9</td>\n      <td>121.09</td>\n      <td>경기도</td>\n      <td>수원시</td>\n    </tr>\n  </tbody>\n</table>\n</div>"
     },
     "execution_count": 60,
     "metadata": {},
     "output_type": "execute_result"
    }
   ],
   "source": [
    "# 광역시도가 경기도 & 인구수 = pop_max_value\n",
    "data.loc[(data['광역시도'] == '경기도') & (data['인구수'] == pop_max_value)]"
   ],
   "metadata": {
    "collapsed": false,
    "pycharm": {
     "name": "#%%\n"
    }
   }
  },
  {
   "cell_type": "code",
   "execution_count": 70,
   "outputs": [],
   "source": [
    "def get_pop_max_city(sido_name):\n",
    "    pop_max_value = data.loc[data['광역시도'] == sido_name, '인구수'].max()\n",
    "    print(pop_max_value)\n",
    "    return data.loc[(data['광역시도'] == sido_name) & (data['인구수'] == pop_max_value), ['광역시도', '행정구역', '인구수']]"
   ],
   "metadata": {
    "collapsed": false,
    "pycharm": {
     "name": "#%%\n"
    }
   }
  },
  {
   "cell_type": "code",
   "execution_count": 71,
   "outputs": [
    {
     "name": "stdout",
     "output_type": "stream",
     "text": [
      "615487\n"
     ]
    },
    {
     "data": {
      "text/plain": "      광역시도 행정구역     인구수\nseq                    \n141  서울특별시  송파구  615487",
      "text/html": "<div>\n<style scoped>\n    .dataframe tbody tr th:only-of-type {\n        vertical-align: middle;\n    }\n\n    .dataframe tbody tr th {\n        vertical-align: top;\n    }\n\n    .dataframe thead th {\n        text-align: right;\n    }\n</style>\n<table border=\"1\" class=\"dataframe\">\n  <thead>\n    <tr style=\"text-align: right;\">\n      <th></th>\n      <th>광역시도</th>\n      <th>행정구역</th>\n      <th>인구수</th>\n    </tr>\n    <tr>\n      <th>seq</th>\n      <th></th>\n      <th></th>\n      <th></th>\n    </tr>\n  </thead>\n  <tbody>\n    <tr>\n      <th>141</th>\n      <td>서울특별시</td>\n      <td>송파구</td>\n      <td>615487</td>\n    </tr>\n  </tbody>\n</table>\n</div>"
     },
     "execution_count": 71,
     "metadata": {},
     "output_type": "execute_result"
    }
   ],
   "source": [
    "get_pop_max_city('서울특별시')"
   ],
   "metadata": {
    "collapsed": false,
    "pycharm": {
     "name": "#%%\n"
    }
   }
  },
  {
   "cell_type": "code",
   "execution_count": 73,
   "outputs": [
    {
     "name": "stdout",
     "output_type": "stream",
     "text": [
      "313851\n",
      "    광역시도 행정구역     인구수\n",
      "seq                  \n",
      "8    강원도  원주시  313851\n",
      "1125461\n",
      "    광역시도 행정구역      인구수\n",
      "seq                   \n",
      "30   경기도  수원시  1125461\n",
      "1010040\n",
      "     광역시도 행정구역      인구수\n",
      "seq                    \n",
      "61   경상남도  창원시  1010040\n",
      "488395\n",
      "     광역시도 행정구역     인구수\n",
      "seq                   \n",
      "89   경상북도  포항시  488395\n",
      "439683\n",
      "      광역시도 행정구역     인구수\n",
      "seq                    \n",
      "93   광주광역시   북구  439683\n",
      "584517\n",
      "      광역시도 행정구역     인구수\n",
      "seq                    \n",
      "96   대구광역시  달서구  584517\n",
      "475094\n",
      "      광역시도 행정구역     인구수\n",
      "seq                    \n",
      "105  대전광역시   서구  475094\n",
      "397134\n",
      "      광역시도  행정구역     인구수\n",
      "seq                     \n",
      "123  부산광역시  해운대구  397134\n",
      "615487\n",
      "      광역시도 행정구역     인구수\n",
      "seq                    \n",
      "141  서울특별시  송파구  615487\n",
      "191233\n",
      "        광역시도 행정구역     인구수\n",
      "seq                      \n",
      "149  세종특별자치시  세종시  191233\n",
      "327270\n",
      "      광역시도 행정구역     인구수\n",
      "seq                    \n",
      "150  울산광역시   남구  327270\n",
      "527153\n",
      "      광역시도 행정구역     인구수\n",
      "seq                    \n",
      "160  인천광역시  부평구  527153\n",
      "263166\n",
      "     광역시도 행정구역     인구수\n",
      "seq                   \n",
      "177  전라남도  여수시  263166\n",
      "630708\n",
      "     광역시도 행정구역     인구수\n",
      "seq                   \n",
      "198  전라북도  전주시  630708\n",
      "430504\n",
      "        광역시도 행정구역     인구수\n",
      "seq                      \n",
      "202  제주특별자치도  제주시  430504\n",
      "584912\n",
      "     광역시도 행정구역     인구수\n",
      "seq                   \n",
      "214  충청남도  천안시  584912\n",
      "790216\n",
      "     광역시도 행정구역     인구수\n",
      "seq                   \n",
      "227  충청북도  청주시  790216\n"
     ]
    }
   ],
   "source": [
    "for sido_name in data['광역시도'].unique():\n",
    "    print(get_pop_max_city(sido_name))"
   ],
   "metadata": {
    "collapsed": false,
    "pycharm": {
     "name": "#%%\n"
    }
   }
  },
  {
   "cell_type": "code",
   "execution_count": 79,
   "outputs": [
    {
     "name": "stdout",
     "output_type": "stream",
     "text": [
      "313851\n",
      "1125461\n",
      "1010040\n",
      "488395\n",
      "439683\n",
      "584517\n",
      "475094\n",
      "397134\n",
      "615487\n",
      "191233\n",
      "327270\n",
      "527153\n",
      "263166\n",
      "630708\n",
      "430504\n",
      "584912\n",
      "790216\n"
     ]
    },
    {
     "data": {
      "text/plain": "       광역시도  행정구역      인구수\n0       강원도   원주시   313851\n1       경기도   수원시  1125461\n2      경상남도   창원시  1010040\n3      경상북도   포항시   488395\n4     광주광역시    북구   439683\n5     대구광역시   달서구   584517\n6     대전광역시    서구   475094\n7     부산광역시  해운대구   397134\n8     서울특별시   송파구   615487\n9   세종특별자치시   세종시   191233\n10    울산광역시    남구   327270\n11    인천광역시   부평구   527153\n12     전라남도   여수시   263166\n13     전라북도   전주시   630708\n14  제주특별자치도   제주시   430504\n15     충청남도   천안시   584912\n16     충청북도   청주시   790216",
      "text/html": "<div>\n<style scoped>\n    .dataframe tbody tr th:only-of-type {\n        vertical-align: middle;\n    }\n\n    .dataframe tbody tr th {\n        vertical-align: top;\n    }\n\n    .dataframe thead th {\n        text-align: right;\n    }\n</style>\n<table border=\"1\" class=\"dataframe\">\n  <thead>\n    <tr style=\"text-align: right;\">\n      <th></th>\n      <th>광역시도</th>\n      <th>행정구역</th>\n      <th>인구수</th>\n    </tr>\n  </thead>\n  <tbody>\n    <tr>\n      <th>0</th>\n      <td>강원도</td>\n      <td>원주시</td>\n      <td>313851</td>\n    </tr>\n    <tr>\n      <th>1</th>\n      <td>경기도</td>\n      <td>수원시</td>\n      <td>1125461</td>\n    </tr>\n    <tr>\n      <th>2</th>\n      <td>경상남도</td>\n      <td>창원시</td>\n      <td>1010040</td>\n    </tr>\n    <tr>\n      <th>3</th>\n      <td>경상북도</td>\n      <td>포항시</td>\n      <td>488395</td>\n    </tr>\n    <tr>\n      <th>4</th>\n      <td>광주광역시</td>\n      <td>북구</td>\n      <td>439683</td>\n    </tr>\n    <tr>\n      <th>5</th>\n      <td>대구광역시</td>\n      <td>달서구</td>\n      <td>584517</td>\n    </tr>\n    <tr>\n      <th>6</th>\n      <td>대전광역시</td>\n      <td>서구</td>\n      <td>475094</td>\n    </tr>\n    <tr>\n      <th>7</th>\n      <td>부산광역시</td>\n      <td>해운대구</td>\n      <td>397134</td>\n    </tr>\n    <tr>\n      <th>8</th>\n      <td>서울특별시</td>\n      <td>송파구</td>\n      <td>615487</td>\n    </tr>\n    <tr>\n      <th>9</th>\n      <td>세종특별자치시</td>\n      <td>세종시</td>\n      <td>191233</td>\n    </tr>\n    <tr>\n      <th>10</th>\n      <td>울산광역시</td>\n      <td>남구</td>\n      <td>327270</td>\n    </tr>\n    <tr>\n      <th>11</th>\n      <td>인천광역시</td>\n      <td>부평구</td>\n      <td>527153</td>\n    </tr>\n    <tr>\n      <th>12</th>\n      <td>전라남도</td>\n      <td>여수시</td>\n      <td>263166</td>\n    </tr>\n    <tr>\n      <th>13</th>\n      <td>전라북도</td>\n      <td>전주시</td>\n      <td>630708</td>\n    </tr>\n    <tr>\n      <th>14</th>\n      <td>제주특별자치도</td>\n      <td>제주시</td>\n      <td>430504</td>\n    </tr>\n    <tr>\n      <th>15</th>\n      <td>충청남도</td>\n      <td>천안시</td>\n      <td>584912</td>\n    </tr>\n    <tr>\n      <th>16</th>\n      <td>충청북도</td>\n      <td>청주시</td>\n      <td>790216</td>\n    </tr>\n  </tbody>\n</table>\n</div>"
     },
     "execution_count": 79,
     "metadata": {},
     "output_type": "execute_result"
    }
   ],
   "source": [
    "pop_max_city_df = pd.DataFrame(columns=['광역시도', '행정구역', '인구수'])\n",
    "for sido_name in data['광역시도'].unique():\n",
    "    pop_max_city_df = pop_max_city_df.append(get_pop_max_city(sido_name))\n",
    "pop_max_city_df = pop_max_city_df.reset_index(drop=True)\n",
    "pop_max_city_df"
   ],
   "metadata": {
    "collapsed": false,
    "pycharm": {
     "name": "#%%\n"
    }
   }
  },
  {
   "cell_type": "markdown",
   "source": [
    "## 광역시도별로 면적이 가장 넓은 행정구역"
   ],
   "metadata": {
    "collapsed": false
   }
  },
  {
   "cell_type": "code",
   "execution_count": 83,
   "outputs": [
    {
     "name": "stdout",
     "output_type": "stream",
     "text": [
      "17\n"
     ]
    },
    {
     "data": {
      "text/plain": "RangeIndex(start=0, stop=17, step=1)"
     },
     "execution_count": 83,
     "metadata": {},
     "output_type": "execute_result"
    }
   ],
   "source": [
    "print(len(pop_max_city_df))\n",
    "pop_max_city_df.index"
   ],
   "metadata": {
    "collapsed": false,
    "pycharm": {
     "name": "#%%\n"
    }
   }
  },
  {
   "cell_type": "code",
   "execution_count": 88,
   "outputs": [
    {
     "name": "stdout",
     "output_type": "stream",
     "text": [
      "[ 1  2  3  4  5  6  7  8  9 10]\n"
     ]
    }
   ],
   "source": [
    "import numpy as np\n",
    "\n",
    "print(np.arange(1, 10+1))\n",
    "pop_max_city_df.index = np.arange(1, len(pop_max_city_df) + 1)"
   ],
   "metadata": {
    "collapsed": false,
    "pycharm": {
     "name": "#%%\n"
    }
   }
  },
  {
   "cell_type": "code",
   "execution_count": 89,
   "outputs": [
    {
     "name": "stdout",
     "output_type": "stream",
     "text": [
      "Int64Index([1, 2, 3, 4, 5, 6, 7, 8, 9, 10, 11, 12, 13, 14, 15, 16, 17], dtype='int64')\n"
     ]
    },
    {
     "data": {
      "text/plain": "       광역시도  행정구역      인구수\n1       강원도   원주시   313851\n2       경기도   수원시  1125461\n3      경상남도   창원시  1010040\n4      경상북도   포항시   488395\n5     광주광역시    북구   439683\n6     대구광역시   달서구   584517\n7     대전광역시    서구   475094\n8     부산광역시  해운대구   397134\n9     서울특별시   송파구   615487\n10  세종특별자치시   세종시   191233\n11    울산광역시    남구   327270\n12    인천광역시   부평구   527153\n13     전라남도   여수시   263166\n14     전라북도   전주시   630708\n15  제주특별자치도   제주시   430504\n16     충청남도   천안시   584912\n17     충청북도   청주시   790216",
      "text/html": "<div>\n<style scoped>\n    .dataframe tbody tr th:only-of-type {\n        vertical-align: middle;\n    }\n\n    .dataframe tbody tr th {\n        vertical-align: top;\n    }\n\n    .dataframe thead th {\n        text-align: right;\n    }\n</style>\n<table border=\"1\" class=\"dataframe\">\n  <thead>\n    <tr style=\"text-align: right;\">\n      <th></th>\n      <th>광역시도</th>\n      <th>행정구역</th>\n      <th>인구수</th>\n    </tr>\n  </thead>\n  <tbody>\n    <tr>\n      <th>1</th>\n      <td>강원도</td>\n      <td>원주시</td>\n      <td>313851</td>\n    </tr>\n    <tr>\n      <th>2</th>\n      <td>경기도</td>\n      <td>수원시</td>\n      <td>1125461</td>\n    </tr>\n    <tr>\n      <th>3</th>\n      <td>경상남도</td>\n      <td>창원시</td>\n      <td>1010040</td>\n    </tr>\n    <tr>\n      <th>4</th>\n      <td>경상북도</td>\n      <td>포항시</td>\n      <td>488395</td>\n    </tr>\n    <tr>\n      <th>5</th>\n      <td>광주광역시</td>\n      <td>북구</td>\n      <td>439683</td>\n    </tr>\n    <tr>\n      <th>6</th>\n      <td>대구광역시</td>\n      <td>달서구</td>\n      <td>584517</td>\n    </tr>\n    <tr>\n      <th>7</th>\n      <td>대전광역시</td>\n      <td>서구</td>\n      <td>475094</td>\n    </tr>\n    <tr>\n      <th>8</th>\n      <td>부산광역시</td>\n      <td>해운대구</td>\n      <td>397134</td>\n    </tr>\n    <tr>\n      <th>9</th>\n      <td>서울특별시</td>\n      <td>송파구</td>\n      <td>615487</td>\n    </tr>\n    <tr>\n      <th>10</th>\n      <td>세종특별자치시</td>\n      <td>세종시</td>\n      <td>191233</td>\n    </tr>\n    <tr>\n      <th>11</th>\n      <td>울산광역시</td>\n      <td>남구</td>\n      <td>327270</td>\n    </tr>\n    <tr>\n      <th>12</th>\n      <td>인천광역시</td>\n      <td>부평구</td>\n      <td>527153</td>\n    </tr>\n    <tr>\n      <th>13</th>\n      <td>전라남도</td>\n      <td>여수시</td>\n      <td>263166</td>\n    </tr>\n    <tr>\n      <th>14</th>\n      <td>전라북도</td>\n      <td>전주시</td>\n      <td>630708</td>\n    </tr>\n    <tr>\n      <th>15</th>\n      <td>제주특별자치도</td>\n      <td>제주시</td>\n      <td>430504</td>\n    </tr>\n    <tr>\n      <th>16</th>\n      <td>충청남도</td>\n      <td>천안시</td>\n      <td>584912</td>\n    </tr>\n    <tr>\n      <th>17</th>\n      <td>충청북도</td>\n      <td>청주시</td>\n      <td>790216</td>\n    </tr>\n  </tbody>\n</table>\n</div>"
     },
     "execution_count": 89,
     "metadata": {},
     "output_type": "execute_result"
    }
   ],
   "source": [
    "print(pop_max_city_df.index)\n",
    "pop_max_city_df"
   ],
   "metadata": {
    "collapsed": false,
    "pycharm": {
     "name": "#%%\n"
    }
   }
  },
  {
   "cell_type": "markdown",
   "source": [
    "## 상관계수\n",
    "* 인구수와 면적간에 관련성이 있는지 살펴보기 위해 상관계수 계산\n",
    "* 상관계수 값은 -1 ~ 1 사이, 0에 가까울수록 관련성이 낮고, 1에 가까울 수록 관련성이 높음\n",
    "* 음수는 반비례, 양수는 비례"
   ],
   "metadata": {
    "collapsed": false,
    "pycharm": {
     "name": "#%% md\n"
    }
   }
  },
  {
   "cell_type": "code",
   "execution_count": 90,
   "outputs": [
    {
     "data": {
      "text/plain": "-0.3460351605045772"
     },
     "execution_count": 90,
     "metadata": {},
     "output_type": "execute_result"
    }
   ],
   "source": [
    "data['면적'].corr(data['인구수'])"
   ],
   "metadata": {
    "collapsed": false,
    "pycharm": {
     "name": "#%%\n"
    }
   }
  },
  {
   "cell_type": "code",
   "execution_count": 92,
   "outputs": [
    {
     "data": {
      "text/plain": "0.664426818890978"
     },
     "execution_count": 92,
     "metadata": {},
     "output_type": "execute_result"
    }
   ],
   "source": [
    "seoul_df = data.loc[data['광역시도'] == '서울특별시']\n",
    "seoul_df['면적'].corr(seoul_df['인구수'])"
   ],
   "metadata": {
    "collapsed": false,
    "pycharm": {
     "name": "#%%\n"
    }
   }
  },
  {
   "cell_type": "markdown",
   "source": [
    "## Group By\n",
    "- 광역시도별 인구수의 합계\n",
    "- ~별에 해당하는 컬럼명이나 컬럼값을 groupby() 함수의 인자로 전달\n",
    "- Series 객체의 groupby() 함수는 컬럼의 값을 인자로 전달\n",
    "- DataFrame 객체의 groupby() 함수는 컬럼명을 인자로 전달"
   ],
   "metadata": {
    "collapsed": false,
    "pycharm": {
     "name": "#%% md\n"
    }
   }
  },
  {
   "cell_type": "code",
   "execution_count": 93,
   "outputs": [
    {
     "name": "stdout",
     "output_type": "stream",
     "text": [
      "<class 'pandas.core.series.Series'>\n"
     ]
    },
    {
     "data": {
      "text/plain": "seq\n0    강원도\n1    강원도\nName: 광역시도, dtype: object"
     },
     "execution_count": 93,
     "metadata": {},
     "output_type": "execute_result"
    }
   ],
   "source": [
    "#Series vs DataFrame\n",
    "print(type(data['광역시도']))\n",
    "#열 1개, 모든 행 선택\n",
    "data['광역시도'].head(2)"
   ],
   "metadata": {
    "collapsed": false,
    "pycharm": {
     "name": "#%%\n"
    }
   }
  },
  {
   "cell_type": "code",
   "execution_count": 94,
   "outputs": [
    {
     "name": "stdout",
     "output_type": "stream",
     "text": [
      "<class 'pandas.core.frame.DataFrame'>\n"
     ]
    },
    {
     "data": {
      "text/plain": "    광역시도 행정구역\nseq          \n0    강원도  강릉시\n1    강원도  고성군",
      "text/html": "<div>\n<style scoped>\n    .dataframe tbody tr th:only-of-type {\n        vertical-align: middle;\n    }\n\n    .dataframe tbody tr th {\n        vertical-align: top;\n    }\n\n    .dataframe thead th {\n        text-align: right;\n    }\n</style>\n<table border=\"1\" class=\"dataframe\">\n  <thead>\n    <tr style=\"text-align: right;\">\n      <th></th>\n      <th>광역시도</th>\n      <th>행정구역</th>\n    </tr>\n    <tr>\n      <th>seq</th>\n      <th></th>\n      <th></th>\n    </tr>\n  </thead>\n  <tbody>\n    <tr>\n      <th>0</th>\n      <td>강원도</td>\n      <td>강릉시</td>\n    </tr>\n    <tr>\n      <th>1</th>\n      <td>강원도</td>\n      <td>고성군</td>\n    </tr>\n  </tbody>\n</table>\n</div>"
     },
     "execution_count": 94,
     "metadata": {},
     "output_type": "execute_result"
    }
   ],
   "source": [
    "print(type(data[['광역시도','행정구역']]))\n",
    "#열 2개, 모든 행선택\n",
    "data[['광역시도','행정구역']].head(2)"
   ],
   "metadata": {
    "collapsed": false,
    "pycharm": {
     "name": "#%%\n"
    }
   }
  },
  {
   "cell_type": "code",
   "execution_count": 95,
   "outputs": [
    {
     "name": "stdout",
     "output_type": "stream",
     "text": [
      "<class 'pandas.core.series.Series'>\n"
     ]
    },
    {
     "data": {
      "text/plain": "인구수           202520\nshortName         강릉\nx                 11\ny                  4\n면적           1040.07\n광역시도             강원도\n행정구역             강릉시\nName: 0, dtype: object"
     },
     "execution_count": 95,
     "metadata": {},
     "output_type": "execute_result"
    }
   ],
   "source": [
    "#행 1개, 모든 열 선택\n",
    "print(type(data.loc[0]))\n",
    "data.loc[0]"
   ],
   "metadata": {
    "collapsed": false,
    "pycharm": {
     "name": "#%%\n"
    }
   }
  },
  {
   "cell_type": "code",
   "execution_count": 96,
   "outputs": [
    {
     "name": "stdout",
     "output_type": "stream",
     "text": [
      "<class 'pandas.core.frame.DataFrame'>\n"
     ]
    },
    {
     "data": {
      "text/plain": "        인구수 shortName   x  y       면적 광역시도 행정구역\nseq                                            \n0    202520        강릉  11  4  1040.07  강원도  강릉시\n1     25589    고성(강원)   9  0   664.19  강원도  고성군",
      "text/html": "<div>\n<style scoped>\n    .dataframe tbody tr th:only-of-type {\n        vertical-align: middle;\n    }\n\n    .dataframe tbody tr th {\n        vertical-align: top;\n    }\n\n    .dataframe thead th {\n        text-align: right;\n    }\n</style>\n<table border=\"1\" class=\"dataframe\">\n  <thead>\n    <tr style=\"text-align: right;\">\n      <th></th>\n      <th>인구수</th>\n      <th>shortName</th>\n      <th>x</th>\n      <th>y</th>\n      <th>면적</th>\n      <th>광역시도</th>\n      <th>행정구역</th>\n    </tr>\n    <tr>\n      <th>seq</th>\n      <th></th>\n      <th></th>\n      <th></th>\n      <th></th>\n      <th></th>\n      <th></th>\n      <th></th>\n    </tr>\n  </thead>\n  <tbody>\n    <tr>\n      <th>0</th>\n      <td>202520</td>\n      <td>강릉</td>\n      <td>11</td>\n      <td>4</td>\n      <td>1040.07</td>\n      <td>강원도</td>\n      <td>강릉시</td>\n    </tr>\n    <tr>\n      <th>1</th>\n      <td>25589</td>\n      <td>고성(강원)</td>\n      <td>9</td>\n      <td>0</td>\n      <td>664.19</td>\n      <td>강원도</td>\n      <td>고성군</td>\n    </tr>\n  </tbody>\n</table>\n</div>"
     },
     "execution_count": 96,
     "metadata": {},
     "output_type": "execute_result"
    }
   ],
   "source": [
    "#행 2개, 모든 열 선택\n",
    "print(type(data.loc[0:1]))\n",
    "data.loc[0:1]"
   ],
   "metadata": {
    "collapsed": false,
    "pycharm": {
     "name": "#%%\n"
    }
   }
  },
  {
   "cell_type": "code",
   "execution_count": 97,
   "outputs": [
    {
     "data": {
      "text/plain": "광역시도\n경기도        11744210\n서울특별시       9394807\n부산광역시       3323591\n경상남도        3144487\n인천광역시       2766575\n경상북도        2508964\n대구광역시       2378450\n충청남도        1946129\n전라북도        1739048\n전라남도        1700563\n충청북도        1484720\n대전광역시       1467677\n광주광역시       1438209\n강원도         1429438\n울산광역시       1105585\n제주특별자치도      575873\n세종특별자치시      191233\nName: 인구수, dtype: int64"
     },
     "execution_count": 97,
     "metadata": {},
     "output_type": "execute_result"
    }
   ],
   "source": [
    "data['인구수'].groupby(data['광역시도']).sum().sort_values(ascending=False)"
   ],
   "metadata": {
    "collapsed": false,
    "pycharm": {
     "name": "#%%\n"
    }
   }
  },
  {
   "cell_type": "code",
   "execution_count": 98,
   "outputs": [
    {
     "data": {
      "text/plain": "              인구수    x    y         면적\n광역시도                                  \n강원도       1429438  173   68  16874.810\n경기도      11744210  182  162  10179.743\n경상남도      3144487  123  313  10437.460\n경상북도      2508964  229  240  19021.850\n광주광역시     1438209   12   99    501.280\n대구광역시     2378450   74  111    885.690\n대전광역시     1467677   23   66    539.640\n부산광역시     3323591  162  276    763.240\n서울특별시     9394807  142  111    605.390\n세종특별자치시    191233    4   11    465.230\n울산광역시     1105585   58   71    980.220\n인천광역시     2766575   13   61   1022.910\n전라남도      1700563   44  438  12008.390\n전라북도      1739048   46  219   7907.220\n제주특별자치도    575873    8   49   1848.480\n충청남도      1946129   39  160   8272.270\n충청북도      1484720   69  124   7397.310",
      "text/html": "<div>\n<style scoped>\n    .dataframe tbody tr th:only-of-type {\n        vertical-align: middle;\n    }\n\n    .dataframe tbody tr th {\n        vertical-align: top;\n    }\n\n    .dataframe thead th {\n        text-align: right;\n    }\n</style>\n<table border=\"1\" class=\"dataframe\">\n  <thead>\n    <tr style=\"text-align: right;\">\n      <th></th>\n      <th>인구수</th>\n      <th>x</th>\n      <th>y</th>\n      <th>면적</th>\n    </tr>\n    <tr>\n      <th>광역시도</th>\n      <th></th>\n      <th></th>\n      <th></th>\n      <th></th>\n    </tr>\n  </thead>\n  <tbody>\n    <tr>\n      <th>강원도</th>\n      <td>1429438</td>\n      <td>173</td>\n      <td>68</td>\n      <td>16874.810</td>\n    </tr>\n    <tr>\n      <th>경기도</th>\n      <td>11744210</td>\n      <td>182</td>\n      <td>162</td>\n      <td>10179.743</td>\n    </tr>\n    <tr>\n      <th>경상남도</th>\n      <td>3144487</td>\n      <td>123</td>\n      <td>313</td>\n      <td>10437.460</td>\n    </tr>\n    <tr>\n      <th>경상북도</th>\n      <td>2508964</td>\n      <td>229</td>\n      <td>240</td>\n      <td>19021.850</td>\n    </tr>\n    <tr>\n      <th>광주광역시</th>\n      <td>1438209</td>\n      <td>12</td>\n      <td>99</td>\n      <td>501.280</td>\n    </tr>\n    <tr>\n      <th>대구광역시</th>\n      <td>2378450</td>\n      <td>74</td>\n      <td>111</td>\n      <td>885.690</td>\n    </tr>\n    <tr>\n      <th>대전광역시</th>\n      <td>1467677</td>\n      <td>23</td>\n      <td>66</td>\n      <td>539.640</td>\n    </tr>\n    <tr>\n      <th>부산광역시</th>\n      <td>3323591</td>\n      <td>162</td>\n      <td>276</td>\n      <td>763.240</td>\n    </tr>\n    <tr>\n      <th>서울특별시</th>\n      <td>9394807</td>\n      <td>142</td>\n      <td>111</td>\n      <td>605.390</td>\n    </tr>\n    <tr>\n      <th>세종특별자치시</th>\n      <td>191233</td>\n      <td>4</td>\n      <td>11</td>\n      <td>465.230</td>\n    </tr>\n    <tr>\n      <th>울산광역시</th>\n      <td>1105585</td>\n      <td>58</td>\n      <td>71</td>\n      <td>980.220</td>\n    </tr>\n    <tr>\n      <th>인천광역시</th>\n      <td>2766575</td>\n      <td>13</td>\n      <td>61</td>\n      <td>1022.910</td>\n    </tr>\n    <tr>\n      <th>전라남도</th>\n      <td>1700563</td>\n      <td>44</td>\n      <td>438</td>\n      <td>12008.390</td>\n    </tr>\n    <tr>\n      <th>전라북도</th>\n      <td>1739048</td>\n      <td>46</td>\n      <td>219</td>\n      <td>7907.220</td>\n    </tr>\n    <tr>\n      <th>제주특별자치도</th>\n      <td>575873</td>\n      <td>8</td>\n      <td>49</td>\n      <td>1848.480</td>\n    </tr>\n    <tr>\n      <th>충청남도</th>\n      <td>1946129</td>\n      <td>39</td>\n      <td>160</td>\n      <td>8272.270</td>\n    </tr>\n    <tr>\n      <th>충청북도</th>\n      <td>1484720</td>\n      <td>69</td>\n      <td>124</td>\n      <td>7397.310</td>\n    </tr>\n  </tbody>\n</table>\n</div>"
     },
     "execution_count": 98,
     "metadata": {},
     "output_type": "execute_result"
    }
   ],
   "source": [
    "data.groupby('광역시도').sum()"
   ],
   "metadata": {
    "collapsed": false,
    "pycharm": {
     "name": "#%%\n"
    }
   }
  },
  {
   "cell_type": "code",
   "source": [
    "# DataFrameGroupBy object\n",
    "data.groupby('광역시도')['인구수'].sum()"
   ],
   "metadata": {
    "collapsed": false,
    "pycharm": {
     "name": "#%%\n"
    }
   },
   "execution_count": 99,
   "outputs": [
    {
     "data": {
      "text/plain": "광역시도\n강원도         1429438\n경기도        11744210\n경상남도        3144487\n경상북도        2508964\n광주광역시       1438209\n대구광역시       2378450\n대전광역시       1467677\n부산광역시       3323591\n서울특별시       9394807\n세종특별자치시      191233\n울산광역시       1105585\n인천광역시       2766575\n전라남도        1700563\n전라북도        1739048\n제주특별자치도      575873\n충청남도        1946129\n충청북도        1484720\nName: 인구수, dtype: int64"
     },
     "execution_count": 99,
     "metadata": {},
     "output_type": "execute_result"
    }
   ]
  },
  {
   "cell_type": "code",
   "execution_count": 100,
   "outputs": [],
   "source": [
    "#광역시도별, 행정구역별 인구수의 합계\n",
    "groupby_df = data.groupby(['광역시도','행정구역'])['인구수'].sum()\n",
    "groupby_df.to_excel('data/광역시도별행정구역별인구수의합계.xlsx',sheet_name='인구수')"
   ],
   "metadata": {
    "collapsed": false,
    "pycharm": {
     "name": "#%%\n"
    }
   }
  },
  {
   "cell_type": "markdown",
   "source": [
    "## 엑셀 수치데이터에 콤마찍기"
   ],
   "metadata": {
    "collapsed": false,
    "pycharm": {
     "name": "#%% md\n"
    }
   }
  },
  {
   "cell_type": "code",
   "execution_count": 102,
   "outputs": [],
   "source": [
    "# Create a Pandas Excel writer using XlsxWriter as the engine.\n",
    "writer = pd.ExcelWriter('data/광역시도별인구수의합계1.xlsx', engine='xlsxwriter')\n",
    "\n",
    "# Convert the dataframe to an XlsxWriter Excel object.\n",
    "groupby_df.to_excel(writer, sheet_name='인구수합계')\n",
    "\n",
    "# Get the xlsxwriter workbook and worksheet objects.\n",
    "workbook  = writer.book\n",
    "worksheet = writer.sheets['인구수합계']\n",
    "\n",
    "# Set a currency number format for a column.\n",
    "num_format = workbook.add_format({'num_format': '#,###'})\n",
    "worksheet.set_column('C:C', None, num_format)\n",
    "\n",
    "# Close the Pandas Excel writer and output the Excel file.\n",
    "writer.save()"
   ],
   "metadata": {
    "collapsed": false,
    "pycharm": {
     "name": "#%%\n"
    }
   }
  },
  {
   "cell_type": "markdown",
   "source": [
    "## 광역시도별 인구수의 max, mean, std 집계 합수 한번에 호출\n",
    "- DataFrame의 agg() 함수 사용"
   ],
   "metadata": {
    "collapsed": false,
    "pycharm": {
     "name": "#%% md\n"
    }
   }
  },
  {
   "cell_type": "code",
   "execution_count": 112,
   "outputs": [
    {
     "data": {
      "text/plain": "        인구수 shortName  x   y      면적     광역시도 행정구역\nseq                                               \n149  191233        세종  4  11  465.23  세종특별자치시  세종시",
      "text/html": "<div>\n<style scoped>\n    .dataframe tbody tr th:only-of-type {\n        vertical-align: middle;\n    }\n\n    .dataframe tbody tr th {\n        vertical-align: top;\n    }\n\n    .dataframe thead th {\n        text-align: right;\n    }\n</style>\n<table border=\"1\" class=\"dataframe\">\n  <thead>\n    <tr style=\"text-align: right;\">\n      <th></th>\n      <th>인구수</th>\n      <th>shortName</th>\n      <th>x</th>\n      <th>y</th>\n      <th>면적</th>\n      <th>광역시도</th>\n      <th>행정구역</th>\n    </tr>\n    <tr>\n      <th>seq</th>\n      <th></th>\n      <th></th>\n      <th></th>\n      <th></th>\n      <th></th>\n      <th></th>\n      <th></th>\n    </tr>\n  </thead>\n  <tbody>\n    <tr>\n      <th>149</th>\n      <td>191233</td>\n      <td>세종</td>\n      <td>4</td>\n      <td>11</td>\n      <td>465.23</td>\n      <td>세종특별자치시</td>\n      <td>세종시</td>\n    </tr>\n  </tbody>\n</table>\n</div>"
     },
     "execution_count": 112,
     "metadata": {},
     "output_type": "execute_result"
    }
   ],
   "source": [
    "data.loc[data['광역시도'] == '세종특별자치시']"
   ],
   "metadata": {
    "collapsed": false,
    "pycharm": {
     "name": "#%%\n"
    }
   }
  },
  {
   "cell_type": "code",
   "execution_count": 113,
   "outputs": [
    {
     "data": {
      "text/plain": "          max           mean            std\n광역시도                                       \n경기도   1125461  378845.483871  304548.395142\n경상남도  1010040  174693.722222  245796.465077",
      "text/html": "<div>\n<style scoped>\n    .dataframe tbody tr th:only-of-type {\n        vertical-align: middle;\n    }\n\n    .dataframe tbody tr th {\n        vertical-align: top;\n    }\n\n    .dataframe thead th {\n        text-align: right;\n    }\n</style>\n<table border=\"1\" class=\"dataframe\">\n  <thead>\n    <tr style=\"text-align: right;\">\n      <th></th>\n      <th>max</th>\n      <th>mean</th>\n      <th>std</th>\n    </tr>\n    <tr>\n      <th>광역시도</th>\n      <th></th>\n      <th></th>\n      <th></th>\n    </tr>\n  </thead>\n  <tbody>\n    <tr>\n      <th>경기도</th>\n      <td>1125461</td>\n      <td>378845.483871</td>\n      <td>304548.395142</td>\n    </tr>\n    <tr>\n      <th>경상남도</th>\n      <td>1010040</td>\n      <td>174693.722222</td>\n      <td>245796.465077</td>\n    </tr>\n  </tbody>\n</table>\n</div>"
     },
     "execution_count": 113,
     "metadata": {},
     "output_type": "execute_result"
    }
   ],
   "source": [
    "#fillna(0) : NaN 값을 0으로 채워주기\n",
    "#sort_values(by='std',ascending=False) : 표준편차가 높은 순서대로 정렬\n",
    "group_agg_df = data.groupby('광역시도')['인구수'].agg(['max','mean','std']).fillna(0).sort_values(by='std',ascending=False)\n",
    "group_agg_df.head(2)"
   ],
   "metadata": {
    "collapsed": false,
    "pycharm": {
     "name": "#%%\n"
    }
   }
  },
  {
   "cell_type": "code",
   "execution_count": 114,
   "outputs": [
    {
     "data": {
      "text/plain": "<pandas.io.formats.style.Styler at 0x7f9260f07d30>",
      "text/html": "<style type=\"text/css\">\n</style>\n<table id=\"T_1dffe_\">\n  <thead>\n    <tr>\n      <th class=\"blank level0\" >&nbsp;</th>\n      <th class=\"col_heading level0 col0\" >max</th>\n      <th class=\"col_heading level0 col1\" >mean</th>\n      <th class=\"col_heading level0 col2\" >std</th>\n    </tr>\n    <tr>\n      <th class=\"index_name level0\" >광역시도</th>\n      <th class=\"blank col0\" >&nbsp;</th>\n      <th class=\"blank col1\" >&nbsp;</th>\n      <th class=\"blank col2\" >&nbsp;</th>\n    </tr>\n  </thead>\n  <tbody>\n    <tr>\n      <th id=\"T_1dffe_level0_row0\" class=\"row_heading level0 row0\" >경기도</th>\n      <td id=\"T_1dffe_row0_col0\" class=\"data row0 col0\" >1125461.00</td>\n      <td id=\"T_1dffe_row0_col1\" class=\"data row0 col1\" >378845.48</td>\n      <td id=\"T_1dffe_row0_col2\" class=\"data row0 col2\" >304548.40</td>\n    </tr>\n    <tr>\n      <th id=\"T_1dffe_level0_row1\" class=\"row_heading level0 row1\" >경상남도</th>\n      <td id=\"T_1dffe_row1_col0\" class=\"data row1 col0\" >1010040.00</td>\n      <td id=\"T_1dffe_row1_col1\" class=\"data row1 col1\" >174693.72</td>\n      <td id=\"T_1dffe_row1_col2\" class=\"data row1 col2\" >245796.47</td>\n    </tr>\n    <tr>\n      <th id=\"T_1dffe_level0_row2\" class=\"row_heading level0 row2\" >충청북도</th>\n      <td id=\"T_1dffe_row2_col0\" class=\"data row2 col0\" >790216.00</td>\n      <td id=\"T_1dffe_row2_col1\" class=\"data row2 col1\" >134974.55</td>\n      <td id=\"T_1dffe_row2_col2\" class=\"data row2 col2\" >223460.36</td>\n    </tr>\n    <tr>\n      <th id=\"T_1dffe_level0_row3\" class=\"row_heading level0 row3\" >제주특별자치도</th>\n      <td id=\"T_1dffe_row3_col0\" class=\"data row3 col0\" >430504.00</td>\n      <td id=\"T_1dffe_row3_col1\" class=\"data row3 col1\" >287936.50</td>\n      <td id=\"T_1dffe_row3_col2\" class=\"data row3 col2\" >201620.89</td>\n    </tr>\n    <tr>\n      <th id=\"T_1dffe_level0_row4\" class=\"row_heading level0 row4\" >인천광역시</th>\n      <td id=\"T_1dffe_row4_col0\" class=\"data row4 col0\" >527153.00</td>\n      <td id=\"T_1dffe_row4_col1\" class=\"data row4 col1\" >276657.50</td>\n      <td id=\"T_1dffe_row4_col2\" class=\"data row4 col2\" >199353.60</td>\n    </tr>\n    <tr>\n      <th id=\"T_1dffe_level0_row5\" class=\"row_heading level0 row5\" >대구광역시</th>\n      <td id=\"T_1dffe_row5_col0\" class=\"data row5 col0\" >584517.00</td>\n      <td id=\"T_1dffe_row5_col1\" class=\"data row5 col1\" >297306.25</td>\n      <td id=\"T_1dffe_row5_col2\" class=\"data row5 col2\" >174375.39</td>\n    </tr>\n    <tr>\n      <th id=\"T_1dffe_level0_row6\" class=\"row_heading level0 row6\" >전라북도</th>\n      <td id=\"T_1dffe_row6_col0\" class=\"data row6 col0\" >630708.00</td>\n      <td id=\"T_1dffe_row6_col1\" class=\"data row6 col1\" >124217.71</td>\n      <td id=\"T_1dffe_row6_col2\" class=\"data row6 col2\" >168327.13</td>\n    </tr>\n    <tr>\n      <th id=\"T_1dffe_level0_row7\" class=\"row_heading level0 row7\" >충청남도</th>\n      <td id=\"T_1dffe_row7_col0\" class=\"data row7 col0\" >584912.00</td>\n      <td id=\"T_1dffe_row7_col1\" class=\"data row7 col1\" >129741.93</td>\n      <td id=\"T_1dffe_row7_col2\" class=\"data row7 col2\" >141125.11</td>\n    </tr>\n    <tr>\n      <th id=\"T_1dffe_level0_row8\" class=\"row_heading level0 row8\" >광주광역시</th>\n      <td id=\"T_1dffe_row8_col0\" class=\"data row8 col0\" >439683.00</td>\n      <td id=\"T_1dffe_row8_col1\" class=\"data row8 col1\" >287641.80</td>\n      <td id=\"T_1dffe_row8_col2\" class=\"data row8 col2\" >137076.68</td>\n    </tr>\n    <tr>\n      <th id=\"T_1dffe_level0_row9\" class=\"row_heading level0 row9\" >서울특별시</th>\n      <td id=\"T_1dffe_row9_col0\" class=\"data row9 col0\" >615487.00</td>\n      <td id=\"T_1dffe_row9_col1\" class=\"data row9 col1\" >375792.28</td>\n      <td id=\"T_1dffe_row9_col2\" class=\"data row9 col2\" >125231.25</td>\n    </tr>\n    <tr>\n      <th id=\"T_1dffe_level0_row10\" class=\"row_heading level0 row10\" >경상북도</th>\n      <td id=\"T_1dffe_row10_col0\" class=\"data row10 col0\" >488395.00</td>\n      <td id=\"T_1dffe_row10_col1\" class=\"data row10 col1\" >109085.39</td>\n      <td id=\"T_1dffe_row10_col2\" class=\"data row10 col2\" >124954.74</td>\n    </tr>\n    <tr>\n      <th id=\"T_1dffe_level0_row11\" class=\"row_heading level0 row11\" >대전광역시</th>\n      <td id=\"T_1dffe_row11_col0\" class=\"data row11 col0\" >475094.00</td>\n      <td id=\"T_1dffe_row11_col1\" class=\"data row11 col1\" >293535.40</td>\n      <td id=\"T_1dffe_row11_col2\" class=\"data row11 col2\" >111853.57</td>\n    </tr>\n    <tr>\n      <th id=\"T_1dffe_level0_row12\" class=\"row_heading level0 row12\" >부산광역시</th>\n      <td id=\"T_1dffe_row12_col0\" class=\"data row12 col0\" >397134.00</td>\n      <td id=\"T_1dffe_row12_col1\" class=\"data row12 col1\" >207724.44</td>\n      <td id=\"T_1dffe_row12_col2\" class=\"data row12 col2\" >106246.04</td>\n    </tr>\n    <tr>\n      <th id=\"T_1dffe_level0_row13\" class=\"row_heading level0 row13\" >강원도</th>\n      <td id=\"T_1dffe_row13_col0\" class=\"data row13 col0\" >313851.00</td>\n      <td id=\"T_1dffe_row13_col1\" class=\"data row13 col1\" >79413.22</td>\n      <td id=\"T_1dffe_row13_col2\" class=\"data row13 col2\" >87316.38</td>\n    </tr>\n    <tr>\n      <th id=\"T_1dffe_level0_row14\" class=\"row_heading level0 row14\" >전라남도</th>\n      <td id=\"T_1dffe_row14_col0\" class=\"data row14 col0\" >263166.00</td>\n      <td id=\"T_1dffe_row14_col1\" class=\"data row14 col1\" >77298.32</td>\n      <td id=\"T_1dffe_row14_col2\" class=\"data row14 col2\" >74413.25</td>\n    </tr>\n    <tr>\n      <th id=\"T_1dffe_level0_row15\" class=\"row_heading level0 row15\" >울산광역시</th>\n      <td id=\"T_1dffe_row15_col0\" class=\"data row15 col0\" >327270.00</td>\n      <td id=\"T_1dffe_row15_col1\" class=\"data row15 col1\" >221117.00</td>\n      <td id=\"T_1dffe_row15_col2\" class=\"data row15 col2\" >64163.29</td>\n    </tr>\n    <tr>\n      <th id=\"T_1dffe_level0_row16\" class=\"row_heading level0 row16\" >세종특별자치시</th>\n      <td id=\"T_1dffe_row16_col0\" class=\"data row16 col0\" >191233.00</td>\n      <td id=\"T_1dffe_row16_col1\" class=\"data row16 col1\" >191233.00</td>\n      <td id=\"T_1dffe_row16_col2\" class=\"data row16 col2\" >0.00</td>\n    </tr>\n  </tbody>\n</table>\n"
     },
     "execution_count": 114,
     "metadata": {},
     "output_type": "execute_result"
    }
   ],
   "source": [
    "group_agg_df.style.format('{0:.2f}')"
   ],
   "metadata": {
    "collapsed": false,
    "pycharm": {
     "name": "#%%\n"
    }
   }
  },
  {
   "cell_type": "code",
   "execution_count": 115,
   "outputs": [
    {
     "data": {
      "text/plain": "       광역시도      max           mean            std\n0       경기도  1125461  378845.483871  304548.395142\n1      경상남도  1010040  174693.722222  245796.465077\n2      충청북도   790216  134974.545455  223460.356657\n3   제주특별자치도   430504  287936.500000  201620.892054\n4     인천광역시   527153  276657.500000  199353.596491\n5     대구광역시   584517  297306.250000  174375.394380\n6      전라북도   630708  124217.714286  168327.134821\n7      충청남도   584912  129741.933333  141125.108080\n8     광주광역시   439683  287641.800000  137076.683206\n9     서울특별시   615487  375792.280000  125231.247975\n10     경상북도   488395  109085.391304  124954.740885\n11    대전광역시   475094  293535.400000  111853.571882\n12    부산광역시   397134  207724.437500  106246.041384\n13      강원도   313851   79413.222222   87316.383238\n14     전라남도   263166   77298.318182   74413.253230\n15    울산광역시   327270  221117.000000   64163.286582\n16  세종특별자치시   191233  191233.000000       0.000000",
      "text/html": "<div>\n<style scoped>\n    .dataframe tbody tr th:only-of-type {\n        vertical-align: middle;\n    }\n\n    .dataframe tbody tr th {\n        vertical-align: top;\n    }\n\n    .dataframe thead th {\n        text-align: right;\n    }\n</style>\n<table border=\"1\" class=\"dataframe\">\n  <thead>\n    <tr style=\"text-align: right;\">\n      <th></th>\n      <th>광역시도</th>\n      <th>max</th>\n      <th>mean</th>\n      <th>std</th>\n    </tr>\n  </thead>\n  <tbody>\n    <tr>\n      <th>0</th>\n      <td>경기도</td>\n      <td>1125461</td>\n      <td>378845.483871</td>\n      <td>304548.395142</td>\n    </tr>\n    <tr>\n      <th>1</th>\n      <td>경상남도</td>\n      <td>1010040</td>\n      <td>174693.722222</td>\n      <td>245796.465077</td>\n    </tr>\n    <tr>\n      <th>2</th>\n      <td>충청북도</td>\n      <td>790216</td>\n      <td>134974.545455</td>\n      <td>223460.356657</td>\n    </tr>\n    <tr>\n      <th>3</th>\n      <td>제주특별자치도</td>\n      <td>430504</td>\n      <td>287936.500000</td>\n      <td>201620.892054</td>\n    </tr>\n    <tr>\n      <th>4</th>\n      <td>인천광역시</td>\n      <td>527153</td>\n      <td>276657.500000</td>\n      <td>199353.596491</td>\n    </tr>\n    <tr>\n      <th>5</th>\n      <td>대구광역시</td>\n      <td>584517</td>\n      <td>297306.250000</td>\n      <td>174375.394380</td>\n    </tr>\n    <tr>\n      <th>6</th>\n      <td>전라북도</td>\n      <td>630708</td>\n      <td>124217.714286</td>\n      <td>168327.134821</td>\n    </tr>\n    <tr>\n      <th>7</th>\n      <td>충청남도</td>\n      <td>584912</td>\n      <td>129741.933333</td>\n      <td>141125.108080</td>\n    </tr>\n    <tr>\n      <th>8</th>\n      <td>광주광역시</td>\n      <td>439683</td>\n      <td>287641.800000</td>\n      <td>137076.683206</td>\n    </tr>\n    <tr>\n      <th>9</th>\n      <td>서울특별시</td>\n      <td>615487</td>\n      <td>375792.280000</td>\n      <td>125231.247975</td>\n    </tr>\n    <tr>\n      <th>10</th>\n      <td>경상북도</td>\n      <td>488395</td>\n      <td>109085.391304</td>\n      <td>124954.740885</td>\n    </tr>\n    <tr>\n      <th>11</th>\n      <td>대전광역시</td>\n      <td>475094</td>\n      <td>293535.400000</td>\n      <td>111853.571882</td>\n    </tr>\n    <tr>\n      <th>12</th>\n      <td>부산광역시</td>\n      <td>397134</td>\n      <td>207724.437500</td>\n      <td>106246.041384</td>\n    </tr>\n    <tr>\n      <th>13</th>\n      <td>강원도</td>\n      <td>313851</td>\n      <td>79413.222222</td>\n      <td>87316.383238</td>\n    </tr>\n    <tr>\n      <th>14</th>\n      <td>전라남도</td>\n      <td>263166</td>\n      <td>77298.318182</td>\n      <td>74413.253230</td>\n    </tr>\n    <tr>\n      <th>15</th>\n      <td>울산광역시</td>\n      <td>327270</td>\n      <td>221117.000000</td>\n      <td>64163.286582</td>\n    </tr>\n    <tr>\n      <th>16</th>\n      <td>세종특별자치시</td>\n      <td>191233</td>\n      <td>191233.000000</td>\n      <td>0.000000</td>\n    </tr>\n  </tbody>\n</table>\n</div>"
     },
     "execution_count": 115,
     "metadata": {},
     "output_type": "execute_result"
    }
   ],
   "source": [
    "#inplace속성의 default=False\n",
    "#변경된 결과를 화면에 출력만 하고 원본 DataFrame을 수정하지는 않음\n",
    "group_agg_df.reset_index(level='광역시도', inplace=False)"
   ],
   "metadata": {
    "collapsed": false,
    "pycharm": {
     "name": "#%%\n"
    }
   }
  },
  {
   "cell_type": "code",
   "execution_count": 116,
   "outputs": [],
   "source": [
    "#inplace속성의 default=False\n",
    "#inplace=True이면 변경된 결과를 화면에 출력하지 않고, 원본 DataFrame을 수정한다.\n",
    "group_agg_df.reset_index(level='광역시도', inplace=True)"
   ],
   "metadata": {
    "collapsed": false,
    "pycharm": {
     "name": "#%%\n"
    }
   }
  },
  {
   "cell_type": "code",
   "execution_count": 117,
   "outputs": [
    {
     "data": {
      "text/plain": "   광역시도      max           mean            std\n0   경기도  1125461  378845.483871  304548.395142\n1  경상남도  1010040  174693.722222  245796.465077\n2  충청북도   790216  134974.545455  223460.356657",
      "text/html": "<div>\n<style scoped>\n    .dataframe tbody tr th:only-of-type {\n        vertical-align: middle;\n    }\n\n    .dataframe tbody tr th {\n        vertical-align: top;\n    }\n\n    .dataframe thead th {\n        text-align: right;\n    }\n</style>\n<table border=\"1\" class=\"dataframe\">\n  <thead>\n    <tr style=\"text-align: right;\">\n      <th></th>\n      <th>광역시도</th>\n      <th>max</th>\n      <th>mean</th>\n      <th>std</th>\n    </tr>\n  </thead>\n  <tbody>\n    <tr>\n      <th>0</th>\n      <td>경기도</td>\n      <td>1125461</td>\n      <td>378845.483871</td>\n      <td>304548.395142</td>\n    </tr>\n    <tr>\n      <th>1</th>\n      <td>경상남도</td>\n      <td>1010040</td>\n      <td>174693.722222</td>\n      <td>245796.465077</td>\n    </tr>\n    <tr>\n      <th>2</th>\n      <td>충청북도</td>\n      <td>790216</td>\n      <td>134974.545455</td>\n      <td>223460.356657</td>\n    </tr>\n  </tbody>\n</table>\n</div>"
     },
     "execution_count": 117,
     "metadata": {},
     "output_type": "execute_result"
    }
   ],
   "source": [
    "group_agg_df.head(3)"
   ],
   "metadata": {
    "collapsed": false,
    "pycharm": {
     "name": "#%%\n"
    }
   }
  },
  {
   "cell_type": "code",
   "execution_count": 118,
   "outputs": [
    {
     "data": {
      "text/plain": "                 0              1              2              3   \\\n광역시도            경기도           경상남도           충청북도        제주특별자치도   \nmax         1125461        1010040         790216         430504   \nmean  378845.483871  174693.722222  134974.545455       287936.5   \nstd   304548.395142  245796.465077  223460.356657  201620.892054   \n\n                 4             5              6              7   \\\n광역시도          인천광역시         대구광역시           전라북도           충청남도   \nmax          527153        584517         630708         584912   \nmean       276657.5     297306.25  124217.714286  129741.933333   \nstd   199353.596491  174375.39438  168327.134821   141125.10808   \n\n                 8              9              10             11  \\\n광역시도          광주광역시          서울특별시           경상북도          대전광역시   \nmax          439683         615487         488395         475094   \nmean       287641.8      375792.28  109085.391304       293535.4   \nstd   137076.683206  125231.247975  124954.740885  111853.571882   \n\n                 12            13            14            15        16  \n광역시도          부산광역시           강원도          전라남도         울산광역시   세종특별자치시  \nmax          397134        313851        263166        327270    191233  \nmean    207724.4375  79413.222222  77298.318182      221117.0  191233.0  \nstd   106246.041384  87316.383238   74413.25323  64163.286582       0.0  ",
      "text/html": "<div>\n<style scoped>\n    .dataframe tbody tr th:only-of-type {\n        vertical-align: middle;\n    }\n\n    .dataframe tbody tr th {\n        vertical-align: top;\n    }\n\n    .dataframe thead th {\n        text-align: right;\n    }\n</style>\n<table border=\"1\" class=\"dataframe\">\n  <thead>\n    <tr style=\"text-align: right;\">\n      <th></th>\n      <th>0</th>\n      <th>1</th>\n      <th>2</th>\n      <th>3</th>\n      <th>4</th>\n      <th>5</th>\n      <th>6</th>\n      <th>7</th>\n      <th>8</th>\n      <th>9</th>\n      <th>10</th>\n      <th>11</th>\n      <th>12</th>\n      <th>13</th>\n      <th>14</th>\n      <th>15</th>\n      <th>16</th>\n    </tr>\n  </thead>\n  <tbody>\n    <tr>\n      <th>광역시도</th>\n      <td>경기도</td>\n      <td>경상남도</td>\n      <td>충청북도</td>\n      <td>제주특별자치도</td>\n      <td>인천광역시</td>\n      <td>대구광역시</td>\n      <td>전라북도</td>\n      <td>충청남도</td>\n      <td>광주광역시</td>\n      <td>서울특별시</td>\n      <td>경상북도</td>\n      <td>대전광역시</td>\n      <td>부산광역시</td>\n      <td>강원도</td>\n      <td>전라남도</td>\n      <td>울산광역시</td>\n      <td>세종특별자치시</td>\n    </tr>\n    <tr>\n      <th>max</th>\n      <td>1125461</td>\n      <td>1010040</td>\n      <td>790216</td>\n      <td>430504</td>\n      <td>527153</td>\n      <td>584517</td>\n      <td>630708</td>\n      <td>584912</td>\n      <td>439683</td>\n      <td>615487</td>\n      <td>488395</td>\n      <td>475094</td>\n      <td>397134</td>\n      <td>313851</td>\n      <td>263166</td>\n      <td>327270</td>\n      <td>191233</td>\n    </tr>\n    <tr>\n      <th>mean</th>\n      <td>378845.483871</td>\n      <td>174693.722222</td>\n      <td>134974.545455</td>\n      <td>287936.5</td>\n      <td>276657.5</td>\n      <td>297306.25</td>\n      <td>124217.714286</td>\n      <td>129741.933333</td>\n      <td>287641.8</td>\n      <td>375792.28</td>\n      <td>109085.391304</td>\n      <td>293535.4</td>\n      <td>207724.4375</td>\n      <td>79413.222222</td>\n      <td>77298.318182</td>\n      <td>221117.0</td>\n      <td>191233.0</td>\n    </tr>\n    <tr>\n      <th>std</th>\n      <td>304548.395142</td>\n      <td>245796.465077</td>\n      <td>223460.356657</td>\n      <td>201620.892054</td>\n      <td>199353.596491</td>\n      <td>174375.39438</td>\n      <td>168327.134821</td>\n      <td>141125.10808</td>\n      <td>137076.683206</td>\n      <td>125231.247975</td>\n      <td>124954.740885</td>\n      <td>111853.571882</td>\n      <td>106246.041384</td>\n      <td>87316.383238</td>\n      <td>74413.25323</td>\n      <td>64163.286582</td>\n      <td>0.0</td>\n    </tr>\n  </tbody>\n</table>\n</div>"
     },
     "execution_count": 118,
     "metadata": {},
     "output_type": "execute_result"
    }
   ],
   "source": [
    "# 행과 열을 바꾸고 싶다면 T 속성(property) 이나 transpose() 함수 사용\n",
    "group_agg_df.T"
   ],
   "metadata": {
    "collapsed": false,
    "pycharm": {
     "name": "#%%\n"
    }
   }
  },
  {
   "cell_type": "code",
   "execution_count": 119,
   "outputs": [
    {
     "data": {
      "text/plain": "                 0              1              2              3   \\\n광역시도            경기도           경상남도           충청북도        제주특별자치도   \nmax         1125461        1010040         790216         430504   \nmean  378845.483871  174693.722222  134974.545455       287936.5   \nstd   304548.395142  245796.465077  223460.356657  201620.892054   \n\n                 4             5              6              7   \\\n광역시도          인천광역시         대구광역시           전라북도           충청남도   \nmax          527153        584517         630708         584912   \nmean       276657.5     297306.25  124217.714286  129741.933333   \nstd   199353.596491  174375.39438  168327.134821   141125.10808   \n\n                 8              9              10             11  \\\n광역시도          광주광역시          서울특별시           경상북도          대전광역시   \nmax          439683         615487         488395         475094   \nmean       287641.8      375792.28  109085.391304       293535.4   \nstd   137076.683206  125231.247975  124954.740885  111853.571882   \n\n                 12            13            14            15        16  \n광역시도          부산광역시           강원도          전라남도         울산광역시   세종특별자치시  \nmax          397134        313851        263166        327270    191233  \nmean    207724.4375  79413.222222  77298.318182      221117.0  191233.0  \nstd   106246.041384  87316.383238   74413.25323  64163.286582       0.0  ",
      "text/html": "<div>\n<style scoped>\n    .dataframe tbody tr th:only-of-type {\n        vertical-align: middle;\n    }\n\n    .dataframe tbody tr th {\n        vertical-align: top;\n    }\n\n    .dataframe thead th {\n        text-align: right;\n    }\n</style>\n<table border=\"1\" class=\"dataframe\">\n  <thead>\n    <tr style=\"text-align: right;\">\n      <th></th>\n      <th>0</th>\n      <th>1</th>\n      <th>2</th>\n      <th>3</th>\n      <th>4</th>\n      <th>5</th>\n      <th>6</th>\n      <th>7</th>\n      <th>8</th>\n      <th>9</th>\n      <th>10</th>\n      <th>11</th>\n      <th>12</th>\n      <th>13</th>\n      <th>14</th>\n      <th>15</th>\n      <th>16</th>\n    </tr>\n  </thead>\n  <tbody>\n    <tr>\n      <th>광역시도</th>\n      <td>경기도</td>\n      <td>경상남도</td>\n      <td>충청북도</td>\n      <td>제주특별자치도</td>\n      <td>인천광역시</td>\n      <td>대구광역시</td>\n      <td>전라북도</td>\n      <td>충청남도</td>\n      <td>광주광역시</td>\n      <td>서울특별시</td>\n      <td>경상북도</td>\n      <td>대전광역시</td>\n      <td>부산광역시</td>\n      <td>강원도</td>\n      <td>전라남도</td>\n      <td>울산광역시</td>\n      <td>세종특별자치시</td>\n    </tr>\n    <tr>\n      <th>max</th>\n      <td>1125461</td>\n      <td>1010040</td>\n      <td>790216</td>\n      <td>430504</td>\n      <td>527153</td>\n      <td>584517</td>\n      <td>630708</td>\n      <td>584912</td>\n      <td>439683</td>\n      <td>615487</td>\n      <td>488395</td>\n      <td>475094</td>\n      <td>397134</td>\n      <td>313851</td>\n      <td>263166</td>\n      <td>327270</td>\n      <td>191233</td>\n    </tr>\n    <tr>\n      <th>mean</th>\n      <td>378845.483871</td>\n      <td>174693.722222</td>\n      <td>134974.545455</td>\n      <td>287936.5</td>\n      <td>276657.5</td>\n      <td>297306.25</td>\n      <td>124217.714286</td>\n      <td>129741.933333</td>\n      <td>287641.8</td>\n      <td>375792.28</td>\n      <td>109085.391304</td>\n      <td>293535.4</td>\n      <td>207724.4375</td>\n      <td>79413.222222</td>\n      <td>77298.318182</td>\n      <td>221117.0</td>\n      <td>191233.0</td>\n    </tr>\n    <tr>\n      <th>std</th>\n      <td>304548.395142</td>\n      <td>245796.465077</td>\n      <td>223460.356657</td>\n      <td>201620.892054</td>\n      <td>199353.596491</td>\n      <td>174375.39438</td>\n      <td>168327.134821</td>\n      <td>141125.10808</td>\n      <td>137076.683206</td>\n      <td>125231.247975</td>\n      <td>124954.740885</td>\n      <td>111853.571882</td>\n      <td>106246.041384</td>\n      <td>87316.383238</td>\n      <td>74413.25323</td>\n      <td>64163.286582</td>\n      <td>0.0</td>\n    </tr>\n  </tbody>\n</table>\n</div>"
     },
     "execution_count": 119,
     "metadata": {},
     "output_type": "execute_result"
    }
   ],
   "source": [
    "group_agg_df.transpose()"
   ],
   "metadata": {
    "collapsed": false,
    "pycharm": {
     "name": "#%%\n"
    }
   }
  },
  {
   "cell_type": "code",
   "execution_count": 121,
   "outputs": [],
   "source": [
    "%matplotlib inline"
   ],
   "metadata": {
    "collapsed": false,
    "pycharm": {
     "name": "#%%\n"
    }
   }
  },
  {
   "cell_type": "code",
   "execution_count": 123,
   "outputs": [
    {
     "name": "stdout",
     "output_type": "stream",
     "text": [
      "matplotlib  3.5.0\n",
      "seaborn  0.11.2\n"
     ]
    }
   ],
   "source": [
    "import matplotlib\n",
    "import matplotlib.pyplot as plt\n",
    "import matplotlib.font_manager as fm\n",
    "\n",
    "import seaborn as sns\n",
    "\n",
    "print('matplotlib ',matplotlib.__version__)\n",
    "print('seaborn ',sns.__version__)"
   ],
   "metadata": {
    "collapsed": false,
    "pycharm": {
     "name": "#%%\n"
    }
   }
  },
  {
   "cell_type": "code",
   "execution_count": 124,
   "outputs": [
    {
     "data": {
      "text/plain": "[('Noto Sans Meetei Mayek',\n  '/System/Library/Fonts/Supplemental/NotoSansMeeteiMayek-Regular.ttf'),\n ('Noto Sans Masaram Gondi',\n  '/System/Library/Fonts/Supplemental/NotoSansMasaramGondi-Regular.otf'),\n ('Noto Sans Marchen',\n  '/System/Library/Fonts/Supplemental/NotoSansMarchen-Regular.ttf'),\n ('Noto Sans Mahajani',\n  '/System/Library/Fonts/Supplemental/NotoSansMahajani-Regular.ttf'),\n ('Marker Felt', '/System/Library/Fonts/MarkerFelt.ttc'),\n ('Noto Sans Manichaean',\n  '/System/Library/Fonts/Supplemental/NotoSansManichaean-Regular.ttf'),\n ('Mukta Mahee', '/System/Library/Fonts/MuktaMahee.ttc'),\n ('Marion', '/System/Library/Fonts/Supplemental/Marion.ttc'),\n ('Noto Sans Mandaic',\n  '/System/Library/Fonts/Supplemental/NotoSansMandaic-Regular.ttf'),\n ('Hiragino Maru Gothic Pro', '/System/Library/Fonts/ヒラギノ丸ゴ ProN W4.ttc'),\n ('InaiMathi', '/System/Library/Fonts/Supplemental/InaiMathi-MN.ttc'),\n ('Malayalam Sangam MN',\n  '/System/Library/Fonts/Supplemental/Malayalam Sangam MN.ttc'),\n ('Malayalam MN', '/System/Library/Fonts/Supplemental/Malayalam MN.ttc')]"
     },
     "execution_count": 124,
     "metadata": {},
     "output_type": "execute_result"
    }
   ],
   "source": [
    "# 폰트이름과 폰트파일 정보 출력 : list comprehension\n",
    "# Mac은 if 'Ap' in font.name\n",
    "[(font.name, font.fname) for font in fm.fontManager.ttflist if 'Ma' in font.name]"
   ],
   "metadata": {
    "collapsed": false,
    "pycharm": {
     "name": "#%%\n"
    }
   }
  },
  {
   "cell_type": "code",
   "execution_count": 125,
   "outputs": [
    {
     "ename": "FileNotFoundError",
     "evalue": "[Errno 2] No such file or directory: '/Users/kimeunbin/Documents/Cloud/0126/webscrap_source/C:\\\\Windows\\\\Fonts\\\\malgun.ttf'",
     "output_type": "error",
     "traceback": [
      "\u001B[0;31m---------------------------------------------------------------------------\u001B[0m",
      "\u001B[0;31mFileNotFoundError\u001B[0m                         Traceback (most recent call last)",
      "\u001B[0;32m/var/folders/7d/9pfcr1bn2bl3ybstxw14zd1h0000gn/T/ipykernel_72279/2464814586.py\u001B[0m in \u001B[0;36m<module>\u001B[0;34m\u001B[0m\n\u001B[1;32m      2\u001B[0m \u001B[0mfont_path\u001B[0m \u001B[0;34m=\u001B[0m \u001B[0;34m'C:\\\\Windows\\\\Fonts\\\\malgun.ttf'\u001B[0m\u001B[0;34m\u001B[0m\u001B[0;34m\u001B[0m\u001B[0m\n\u001B[1;32m      3\u001B[0m \u001B[0;31m# font의 파일정보로 font name을 알아내기\u001B[0m\u001B[0;34m\u001B[0m\u001B[0;34m\u001B[0m\u001B[0m\n\u001B[0;32m----> 4\u001B[0;31m \u001B[0mfont_prop\u001B[0m \u001B[0;34m=\u001B[0m \u001B[0mfm\u001B[0m\u001B[0;34m.\u001B[0m\u001B[0mFontProperties\u001B[0m\u001B[0;34m(\u001B[0m\u001B[0mfname\u001B[0m\u001B[0;34m=\u001B[0m\u001B[0mfont_path\u001B[0m\u001B[0;34m)\u001B[0m\u001B[0;34m.\u001B[0m\u001B[0mget_name\u001B[0m\u001B[0;34m(\u001B[0m\u001B[0;34m)\u001B[0m\u001B[0;34m\u001B[0m\u001B[0;34m\u001B[0m\u001B[0m\n\u001B[0m\u001B[1;32m      5\u001B[0m \u001B[0mprint\u001B[0m\u001B[0;34m(\u001B[0m\u001B[0mfont_prop\u001B[0m\u001B[0;34m)\u001B[0m\u001B[0;34m\u001B[0m\u001B[0;34m\u001B[0m\u001B[0m\n\u001B[1;32m      6\u001B[0m \u001B[0;31m# matplotlib의 rc(run command) 함수를 사용해서 폰트이름 설정\u001B[0m\u001B[0;34m\u001B[0m\u001B[0;34m\u001B[0m\u001B[0m\n",
      "\u001B[0;32m~/opt/anaconda3/envs/pythonProject/lib/python3.9/site-packages/matplotlib/font_manager.py\u001B[0m in \u001B[0;36mget_name\u001B[0;34m(self)\u001B[0m\n\u001B[1;32m    735\u001B[0m         \u001B[0mReturn\u001B[0m \u001B[0mthe\u001B[0m \u001B[0mname\u001B[0m \u001B[0mof\u001B[0m \u001B[0mthe\u001B[0m \u001B[0mfont\u001B[0m \u001B[0mthat\u001B[0m \u001B[0mbest\u001B[0m \u001B[0mmatches\u001B[0m \u001B[0mthe\u001B[0m \u001B[0mfont\u001B[0m \u001B[0mproperties\u001B[0m\u001B[0;34m.\u001B[0m\u001B[0;34m\u001B[0m\u001B[0;34m\u001B[0m\u001B[0m\n\u001B[1;32m    736\u001B[0m         \"\"\"\n\u001B[0;32m--> 737\u001B[0;31m         \u001B[0;32mreturn\u001B[0m \u001B[0mget_font\u001B[0m\u001B[0;34m(\u001B[0m\u001B[0mfindfont\u001B[0m\u001B[0;34m(\u001B[0m\u001B[0mself\u001B[0m\u001B[0;34m)\u001B[0m\u001B[0;34m)\u001B[0m\u001B[0;34m.\u001B[0m\u001B[0mfamily_name\u001B[0m\u001B[0;34m\u001B[0m\u001B[0;34m\u001B[0m\u001B[0m\n\u001B[0m\u001B[1;32m    738\u001B[0m \u001B[0;34m\u001B[0m\u001B[0m\n\u001B[1;32m    739\u001B[0m     \u001B[0;32mdef\u001B[0m \u001B[0mget_style\u001B[0m\u001B[0;34m(\u001B[0m\u001B[0mself\u001B[0m\u001B[0;34m)\u001B[0m\u001B[0;34m:\u001B[0m\u001B[0;34m\u001B[0m\u001B[0;34m\u001B[0m\u001B[0m\n",
      "\u001B[0;32m~/opt/anaconda3/envs/pythonProject/lib/python3.9/site-packages/matplotlib/font_manager.py\u001B[0m in \u001B[0;36mget_font\u001B[0;34m(filename, hinting_factor)\u001B[0m\n\u001B[1;32m   1422\u001B[0m         \u001B[0mhinting_factor\u001B[0m \u001B[0;34m=\u001B[0m \u001B[0mrcParams\u001B[0m\u001B[0;34m[\u001B[0m\u001B[0;34m'text.hinting_factor'\u001B[0m\u001B[0;34m]\u001B[0m\u001B[0;34m\u001B[0m\u001B[0;34m\u001B[0m\u001B[0m\n\u001B[1;32m   1423\u001B[0m     \u001B[0;31m# also key on the thread ID to prevent segfaults with multi-threading\u001B[0m\u001B[0;34m\u001B[0m\u001B[0;34m\u001B[0m\u001B[0m\n\u001B[0;32m-> 1424\u001B[0;31m     return _get_font(filename, hinting_factor,\n\u001B[0m\u001B[1;32m   1425\u001B[0m                      \u001B[0m_kerning_factor\u001B[0m\u001B[0;34m=\u001B[0m\u001B[0mrcParams\u001B[0m\u001B[0;34m[\u001B[0m\u001B[0;34m'text.kerning_factor'\u001B[0m\u001B[0;34m]\u001B[0m\u001B[0;34m,\u001B[0m\u001B[0;34m\u001B[0m\u001B[0;34m\u001B[0m\u001B[0m\n\u001B[1;32m   1426\u001B[0m                      thread_id=threading.get_ident())\n",
      "\u001B[0;32m~/opt/anaconda3/envs/pythonProject/lib/python3.9/site-packages/matplotlib/font_manager.py\u001B[0m in \u001B[0;36m_get_font\u001B[0;34m(filename, hinting_factor, _kerning_factor, thread_id)\u001B[0m\n\u001B[1;32m   1403\u001B[0m \u001B[0;34m@\u001B[0m\u001B[0mlru_cache\u001B[0m\u001B[0;34m(\u001B[0m\u001B[0;36m64\u001B[0m\u001B[0;34m)\u001B[0m\u001B[0;34m\u001B[0m\u001B[0;34m\u001B[0m\u001B[0m\n\u001B[1;32m   1404\u001B[0m \u001B[0;32mdef\u001B[0m \u001B[0m_get_font\u001B[0m\u001B[0;34m(\u001B[0m\u001B[0mfilename\u001B[0m\u001B[0;34m,\u001B[0m \u001B[0mhinting_factor\u001B[0m\u001B[0;34m,\u001B[0m \u001B[0;34m*\u001B[0m\u001B[0;34m,\u001B[0m \u001B[0m_kerning_factor\u001B[0m\u001B[0;34m,\u001B[0m \u001B[0mthread_id\u001B[0m\u001B[0;34m)\u001B[0m\u001B[0;34m:\u001B[0m\u001B[0;34m\u001B[0m\u001B[0;34m\u001B[0m\u001B[0m\n\u001B[0;32m-> 1405\u001B[0;31m     return ft2font.FT2Font(\n\u001B[0m\u001B[1;32m   1406\u001B[0m         filename, hinting_factor, _kerning_factor=_kerning_factor)\n\u001B[1;32m   1407\u001B[0m \u001B[0;34m\u001B[0m\u001B[0m\n",
      "\u001B[0;31mFileNotFoundError\u001B[0m: [Errno 2] No such file or directory: '/Users/kimeunbin/Documents/Cloud/0126/webscrap_source/C:\\\\Windows\\\\Fonts\\\\malgun.ttf'"
     ]
    }
   ],
   "source": [
    "#한글폰트 설정\n",
    "font_path = 'C:\\\\Windows\\\\Fonts\\\\malgun.ttf'\n",
    "# font의 파일정보로 font name을 알아내기\n",
    "font_prop = fm.FontProperties(fname=font_path).get_name()\n",
    "print(font_prop)\n",
    "# matplotlib의 rc(run command) 함수를 사용해서 폰트이름 설정\n",
    "matplotlib.rc('font', family=font_prop)"
   ],
   "metadata": {
    "collapsed": false,
    "pycharm": {
     "name": "#%%\n"
    }
   }
  },
  {
   "cell_type": "markdown",
   "source": [
    "## Figure, Axes\n",
    "- Figure는 Plot이 그려지는 도화지\n",
    "- Axes는 Plot의 그려지는 공간\n",
    "- Figure에 Axes를 여러개 생성해서 Figure를 분할해서 Plot을 그릴 수 있음\n",
    "- seaborn()에서 제공하는 막대그래프를 그릴 수 있는 barplot() 함수 사용"
   ],
   "metadata": {
    "collapsed": false,
    "pycharm": {
     "name": "#%% md\n"
    }
   }
  },
  {
   "cell_type": "code",
   "execution_count": 126,
   "outputs": [
    {
     "data": {
      "text/plain": "        인구수 shortName  x  y    면적   광역시도 행정구역\nseq                                          \n124  526157      서울강남  6  7  39.5  서울특별시  강남구\n125  432028      서울강동  8  5  24.6  서울특별시  강동구\n126  310292      서울강북  5  2  23.6  서울특별시  강북구\n127  554709      서울강서  4  4  41.4  서울특별시  강서구\n128  484478      서울관악  5  6  29.6  서울특별시  관악구",
      "text/html": "<div>\n<style scoped>\n    .dataframe tbody tr th:only-of-type {\n        vertical-align: middle;\n    }\n\n    .dataframe tbody tr th {\n        vertical-align: top;\n    }\n\n    .dataframe thead th {\n        text-align: right;\n    }\n</style>\n<table border=\"1\" class=\"dataframe\">\n  <thead>\n    <tr style=\"text-align: right;\">\n      <th></th>\n      <th>인구수</th>\n      <th>shortName</th>\n      <th>x</th>\n      <th>y</th>\n      <th>면적</th>\n      <th>광역시도</th>\n      <th>행정구역</th>\n    </tr>\n    <tr>\n      <th>seq</th>\n      <th></th>\n      <th></th>\n      <th></th>\n      <th></th>\n      <th></th>\n      <th></th>\n      <th></th>\n    </tr>\n  </thead>\n  <tbody>\n    <tr>\n      <th>124</th>\n      <td>526157</td>\n      <td>서울강남</td>\n      <td>6</td>\n      <td>7</td>\n      <td>39.5</td>\n      <td>서울특별시</td>\n      <td>강남구</td>\n    </tr>\n    <tr>\n      <th>125</th>\n      <td>432028</td>\n      <td>서울강동</td>\n      <td>8</td>\n      <td>5</td>\n      <td>24.6</td>\n      <td>서울특별시</td>\n      <td>강동구</td>\n    </tr>\n    <tr>\n      <th>126</th>\n      <td>310292</td>\n      <td>서울강북</td>\n      <td>5</td>\n      <td>2</td>\n      <td>23.6</td>\n      <td>서울특별시</td>\n      <td>강북구</td>\n    </tr>\n    <tr>\n      <th>127</th>\n      <td>554709</td>\n      <td>서울강서</td>\n      <td>4</td>\n      <td>4</td>\n      <td>41.4</td>\n      <td>서울특별시</td>\n      <td>강서구</td>\n    </tr>\n    <tr>\n      <th>128</th>\n      <td>484478</td>\n      <td>서울관악</td>\n      <td>5</td>\n      <td>6</td>\n      <td>29.6</td>\n      <td>서울특별시</td>\n      <td>관악구</td>\n    </tr>\n  </tbody>\n</table>\n</div>"
     },
     "execution_count": 126,
     "metadata": {},
     "output_type": "execute_result"
    }
   ],
   "source": [
    "seoul_df.head()"
   ],
   "metadata": {
    "collapsed": false,
    "pycharm": {
     "name": "#%%\n"
    }
   }
  },
  {
   "cell_type": "code",
   "execution_count": 127,
   "outputs": [
    {
     "name": "stdout",
     "output_type": "stream",
     "text": [
      "Figure(1296x864)\n",
      "AxesSubplot(0.125,0.536818;0.775x0.343182)\n",
      "AxesSubplot(0.125,0.125;0.775x0.343182)\n"
     ]
    },
    {
     "data": {
      "text/plain": "<AxesSubplot:xlabel='행정구역', ylabel='면적'>"
     },
     "execution_count": 127,
     "metadata": {},
     "output_type": "execute_result"
    },
    {
     "name": "stderr",
     "output_type": "stream",
     "text": [
      "/Users/kimeunbin/opt/anaconda3/envs/pythonProject/lib/python3.9/site-packages/IPython/core/events.py:89: UserWarning: Glyph 49569 (\\N{HANGUL SYLLABLE SONG}) missing from current font.\n",
      "  func(*args, **kwargs)\n",
      "/Users/kimeunbin/opt/anaconda3/envs/pythonProject/lib/python3.9/site-packages/IPython/core/events.py:89: UserWarning: Glyph 54028 (\\N{HANGUL SYLLABLE PA}) missing from current font.\n",
      "  func(*args, **kwargs)\n",
      "/Users/kimeunbin/opt/anaconda3/envs/pythonProject/lib/python3.9/site-packages/IPython/core/events.py:89: UserWarning: Glyph 44396 (\\N{HANGUL SYLLABLE GU}) missing from current font.\n",
      "  func(*args, **kwargs)\n",
      "/Users/kimeunbin/opt/anaconda3/envs/pythonProject/lib/python3.9/site-packages/IPython/core/events.py:89: UserWarning: Glyph 44053 (\\N{HANGUL SYLLABLE GANG}) missing from current font.\n",
      "  func(*args, **kwargs)\n",
      "/Users/kimeunbin/opt/anaconda3/envs/pythonProject/lib/python3.9/site-packages/IPython/core/events.py:89: UserWarning: Glyph 49436 (\\N{HANGUL SYLLABLE SEO}) missing from current font.\n",
      "  func(*args, **kwargs)\n",
      "/Users/kimeunbin/opt/anaconda3/envs/pythonProject/lib/python3.9/site-packages/IPython/core/events.py:89: UserWarning: Glyph 45432 (\\N{HANGUL SYLLABLE NO}) missing from current font.\n",
      "  func(*args, **kwargs)\n",
      "/Users/kimeunbin/opt/anaconda3/envs/pythonProject/lib/python3.9/site-packages/IPython/core/events.py:89: UserWarning: Glyph 50896 (\\N{HANGUL SYLLABLE WEON}) missing from current font.\n",
      "  func(*args, **kwargs)\n",
      "/Users/kimeunbin/opt/anaconda3/envs/pythonProject/lib/python3.9/site-packages/IPython/core/events.py:89: UserWarning: Glyph 45224 (\\N{HANGUL SYLLABLE NAM}) missing from current font.\n",
      "  func(*args, **kwargs)\n",
      "/Users/kimeunbin/opt/anaconda3/envs/pythonProject/lib/python3.9/site-packages/IPython/core/events.py:89: UserWarning: Glyph 44288 (\\N{HANGUL SYLLABLE GWAN}) missing from current font.\n",
      "  func(*args, **kwargs)\n",
      "/Users/kimeunbin/opt/anaconda3/envs/pythonProject/lib/python3.9/site-packages/IPython/core/events.py:89: UserWarning: Glyph 50501 (\\N{HANGUL SYLLABLE AG}) missing from current font.\n",
      "  func(*args, **kwargs)\n",
      "/Users/kimeunbin/opt/anaconda3/envs/pythonProject/lib/python3.9/site-packages/IPython/core/events.py:89: UserWarning: Glyph 51008 (\\N{HANGUL SYLLABLE EUN}) missing from current font.\n",
      "  func(*args, **kwargs)\n",
      "/Users/kimeunbin/opt/anaconda3/envs/pythonProject/lib/python3.9/site-packages/IPython/core/events.py:89: UserWarning: Glyph 54217 (\\N{HANGUL SYLLABLE PYEONG}) missing from current font.\n",
      "  func(*args, **kwargs)\n",
      "/Users/kimeunbin/opt/anaconda3/envs/pythonProject/lib/python3.9/site-packages/IPython/core/events.py:89: UserWarning: Glyph 50577 (\\N{HANGUL SYLLABLE YANG}) missing from current font.\n",
      "  func(*args, **kwargs)\n",
      "/Users/kimeunbin/opt/anaconda3/envs/pythonProject/lib/python3.9/site-packages/IPython/core/events.py:89: UserWarning: Glyph 52380 (\\N{HANGUL SYLLABLE CEON}) missing from current font.\n",
      "  func(*args, **kwargs)\n",
      "/Users/kimeunbin/opt/anaconda3/envs/pythonProject/lib/python3.9/site-packages/IPython/core/events.py:89: UserWarning: Glyph 49457 (\\N{HANGUL SYLLABLE SEONG}) missing from current font.\n",
      "  func(*args, **kwargs)\n",
      "/Users/kimeunbin/opt/anaconda3/envs/pythonProject/lib/python3.9/site-packages/IPython/core/events.py:89: UserWarning: Glyph 48513 (\\N{HANGUL SYLLABLE BUG}) missing from current font.\n",
      "  func(*args, **kwargs)\n",
      "/Users/kimeunbin/opt/anaconda3/envs/pythonProject/lib/python3.9/site-packages/IPython/core/events.py:89: UserWarning: Glyph 46041 (\\N{HANGUL SYLLABLE DONG}) missing from current font.\n",
      "  func(*args, **kwargs)\n",
      "/Users/kimeunbin/opt/anaconda3/envs/pythonProject/lib/python3.9/site-packages/IPython/core/events.py:89: UserWarning: Glyph 52488 (\\N{HANGUL SYLLABLE CO}) missing from current font.\n",
      "  func(*args, **kwargs)\n",
      "/Users/kimeunbin/opt/anaconda3/envs/pythonProject/lib/python3.9/site-packages/IPython/core/events.py:89: UserWarning: Glyph 47196 (\\N{HANGUL SYLLABLE RO}) missing from current font.\n",
      "  func(*args, **kwargs)\n",
      "/Users/kimeunbin/opt/anaconda3/envs/pythonProject/lib/python3.9/site-packages/IPython/core/events.py:89: UserWarning: Glyph 51473 (\\N{HANGUL SYLLABLE JUNG}) missing from current font.\n",
      "  func(*args, **kwargs)\n",
      "/Users/kimeunbin/opt/anaconda3/envs/pythonProject/lib/python3.9/site-packages/IPython/core/events.py:89: UserWarning: Glyph 46993 (\\N{HANGUL SYLLABLE RANG}) missing from current font.\n",
      "  func(*args, **kwargs)\n",
      "/Users/kimeunbin/opt/anaconda3/envs/pythonProject/lib/python3.9/site-packages/IPython/core/events.py:89: UserWarning: Glyph 51089 (\\N{HANGUL SYLLABLE JAG}) missing from current font.\n",
      "  func(*args, **kwargs)\n",
      "/Users/kimeunbin/opt/anaconda3/envs/pythonProject/lib/python3.9/site-packages/IPython/core/events.py:89: UserWarning: Glyph 47560 (\\N{HANGUL SYLLABLE MA}) missing from current font.\n",
      "  func(*args, **kwargs)\n",
      "/Users/kimeunbin/opt/anaconda3/envs/pythonProject/lib/python3.9/site-packages/IPython/core/events.py:89: UserWarning: Glyph 54252 (\\N{HANGUL SYLLABLE PO}) missing from current font.\n",
      "  func(*args, **kwargs)\n",
      "/Users/kimeunbin/opt/anaconda3/envs/pythonProject/lib/python3.9/site-packages/IPython/core/events.py:89: UserWarning: Glyph 50689 (\\N{HANGUL SYLLABLE YEONG}) missing from current font.\n",
      "  func(*args, **kwargs)\n",
      "/Users/kimeunbin/opt/anaconda3/envs/pythonProject/lib/python3.9/site-packages/IPython/core/events.py:89: UserWarning: Glyph 46321 (\\N{HANGUL SYLLABLE DEUNG}) missing from current font.\n",
      "  func(*args, **kwargs)\n",
      "/Users/kimeunbin/opt/anaconda3/envs/pythonProject/lib/python3.9/site-packages/IPython/core/events.py:89: UserWarning: Glyph 44305 (\\N{HANGUL SYLLABLE GWANG}) missing from current font.\n",
      "  func(*args, **kwargs)\n",
      "/Users/kimeunbin/opt/anaconda3/envs/pythonProject/lib/python3.9/site-packages/IPython/core/events.py:89: UserWarning: Glyph 51652 (\\N{HANGUL SYLLABLE JIN}) missing from current font.\n",
      "  func(*args, **kwargs)\n",
      "/Users/kimeunbin/opt/anaconda3/envs/pythonProject/lib/python3.9/site-packages/IPython/core/events.py:89: UserWarning: Glyph 45824 (\\N{HANGUL SYLLABLE DAE}) missing from current font.\n",
      "  func(*args, **kwargs)\n",
      "/Users/kimeunbin/opt/anaconda3/envs/pythonProject/lib/python3.9/site-packages/IPython/core/events.py:89: UserWarning: Glyph 47928 (\\N{HANGUL SYLLABLE MUN}) missing from current font.\n",
      "  func(*args, **kwargs)\n",
      "/Users/kimeunbin/opt/anaconda3/envs/pythonProject/lib/python3.9/site-packages/IPython/core/events.py:89: UserWarning: Glyph 46020 (\\N{HANGUL SYLLABLE DO}) missing from current font.\n",
      "  func(*args, **kwargs)\n",
      "/Users/kimeunbin/opt/anaconda3/envs/pythonProject/lib/python3.9/site-packages/IPython/core/events.py:89: UserWarning: Glyph 48393 (\\N{HANGUL SYLLABLE BONG}) missing from current font.\n",
      "  func(*args, **kwargs)\n",
      "/Users/kimeunbin/opt/anaconda3/envs/pythonProject/lib/python3.9/site-packages/IPython/core/events.py:89: UserWarning: Glyph 44552 (\\N{HANGUL SYLLABLE GEUM}) missing from current font.\n",
      "  func(*args, **kwargs)\n",
      "/Users/kimeunbin/opt/anaconda3/envs/pythonProject/lib/python3.9/site-packages/IPython/core/events.py:89: UserWarning: Glyph 50857 (\\N{HANGUL SYLLABLE YONG}) missing from current font.\n",
      "  func(*args, **kwargs)\n",
      "/Users/kimeunbin/opt/anaconda3/envs/pythonProject/lib/python3.9/site-packages/IPython/core/events.py:89: UserWarning: Glyph 49328 (\\N{HANGUL SYLLABLE SAN}) missing from current font.\n",
      "  func(*args, **kwargs)\n",
      "/Users/kimeunbin/opt/anaconda3/envs/pythonProject/lib/python3.9/site-packages/IPython/core/events.py:89: UserWarning: Glyph 51333 (\\N{HANGUL SYLLABLE JONG}) missing from current font.\n",
      "  func(*args, **kwargs)\n",
      "/Users/kimeunbin/opt/anaconda3/envs/pythonProject/lib/python3.9/site-packages/IPython/core/events.py:89: UserWarning: Glyph 54665 (\\N{HANGUL SYLLABLE HAENG}) missing from current font.\n",
      "  func(*args, **kwargs)\n",
      "/Users/kimeunbin/opt/anaconda3/envs/pythonProject/lib/python3.9/site-packages/IPython/core/events.py:89: UserWarning: Glyph 51221 (\\N{HANGUL SYLLABLE JEONG}) missing from current font.\n",
      "  func(*args, **kwargs)\n",
      "/Users/kimeunbin/opt/anaconda3/envs/pythonProject/lib/python3.9/site-packages/IPython/core/events.py:89: UserWarning: Glyph 50669 (\\N{HANGUL SYLLABLE YEOG}) missing from current font.\n",
      "  func(*args, **kwargs)\n",
      "/Users/kimeunbin/opt/anaconda3/envs/pythonProject/lib/python3.9/site-packages/IPython/core/events.py:89: UserWarning: Glyph 51064 (\\N{HANGUL SYLLABLE IN}) missing from current font.\n",
      "  func(*args, **kwargs)\n",
      "/Users/kimeunbin/opt/anaconda3/envs/pythonProject/lib/python3.9/site-packages/IPython/core/events.py:89: UserWarning: Glyph 49688 (\\N{HANGUL SYLLABLE SU}) missing from current font.\n",
      "  func(*args, **kwargs)\n",
      "/Users/kimeunbin/opt/anaconda3/envs/pythonProject/lib/python3.9/site-packages/IPython/core/events.py:89: UserWarning: Glyph 47732 (\\N{HANGUL SYLLABLE MYEON}) missing from current font.\n",
      "  func(*args, **kwargs)\n",
      "/Users/kimeunbin/opt/anaconda3/envs/pythonProject/lib/python3.9/site-packages/IPython/core/events.py:89: UserWarning: Glyph 51201 (\\N{HANGUL SYLLABLE JEOG}) missing from current font.\n",
      "  func(*args, **kwargs)\n",
      "/Users/kimeunbin/opt/anaconda3/envs/pythonProject/lib/python3.9/site-packages/IPython/core/pylabtools.py:151: UserWarning: Glyph 49569 (\\N{HANGUL SYLLABLE SONG}) missing from current font.\n",
      "  fig.canvas.print_figure(bytes_io, **kw)\n",
      "/Users/kimeunbin/opt/anaconda3/envs/pythonProject/lib/python3.9/site-packages/IPython/core/pylabtools.py:151: UserWarning: Glyph 54028 (\\N{HANGUL SYLLABLE PA}) missing from current font.\n",
      "  fig.canvas.print_figure(bytes_io, **kw)\n",
      "/Users/kimeunbin/opt/anaconda3/envs/pythonProject/lib/python3.9/site-packages/IPython/core/pylabtools.py:151: UserWarning: Glyph 44396 (\\N{HANGUL SYLLABLE GU}) missing from current font.\n",
      "  fig.canvas.print_figure(bytes_io, **kw)\n",
      "/Users/kimeunbin/opt/anaconda3/envs/pythonProject/lib/python3.9/site-packages/IPython/core/pylabtools.py:151: UserWarning: Glyph 45432 (\\N{HANGUL SYLLABLE NO}) missing from current font.\n",
      "  fig.canvas.print_figure(bytes_io, **kw)\n",
      "/Users/kimeunbin/opt/anaconda3/envs/pythonProject/lib/python3.9/site-packages/IPython/core/pylabtools.py:151: UserWarning: Glyph 50896 (\\N{HANGUL SYLLABLE WEON}) missing from current font.\n",
      "  fig.canvas.print_figure(bytes_io, **kw)\n",
      "/Users/kimeunbin/opt/anaconda3/envs/pythonProject/lib/python3.9/site-packages/IPython/core/pylabtools.py:151: UserWarning: Glyph 44053 (\\N{HANGUL SYLLABLE GANG}) missing from current font.\n",
      "  fig.canvas.print_figure(bytes_io, **kw)\n",
      "/Users/kimeunbin/opt/anaconda3/envs/pythonProject/lib/python3.9/site-packages/IPython/core/pylabtools.py:151: UserWarning: Glyph 45224 (\\N{HANGUL SYLLABLE NAM}) missing from current font.\n",
      "  fig.canvas.print_figure(bytes_io, **kw)\n",
      "/Users/kimeunbin/opt/anaconda3/envs/pythonProject/lib/python3.9/site-packages/IPython/core/pylabtools.py:151: UserWarning: Glyph 44288 (\\N{HANGUL SYLLABLE GWAN}) missing from current font.\n",
      "  fig.canvas.print_figure(bytes_io, **kw)\n",
      "/Users/kimeunbin/opt/anaconda3/envs/pythonProject/lib/python3.9/site-packages/IPython/core/pylabtools.py:151: UserWarning: Glyph 50501 (\\N{HANGUL SYLLABLE AG}) missing from current font.\n",
      "  fig.canvas.print_figure(bytes_io, **kw)\n",
      "/Users/kimeunbin/opt/anaconda3/envs/pythonProject/lib/python3.9/site-packages/IPython/core/pylabtools.py:151: UserWarning: Glyph 50577 (\\N{HANGUL SYLLABLE YANG}) missing from current font.\n",
      "  fig.canvas.print_figure(bytes_io, **kw)\n",
      "/Users/kimeunbin/opt/anaconda3/envs/pythonProject/lib/python3.9/site-packages/IPython/core/pylabtools.py:151: UserWarning: Glyph 52380 (\\N{HANGUL SYLLABLE CEON}) missing from current font.\n",
      "  fig.canvas.print_figure(bytes_io, **kw)\n",
      "/Users/kimeunbin/opt/anaconda3/envs/pythonProject/lib/python3.9/site-packages/IPython/core/pylabtools.py:151: UserWarning: Glyph 49457 (\\N{HANGUL SYLLABLE SEONG}) missing from current font.\n",
      "  fig.canvas.print_figure(bytes_io, **kw)\n",
      "/Users/kimeunbin/opt/anaconda3/envs/pythonProject/lib/python3.9/site-packages/IPython/core/pylabtools.py:151: UserWarning: Glyph 48513 (\\N{HANGUL SYLLABLE BUG}) missing from current font.\n",
      "  fig.canvas.print_figure(bytes_io, **kw)\n",
      "/Users/kimeunbin/opt/anaconda3/envs/pythonProject/lib/python3.9/site-packages/IPython/core/pylabtools.py:151: UserWarning: Glyph 46041 (\\N{HANGUL SYLLABLE DONG}) missing from current font.\n",
      "  fig.canvas.print_figure(bytes_io, **kw)\n",
      "/Users/kimeunbin/opt/anaconda3/envs/pythonProject/lib/python3.9/site-packages/IPython/core/pylabtools.py:151: UserWarning: Glyph 49436 (\\N{HANGUL SYLLABLE SEO}) missing from current font.\n",
      "  fig.canvas.print_figure(bytes_io, **kw)\n",
      "/Users/kimeunbin/opt/anaconda3/envs/pythonProject/lib/python3.9/site-packages/IPython/core/pylabtools.py:151: UserWarning: Glyph 52488 (\\N{HANGUL SYLLABLE CO}) missing from current font.\n",
      "  fig.canvas.print_figure(bytes_io, **kw)\n",
      "/Users/kimeunbin/opt/anaconda3/envs/pythonProject/lib/python3.9/site-packages/IPython/core/pylabtools.py:151: UserWarning: Glyph 47196 (\\N{HANGUL SYLLABLE RO}) missing from current font.\n",
      "  fig.canvas.print_figure(bytes_io, **kw)\n",
      "/Users/kimeunbin/opt/anaconda3/envs/pythonProject/lib/python3.9/site-packages/IPython/core/pylabtools.py:151: UserWarning: Glyph 51473 (\\N{HANGUL SYLLABLE JUNG}) missing from current font.\n",
      "  fig.canvas.print_figure(bytes_io, **kw)\n",
      "/Users/kimeunbin/opt/anaconda3/envs/pythonProject/lib/python3.9/site-packages/IPython/core/pylabtools.py:151: UserWarning: Glyph 46993 (\\N{HANGUL SYLLABLE RANG}) missing from current font.\n",
      "  fig.canvas.print_figure(bytes_io, **kw)\n",
      "/Users/kimeunbin/opt/anaconda3/envs/pythonProject/lib/python3.9/site-packages/IPython/core/pylabtools.py:151: UserWarning: Glyph 51089 (\\N{HANGUL SYLLABLE JAG}) missing from current font.\n",
      "  fig.canvas.print_figure(bytes_io, **kw)\n",
      "/Users/kimeunbin/opt/anaconda3/envs/pythonProject/lib/python3.9/site-packages/IPython/core/pylabtools.py:151: UserWarning: Glyph 47560 (\\N{HANGUL SYLLABLE MA}) missing from current font.\n",
      "  fig.canvas.print_figure(bytes_io, **kw)\n",
      "/Users/kimeunbin/opt/anaconda3/envs/pythonProject/lib/python3.9/site-packages/IPython/core/pylabtools.py:151: UserWarning: Glyph 54252 (\\N{HANGUL SYLLABLE PO}) missing from current font.\n",
      "  fig.canvas.print_figure(bytes_io, **kw)\n",
      "/Users/kimeunbin/opt/anaconda3/envs/pythonProject/lib/python3.9/site-packages/IPython/core/pylabtools.py:151: UserWarning: Glyph 50689 (\\N{HANGUL SYLLABLE YEONG}) missing from current font.\n",
      "  fig.canvas.print_figure(bytes_io, **kw)\n",
      "/Users/kimeunbin/opt/anaconda3/envs/pythonProject/lib/python3.9/site-packages/IPython/core/pylabtools.py:151: UserWarning: Glyph 46321 (\\N{HANGUL SYLLABLE DEUNG}) missing from current font.\n",
      "  fig.canvas.print_figure(bytes_io, **kw)\n",
      "/Users/kimeunbin/opt/anaconda3/envs/pythonProject/lib/python3.9/site-packages/IPython/core/pylabtools.py:151: UserWarning: Glyph 44305 (\\N{HANGUL SYLLABLE GWANG}) missing from current font.\n",
      "  fig.canvas.print_figure(bytes_io, **kw)\n",
      "/Users/kimeunbin/opt/anaconda3/envs/pythonProject/lib/python3.9/site-packages/IPython/core/pylabtools.py:151: UserWarning: Glyph 51652 (\\N{HANGUL SYLLABLE JIN}) missing from current font.\n",
      "  fig.canvas.print_figure(bytes_io, **kw)\n",
      "/Users/kimeunbin/opt/anaconda3/envs/pythonProject/lib/python3.9/site-packages/IPython/core/pylabtools.py:151: UserWarning: Glyph 45824 (\\N{HANGUL SYLLABLE DAE}) missing from current font.\n",
      "  fig.canvas.print_figure(bytes_io, **kw)\n",
      "/Users/kimeunbin/opt/anaconda3/envs/pythonProject/lib/python3.9/site-packages/IPython/core/pylabtools.py:151: UserWarning: Glyph 47928 (\\N{HANGUL SYLLABLE MUN}) missing from current font.\n",
      "  fig.canvas.print_figure(bytes_io, **kw)\n",
      "/Users/kimeunbin/opt/anaconda3/envs/pythonProject/lib/python3.9/site-packages/IPython/core/pylabtools.py:151: UserWarning: Glyph 46020 (\\N{HANGUL SYLLABLE DO}) missing from current font.\n",
      "  fig.canvas.print_figure(bytes_io, **kw)\n",
      "/Users/kimeunbin/opt/anaconda3/envs/pythonProject/lib/python3.9/site-packages/IPython/core/pylabtools.py:151: UserWarning: Glyph 48393 (\\N{HANGUL SYLLABLE BONG}) missing from current font.\n",
      "  fig.canvas.print_figure(bytes_io, **kw)\n",
      "/Users/kimeunbin/opt/anaconda3/envs/pythonProject/lib/python3.9/site-packages/IPython/core/pylabtools.py:151: UserWarning: Glyph 44552 (\\N{HANGUL SYLLABLE GEUM}) missing from current font.\n",
      "  fig.canvas.print_figure(bytes_io, **kw)\n",
      "/Users/kimeunbin/opt/anaconda3/envs/pythonProject/lib/python3.9/site-packages/IPython/core/pylabtools.py:151: UserWarning: Glyph 50857 (\\N{HANGUL SYLLABLE YONG}) missing from current font.\n",
      "  fig.canvas.print_figure(bytes_io, **kw)\n",
      "/Users/kimeunbin/opt/anaconda3/envs/pythonProject/lib/python3.9/site-packages/IPython/core/pylabtools.py:151: UserWarning: Glyph 49328 (\\N{HANGUL SYLLABLE SAN}) missing from current font.\n",
      "  fig.canvas.print_figure(bytes_io, **kw)\n",
      "/Users/kimeunbin/opt/anaconda3/envs/pythonProject/lib/python3.9/site-packages/IPython/core/pylabtools.py:151: UserWarning: Glyph 51333 (\\N{HANGUL SYLLABLE JONG}) missing from current font.\n",
      "  fig.canvas.print_figure(bytes_io, **kw)\n",
      "/Users/kimeunbin/opt/anaconda3/envs/pythonProject/lib/python3.9/site-packages/IPython/core/pylabtools.py:151: UserWarning: Glyph 54665 (\\N{HANGUL SYLLABLE HAENG}) missing from current font.\n",
      "  fig.canvas.print_figure(bytes_io, **kw)\n",
      "/Users/kimeunbin/opt/anaconda3/envs/pythonProject/lib/python3.9/site-packages/IPython/core/pylabtools.py:151: UserWarning: Glyph 51221 (\\N{HANGUL SYLLABLE JEONG}) missing from current font.\n",
      "  fig.canvas.print_figure(bytes_io, **kw)\n",
      "/Users/kimeunbin/opt/anaconda3/envs/pythonProject/lib/python3.9/site-packages/IPython/core/pylabtools.py:151: UserWarning: Glyph 50669 (\\N{HANGUL SYLLABLE YEOG}) missing from current font.\n",
      "  fig.canvas.print_figure(bytes_io, **kw)\n",
      "/Users/kimeunbin/opt/anaconda3/envs/pythonProject/lib/python3.9/site-packages/IPython/core/pylabtools.py:151: UserWarning: Glyph 51064 (\\N{HANGUL SYLLABLE IN}) missing from current font.\n",
      "  fig.canvas.print_figure(bytes_io, **kw)\n",
      "/Users/kimeunbin/opt/anaconda3/envs/pythonProject/lib/python3.9/site-packages/IPython/core/pylabtools.py:151: UserWarning: Glyph 49688 (\\N{HANGUL SYLLABLE SU}) missing from current font.\n",
      "  fig.canvas.print_figure(bytes_io, **kw)\n",
      "/Users/kimeunbin/opt/anaconda3/envs/pythonProject/lib/python3.9/site-packages/IPython/core/pylabtools.py:151: UserWarning: Glyph 51008 (\\N{HANGUL SYLLABLE EUN}) missing from current font.\n",
      "  fig.canvas.print_figure(bytes_io, **kw)\n",
      "/Users/kimeunbin/opt/anaconda3/envs/pythonProject/lib/python3.9/site-packages/IPython/core/pylabtools.py:151: UserWarning: Glyph 54217 (\\N{HANGUL SYLLABLE PYEONG}) missing from current font.\n",
      "  fig.canvas.print_figure(bytes_io, **kw)\n",
      "/Users/kimeunbin/opt/anaconda3/envs/pythonProject/lib/python3.9/site-packages/IPython/core/pylabtools.py:151: UserWarning: Glyph 47732 (\\N{HANGUL SYLLABLE MYEON}) missing from current font.\n",
      "  fig.canvas.print_figure(bytes_io, **kw)\n",
      "/Users/kimeunbin/opt/anaconda3/envs/pythonProject/lib/python3.9/site-packages/IPython/core/pylabtools.py:151: UserWarning: Glyph 51201 (\\N{HANGUL SYLLABLE JEOG}) missing from current font.\n",
      "  fig.canvas.print_figure(bytes_io, **kw)\n"
     ]
    },
    {
     "data": {
      "text/plain": "<Figure size 1296x864 with 2 Axes>",
      "image/png": "[encoded data removed]"
     },
     "metadata": {
      "needs_background": "light"
     },
     "output_type": "display_data"
    }
   ],
   "source": [
    "figure,(axes1,axes2) = plt.subplots(nrows=2, ncols=1)\n",
    "figure.set_size_inches(18,12)\n",
    "print(figure)\n",
    "print(axes1)\n",
    "print(axes2)\n",
    "sns.barplot(x='행정구역', y='인구수', data=seoul_df.sort_values(by='인구수',ascending=False), ax=axes1)\n",
    "sns.barplot(x='행정구역', y='면적', data=seoul_df.sort_values(by='면적',ascending=False), ax=axes2)"
   ],
   "metadata": {
    "collapsed": false,
    "pycharm": {
     "name": "#%%\n"
    }
   }
  },
  {
   "cell_type": "code",
   "execution_count": 128,
   "outputs": [],
   "source": [
    "# 광역시도 이름을 인자로 받아서 인구수와 면적을 보여주는 barplot를 그려주는 함수 정의하기\n",
    "def print_barplot(sido_name):\n",
    "    sido_df = data.loc[data['광역시도'] == sido_name]\n",
    "    figure,(axes1,axes2) = plt.subplots(nrows=2, ncols=1)\n",
    "    figure.set_size_inches(18,12)\n",
    "    pop_plot = sns.barplot(x='행정구역', y='인구수', data=sido_df.sort_values(by='인구수',ascending=False), ax=axes1)\n",
    "    pop_plot.set_title(f'{sido_name} 행정구역별 인구수')\n",
    "    area_plot = sns.barplot(x='행정구역', y='면적', data=sido_df.sort_values(by='면적',ascending=False), ax=axes2)\n",
    "    area_plot.set_title(f'{sido_name} 행정구역별 면적')"
   ],
   "metadata": {
    "collapsed": false,
    "pycharm": {
     "name": "#%%\n"
    }
   }
  },
  {
   "cell_type": "code",
   "execution_count": 129,
   "outputs": [
    {
     "name": "stderr",
     "output_type": "stream",
     "text": [
      "/Users/kimeunbin/opt/anaconda3/envs/pythonProject/lib/python3.9/site-packages/IPython/core/events.py:89: UserWarning: Glyph 44221 (\\N{HANGUL SYLLABLE GYEONG}) missing from current font.\n",
      "  func(*args, **kwargs)\n",
      "/Users/kimeunbin/opt/anaconda3/envs/pythonProject/lib/python3.9/site-packages/IPython/core/events.py:89: UserWarning: Glyph 44592 (\\N{HANGUL SYLLABLE GI}) missing from current font.\n",
      "  func(*args, **kwargs)\n",
      "/Users/kimeunbin/opt/anaconda3/envs/pythonProject/lib/python3.9/site-packages/IPython/core/events.py:89: UserWarning: Glyph 46020 (\\N{HANGUL SYLLABLE DO}) missing from current font.\n",
      "  func(*args, **kwargs)\n",
      "/Users/kimeunbin/opt/anaconda3/envs/pythonProject/lib/python3.9/site-packages/IPython/core/events.py:89: UserWarning: Glyph 54665 (\\N{HANGUL SYLLABLE HAENG}) missing from current font.\n",
      "  func(*args, **kwargs)\n",
      "/Users/kimeunbin/opt/anaconda3/envs/pythonProject/lib/python3.9/site-packages/IPython/core/events.py:89: UserWarning: Glyph 51221 (\\N{HANGUL SYLLABLE JEONG}) missing from current font.\n",
      "  func(*args, **kwargs)\n",
      "/Users/kimeunbin/opt/anaconda3/envs/pythonProject/lib/python3.9/site-packages/IPython/core/events.py:89: UserWarning: Glyph 44396 (\\N{HANGUL SYLLABLE GU}) missing from current font.\n",
      "  func(*args, **kwargs)\n",
      "/Users/kimeunbin/opt/anaconda3/envs/pythonProject/lib/python3.9/site-packages/IPython/core/events.py:89: UserWarning: Glyph 50669 (\\N{HANGUL SYLLABLE YEOG}) missing from current font.\n",
      "  func(*args, **kwargs)\n",
      "/Users/kimeunbin/opt/anaconda3/envs/pythonProject/lib/python3.9/site-packages/IPython/core/events.py:89: UserWarning: Glyph 48324 (\\N{HANGUL SYLLABLE BYEOL}) missing from current font.\n",
      "  func(*args, **kwargs)\n",
      "/Users/kimeunbin/opt/anaconda3/envs/pythonProject/lib/python3.9/site-packages/IPython/core/events.py:89: UserWarning: Glyph 51064 (\\N{HANGUL SYLLABLE IN}) missing from current font.\n",
      "  func(*args, **kwargs)\n",
      "/Users/kimeunbin/opt/anaconda3/envs/pythonProject/lib/python3.9/site-packages/IPython/core/events.py:89: UserWarning: Glyph 49688 (\\N{HANGUL SYLLABLE SU}) missing from current font.\n",
      "  func(*args, **kwargs)\n",
      "/Users/kimeunbin/opt/anaconda3/envs/pythonProject/lib/python3.9/site-packages/IPython/core/events.py:89: UserWarning: Glyph 50896 (\\N{HANGUL SYLLABLE WEON}) missing from current font.\n",
      "  func(*args, **kwargs)\n",
      "/Users/kimeunbin/opt/anaconda3/envs/pythonProject/lib/python3.9/site-packages/IPython/core/events.py:89: UserWarning: Glyph 49884 (\\N{HANGUL SYLLABLE SI}) missing from current font.\n",
      "  func(*args, **kwargs)\n",
      "/Users/kimeunbin/opt/anaconda3/envs/pythonProject/lib/python3.9/site-packages/IPython/core/events.py:89: UserWarning: Glyph 44256 (\\N{HANGUL SYLLABLE GO}) missing from current font.\n",
      "  func(*args, **kwargs)\n",
      "/Users/kimeunbin/opt/anaconda3/envs/pythonProject/lib/python3.9/site-packages/IPython/core/events.py:89: UserWarning: Glyph 50577 (\\N{HANGUL SYLLABLE YANG}) missing from current font.\n",
      "  func(*args, **kwargs)\n",
      "/Users/kimeunbin/opt/anaconda3/envs/pythonProject/lib/python3.9/site-packages/IPython/core/events.py:89: UserWarning: Glyph 50857 (\\N{HANGUL SYLLABLE YONG}) missing from current font.\n",
      "  func(*args, **kwargs)\n",
      "/Users/kimeunbin/opt/anaconda3/envs/pythonProject/lib/python3.9/site-packages/IPython/core/events.py:89: UserWarning: Glyph 49457 (\\N{HANGUL SYLLABLE SEONG}) missing from current font.\n",
      "  func(*args, **kwargs)\n",
      "/Users/kimeunbin/opt/anaconda3/envs/pythonProject/lib/python3.9/site-packages/IPython/core/events.py:89: UserWarning: Glyph 45224 (\\N{HANGUL SYLLABLE NAM}) missing from current font.\n",
      "  func(*args, **kwargs)\n",
      "/Users/kimeunbin/opt/anaconda3/envs/pythonProject/lib/python3.9/site-packages/IPython/core/events.py:89: UserWarning: Glyph 48512 (\\N{HANGUL SYLLABLE BU}) missing from current font.\n",
      "  func(*args, **kwargs)\n",
      "/Users/kimeunbin/opt/anaconda3/envs/pythonProject/lib/python3.9/site-packages/IPython/core/events.py:89: UserWarning: Glyph 52380 (\\N{HANGUL SYLLABLE CEON}) missing from current font.\n",
      "  func(*args, **kwargs)\n",
      "/Users/kimeunbin/opt/anaconda3/envs/pythonProject/lib/python3.9/site-packages/IPython/core/events.py:89: UserWarning: Glyph 50504 (\\N{HANGUL SYLLABLE AN}) missing from current font.\n",
      "  func(*args, **kwargs)\n",
      "/Users/kimeunbin/opt/anaconda3/envs/pythonProject/lib/python3.9/site-packages/IPython/core/events.py:89: UserWarning: Glyph 49328 (\\N{HANGUL SYLLABLE SAN}) missing from current font.\n",
      "  func(*args, **kwargs)\n",
      "/Users/kimeunbin/opt/anaconda3/envs/pythonProject/lib/python3.9/site-packages/IPython/core/events.py:89: UserWarning: Glyph 51452 (\\N{HANGUL SYLLABLE JU}) missing from current font.\n",
      "  func(*args, **kwargs)\n",
      "/Users/kimeunbin/opt/anaconda3/envs/pythonProject/lib/python3.9/site-packages/IPython/core/events.py:89: UserWarning: Glyph 54868 (\\N{HANGUL SYLLABLE HWA}) missing from current font.\n",
      "  func(*args, **kwargs)\n",
      "/Users/kimeunbin/opt/anaconda3/envs/pythonProject/lib/python3.9/site-packages/IPython/core/events.py:89: UserWarning: Glyph 54217 (\\N{HANGUL SYLLABLE PYEONG}) missing from current font.\n",
      "  func(*args, **kwargs)\n",
      "/Users/kimeunbin/opt/anaconda3/envs/pythonProject/lib/python3.9/site-packages/IPython/core/events.py:89: UserWarning: Glyph 53469 (\\N{HANGUL SYLLABLE TAEG}) missing from current font.\n",
      "  func(*args, **kwargs)\n",
      "/Users/kimeunbin/opt/anaconda3/envs/pythonProject/lib/python3.9/site-packages/IPython/core/events.py:89: UserWarning: Glyph 51032 (\\N{HANGUL SYLLABLE YI}) missing from current font.\n",
      "  func(*args, **kwargs)\n",
      "/Users/kimeunbin/opt/anaconda3/envs/pythonProject/lib/python3.9/site-packages/IPython/core/events.py:89: UserWarning: Glyph 54028 (\\N{HANGUL SYLLABLE PA}) missing from current font.\n",
      "  func(*args, **kwargs)\n",
      "/Users/kimeunbin/opt/anaconda3/envs/pythonProject/lib/python3.9/site-packages/IPython/core/events.py:89: UserWarning: Glyph 55141 (\\N{HANGUL SYLLABLE HEUNG}) missing from current font.\n",
      "  func(*args, **kwargs)\n",
      "/Users/kimeunbin/opt/anaconda3/envs/pythonProject/lib/python3.9/site-packages/IPython/core/events.py:89: UserWarning: Glyph 44305 (\\N{HANGUL SYLLABLE GWANG}) missing from current font.\n",
      "  func(*args, **kwargs)\n",
      "/Users/kimeunbin/opt/anaconda3/envs/pythonProject/lib/python3.9/site-packages/IPython/core/events.py:89: UserWarning: Glyph 47749 (\\N{HANGUL SYLLABLE MYEONG}) missing from current font.\n",
      "  func(*args, **kwargs)\n",
      "/Users/kimeunbin/opt/anaconda3/envs/pythonProject/lib/python3.9/site-packages/IPython/core/events.py:89: UserWarning: Glyph 44608 (\\N{HANGUL SYLLABLE GIM}) missing from current font.\n",
      "  func(*args, **kwargs)\n",
      "/Users/kimeunbin/opt/anaconda3/envs/pythonProject/lib/python3.9/site-packages/IPython/core/events.py:89: UserWarning: Glyph 54252 (\\N{HANGUL SYLLABLE PO}) missing from current font.\n",
      "  func(*args, **kwargs)\n",
      "/Users/kimeunbin/opt/anaconda3/envs/pythonProject/lib/python3.9/site-packages/IPython/core/events.py:89: UserWarning: Glyph 44400 (\\N{HANGUL SYLLABLE GUN}) missing from current font.\n",
      "  func(*args, **kwargs)\n",
      "/Users/kimeunbin/opt/anaconda3/envs/pythonProject/lib/python3.9/site-packages/IPython/core/events.py:89: UserWarning: Glyph 50724 (\\N{HANGUL SYLLABLE O}) missing from current font.\n",
      "  func(*args, **kwargs)\n",
      "/Users/kimeunbin/opt/anaconda3/envs/pythonProject/lib/python3.9/site-packages/IPython/core/events.py:89: UserWarning: Glyph 51060 (\\N{HANGUL SYLLABLE I}) missing from current font.\n",
      "  func(*args, **kwargs)\n",
      "/Users/kimeunbin/opt/anaconda3/envs/pythonProject/lib/python3.9/site-packages/IPython/core/events.py:89: UserWarning: Glyph 47532 (\\N{HANGUL SYLLABLE RI}) missing from current font.\n",
      "  func(*args, **kwargs)\n",
      "/Users/kimeunbin/opt/anaconda3/envs/pythonProject/lib/python3.9/site-packages/IPython/core/events.py:89: UserWarning: Glyph 54616 (\\N{HANGUL SYLLABLE HA}) missing from current font.\n",
      "  func(*args, **kwargs)\n",
      "/Users/kimeunbin/opt/anaconda3/envs/pythonProject/lib/python3.9/site-packages/IPython/core/events.py:89: UserWarning: Glyph 50773 (\\N{HANGUL SYLLABLE WANG}) missing from current font.\n",
      "  func(*args, **kwargs)\n",
      "/Users/kimeunbin/opt/anaconda3/envs/pythonProject/lib/python3.9/site-packages/IPython/core/events.py:89: UserWarning: Glyph 50668 (\\N{HANGUL SYLLABLE YEO}) missing from current font.\n",
      "  func(*args, **kwargs)\n",
      "/Users/kimeunbin/opt/anaconda3/envs/pythonProject/lib/python3.9/site-packages/IPython/core/events.py:89: UserWarning: Glyph 46041 (\\N{HANGUL SYLLABLE DONG}) missing from current font.\n",
      "  func(*args, **kwargs)\n",
      "/Users/kimeunbin/opt/anaconda3/envs/pythonProject/lib/python3.9/site-packages/IPython/core/events.py:89: UserWarning: Glyph 46160 (\\N{HANGUL SYLLABLE DU}) missing from current font.\n",
      "  func(*args, **kwargs)\n",
      "/Users/kimeunbin/opt/anaconda3/envs/pythonProject/lib/python3.9/site-packages/IPython/core/events.py:89: UserWarning: Glyph 44284 (\\N{HANGUL SYLLABLE GWA}) missing from current font.\n",
      "  func(*args, **kwargs)\n",
      "/Users/kimeunbin/opt/anaconda3/envs/pythonProject/lib/python3.9/site-packages/IPython/core/events.py:89: UserWarning: Glyph 44032 (\\N{HANGUL SYLLABLE GA}) missing from current font.\n",
      "  func(*args, **kwargs)\n",
      "/Users/kimeunbin/opt/anaconda3/envs/pythonProject/lib/python3.9/site-packages/IPython/core/events.py:89: UserWarning: Glyph 50672 (\\N{HANGUL SYLLABLE YEON}) missing from current font.\n",
      "  func(*args, **kwargs)\n",
      "/Users/kimeunbin/opt/anaconda3/envs/pythonProject/lib/python3.9/site-packages/IPython/core/events.py:89: UserWarning: Glyph 47732 (\\N{HANGUL SYLLABLE MYEON}) missing from current font.\n",
      "  func(*args, **kwargs)\n",
      "/Users/kimeunbin/opt/anaconda3/envs/pythonProject/lib/python3.9/site-packages/IPython/core/events.py:89: UserWarning: Glyph 51201 (\\N{HANGUL SYLLABLE JEOG}) missing from current font.\n",
      "  func(*args, **kwargs)\n",
      "/Users/kimeunbin/opt/anaconda3/envs/pythonProject/lib/python3.9/site-packages/IPython/core/pylabtools.py:151: UserWarning: Glyph 44221 (\\N{HANGUL SYLLABLE GYEONG}) missing from current font.\n",
      "  fig.canvas.print_figure(bytes_io, **kw)\n",
      "/Users/kimeunbin/opt/anaconda3/envs/pythonProject/lib/python3.9/site-packages/IPython/core/pylabtools.py:151: UserWarning: Glyph 44592 (\\N{HANGUL SYLLABLE GI}) missing from current font.\n",
      "  fig.canvas.print_figure(bytes_io, **kw)\n",
      "/Users/kimeunbin/opt/anaconda3/envs/pythonProject/lib/python3.9/site-packages/IPython/core/pylabtools.py:151: UserWarning: Glyph 46020 (\\N{HANGUL SYLLABLE DO}) missing from current font.\n",
      "  fig.canvas.print_figure(bytes_io, **kw)\n",
      "/Users/kimeunbin/opt/anaconda3/envs/pythonProject/lib/python3.9/site-packages/IPython/core/pylabtools.py:151: UserWarning: Glyph 54665 (\\N{HANGUL SYLLABLE HAENG}) missing from current font.\n",
      "  fig.canvas.print_figure(bytes_io, **kw)\n",
      "/Users/kimeunbin/opt/anaconda3/envs/pythonProject/lib/python3.9/site-packages/IPython/core/pylabtools.py:151: UserWarning: Glyph 51221 (\\N{HANGUL SYLLABLE JEONG}) missing from current font.\n",
      "  fig.canvas.print_figure(bytes_io, **kw)\n",
      "/Users/kimeunbin/opt/anaconda3/envs/pythonProject/lib/python3.9/site-packages/IPython/core/pylabtools.py:151: UserWarning: Glyph 44396 (\\N{HANGUL SYLLABLE GU}) missing from current font.\n",
      "  fig.canvas.print_figure(bytes_io, **kw)\n",
      "/Users/kimeunbin/opt/anaconda3/envs/pythonProject/lib/python3.9/site-packages/IPython/core/pylabtools.py:151: UserWarning: Glyph 50669 (\\N{HANGUL SYLLABLE YEOG}) missing from current font.\n",
      "  fig.canvas.print_figure(bytes_io, **kw)\n",
      "/Users/kimeunbin/opt/anaconda3/envs/pythonProject/lib/python3.9/site-packages/IPython/core/pylabtools.py:151: UserWarning: Glyph 48324 (\\N{HANGUL SYLLABLE BYEOL}) missing from current font.\n",
      "  fig.canvas.print_figure(bytes_io, **kw)\n",
      "/Users/kimeunbin/opt/anaconda3/envs/pythonProject/lib/python3.9/site-packages/IPython/core/pylabtools.py:151: UserWarning: Glyph 51064 (\\N{HANGUL SYLLABLE IN}) missing from current font.\n",
      "  fig.canvas.print_figure(bytes_io, **kw)\n",
      "/Users/kimeunbin/opt/anaconda3/envs/pythonProject/lib/python3.9/site-packages/IPython/core/pylabtools.py:151: UserWarning: Glyph 49688 (\\N{HANGUL SYLLABLE SU}) missing from current font.\n",
      "  fig.canvas.print_figure(bytes_io, **kw)\n",
      "/Users/kimeunbin/opt/anaconda3/envs/pythonProject/lib/python3.9/site-packages/IPython/core/pylabtools.py:151: UserWarning: Glyph 50896 (\\N{HANGUL SYLLABLE WEON}) missing from current font.\n",
      "  fig.canvas.print_figure(bytes_io, **kw)\n",
      "/Users/kimeunbin/opt/anaconda3/envs/pythonProject/lib/python3.9/site-packages/IPython/core/pylabtools.py:151: UserWarning: Glyph 49884 (\\N{HANGUL SYLLABLE SI}) missing from current font.\n",
      "  fig.canvas.print_figure(bytes_io, **kw)\n",
      "/Users/kimeunbin/opt/anaconda3/envs/pythonProject/lib/python3.9/site-packages/IPython/core/pylabtools.py:151: UserWarning: Glyph 44256 (\\N{HANGUL SYLLABLE GO}) missing from current font.\n",
      "  fig.canvas.print_figure(bytes_io, **kw)\n",
      "/Users/kimeunbin/opt/anaconda3/envs/pythonProject/lib/python3.9/site-packages/IPython/core/pylabtools.py:151: UserWarning: Glyph 50577 (\\N{HANGUL SYLLABLE YANG}) missing from current font.\n",
      "  fig.canvas.print_figure(bytes_io, **kw)\n",
      "/Users/kimeunbin/opt/anaconda3/envs/pythonProject/lib/python3.9/site-packages/IPython/core/pylabtools.py:151: UserWarning: Glyph 50857 (\\N{HANGUL SYLLABLE YONG}) missing from current font.\n",
      "  fig.canvas.print_figure(bytes_io, **kw)\n",
      "/Users/kimeunbin/opt/anaconda3/envs/pythonProject/lib/python3.9/site-packages/IPython/core/pylabtools.py:151: UserWarning: Glyph 49457 (\\N{HANGUL SYLLABLE SEONG}) missing from current font.\n",
      "  fig.canvas.print_figure(bytes_io, **kw)\n",
      "/Users/kimeunbin/opt/anaconda3/envs/pythonProject/lib/python3.9/site-packages/IPython/core/pylabtools.py:151: UserWarning: Glyph 45224 (\\N{HANGUL SYLLABLE NAM}) missing from current font.\n",
      "  fig.canvas.print_figure(bytes_io, **kw)\n",
      "/Users/kimeunbin/opt/anaconda3/envs/pythonProject/lib/python3.9/site-packages/IPython/core/pylabtools.py:151: UserWarning: Glyph 48512 (\\N{HANGUL SYLLABLE BU}) missing from current font.\n",
      "  fig.canvas.print_figure(bytes_io, **kw)\n",
      "/Users/kimeunbin/opt/anaconda3/envs/pythonProject/lib/python3.9/site-packages/IPython/core/pylabtools.py:151: UserWarning: Glyph 52380 (\\N{HANGUL SYLLABLE CEON}) missing from current font.\n",
      "  fig.canvas.print_figure(bytes_io, **kw)\n",
      "/Users/kimeunbin/opt/anaconda3/envs/pythonProject/lib/python3.9/site-packages/IPython/core/pylabtools.py:151: UserWarning: Glyph 50504 (\\N{HANGUL SYLLABLE AN}) missing from current font.\n",
      "  fig.canvas.print_figure(bytes_io, **kw)\n",
      "/Users/kimeunbin/opt/anaconda3/envs/pythonProject/lib/python3.9/site-packages/IPython/core/pylabtools.py:151: UserWarning: Glyph 49328 (\\N{HANGUL SYLLABLE SAN}) missing from current font.\n",
      "  fig.canvas.print_figure(bytes_io, **kw)\n",
      "/Users/kimeunbin/opt/anaconda3/envs/pythonProject/lib/python3.9/site-packages/IPython/core/pylabtools.py:151: UserWarning: Glyph 51452 (\\N{HANGUL SYLLABLE JU}) missing from current font.\n",
      "  fig.canvas.print_figure(bytes_io, **kw)\n",
      "/Users/kimeunbin/opt/anaconda3/envs/pythonProject/lib/python3.9/site-packages/IPython/core/pylabtools.py:151: UserWarning: Glyph 54868 (\\N{HANGUL SYLLABLE HWA}) missing from current font.\n",
      "  fig.canvas.print_figure(bytes_io, **kw)\n",
      "/Users/kimeunbin/opt/anaconda3/envs/pythonProject/lib/python3.9/site-packages/IPython/core/pylabtools.py:151: UserWarning: Glyph 54217 (\\N{HANGUL SYLLABLE PYEONG}) missing from current font.\n",
      "  fig.canvas.print_figure(bytes_io, **kw)\n",
      "/Users/kimeunbin/opt/anaconda3/envs/pythonProject/lib/python3.9/site-packages/IPython/core/pylabtools.py:151: UserWarning: Glyph 53469 (\\N{HANGUL SYLLABLE TAEG}) missing from current font.\n",
      "  fig.canvas.print_figure(bytes_io, **kw)\n",
      "/Users/kimeunbin/opt/anaconda3/envs/pythonProject/lib/python3.9/site-packages/IPython/core/pylabtools.py:151: UserWarning: Glyph 51032 (\\N{HANGUL SYLLABLE YI}) missing from current font.\n",
      "  fig.canvas.print_figure(bytes_io, **kw)\n",
      "/Users/kimeunbin/opt/anaconda3/envs/pythonProject/lib/python3.9/site-packages/IPython/core/pylabtools.py:151: UserWarning: Glyph 54028 (\\N{HANGUL SYLLABLE PA}) missing from current font.\n",
      "  fig.canvas.print_figure(bytes_io, **kw)\n",
      "/Users/kimeunbin/opt/anaconda3/envs/pythonProject/lib/python3.9/site-packages/IPython/core/pylabtools.py:151: UserWarning: Glyph 55141 (\\N{HANGUL SYLLABLE HEUNG}) missing from current font.\n",
      "  fig.canvas.print_figure(bytes_io, **kw)\n",
      "/Users/kimeunbin/opt/anaconda3/envs/pythonProject/lib/python3.9/site-packages/IPython/core/pylabtools.py:151: UserWarning: Glyph 44305 (\\N{HANGUL SYLLABLE GWANG}) missing from current font.\n",
      "  fig.canvas.print_figure(bytes_io, **kw)\n",
      "/Users/kimeunbin/opt/anaconda3/envs/pythonProject/lib/python3.9/site-packages/IPython/core/pylabtools.py:151: UserWarning: Glyph 47749 (\\N{HANGUL SYLLABLE MYEONG}) missing from current font.\n",
      "  fig.canvas.print_figure(bytes_io, **kw)\n",
      "/Users/kimeunbin/opt/anaconda3/envs/pythonProject/lib/python3.9/site-packages/IPython/core/pylabtools.py:151: UserWarning: Glyph 44400 (\\N{HANGUL SYLLABLE GUN}) missing from current font.\n",
      "  fig.canvas.print_figure(bytes_io, **kw)\n",
      "/Users/kimeunbin/opt/anaconda3/envs/pythonProject/lib/python3.9/site-packages/IPython/core/pylabtools.py:151: UserWarning: Glyph 54252 (\\N{HANGUL SYLLABLE PO}) missing from current font.\n",
      "  fig.canvas.print_figure(bytes_io, **kw)\n",
      "/Users/kimeunbin/opt/anaconda3/envs/pythonProject/lib/python3.9/site-packages/IPython/core/pylabtools.py:151: UserWarning: Glyph 50724 (\\N{HANGUL SYLLABLE O}) missing from current font.\n",
      "  fig.canvas.print_figure(bytes_io, **kw)\n",
      "/Users/kimeunbin/opt/anaconda3/envs/pythonProject/lib/python3.9/site-packages/IPython/core/pylabtools.py:151: UserWarning: Glyph 51060 (\\N{HANGUL SYLLABLE I}) missing from current font.\n",
      "  fig.canvas.print_figure(bytes_io, **kw)\n",
      "/Users/kimeunbin/opt/anaconda3/envs/pythonProject/lib/python3.9/site-packages/IPython/core/pylabtools.py:151: UserWarning: Glyph 47532 (\\N{HANGUL SYLLABLE RI}) missing from current font.\n",
      "  fig.canvas.print_figure(bytes_io, **kw)\n",
      "/Users/kimeunbin/opt/anaconda3/envs/pythonProject/lib/python3.9/site-packages/IPython/core/pylabtools.py:151: UserWarning: Glyph 54616 (\\N{HANGUL SYLLABLE HA}) missing from current font.\n",
      "  fig.canvas.print_figure(bytes_io, **kw)\n",
      "/Users/kimeunbin/opt/anaconda3/envs/pythonProject/lib/python3.9/site-packages/IPython/core/pylabtools.py:151: UserWarning: Glyph 50773 (\\N{HANGUL SYLLABLE WANG}) missing from current font.\n",
      "  fig.canvas.print_figure(bytes_io, **kw)\n",
      "/Users/kimeunbin/opt/anaconda3/envs/pythonProject/lib/python3.9/site-packages/IPython/core/pylabtools.py:151: UserWarning: Glyph 50668 (\\N{HANGUL SYLLABLE YEO}) missing from current font.\n",
      "  fig.canvas.print_figure(bytes_io, **kw)\n",
      "/Users/kimeunbin/opt/anaconda3/envs/pythonProject/lib/python3.9/site-packages/IPython/core/pylabtools.py:151: UserWarning: Glyph 46041 (\\N{HANGUL SYLLABLE DONG}) missing from current font.\n",
      "  fig.canvas.print_figure(bytes_io, **kw)\n",
      "/Users/kimeunbin/opt/anaconda3/envs/pythonProject/lib/python3.9/site-packages/IPython/core/pylabtools.py:151: UserWarning: Glyph 46160 (\\N{HANGUL SYLLABLE DU}) missing from current font.\n",
      "  fig.canvas.print_figure(bytes_io, **kw)\n",
      "/Users/kimeunbin/opt/anaconda3/envs/pythonProject/lib/python3.9/site-packages/IPython/core/pylabtools.py:151: UserWarning: Glyph 44284 (\\N{HANGUL SYLLABLE GWA}) missing from current font.\n",
      "  fig.canvas.print_figure(bytes_io, **kw)\n",
      "/Users/kimeunbin/opt/anaconda3/envs/pythonProject/lib/python3.9/site-packages/IPython/core/pylabtools.py:151: UserWarning: Glyph 44032 (\\N{HANGUL SYLLABLE GA}) missing from current font.\n",
      "  fig.canvas.print_figure(bytes_io, **kw)\n",
      "/Users/kimeunbin/opt/anaconda3/envs/pythonProject/lib/python3.9/site-packages/IPython/core/pylabtools.py:151: UserWarning: Glyph 50672 (\\N{HANGUL SYLLABLE YEON}) missing from current font.\n",
      "  fig.canvas.print_figure(bytes_io, **kw)\n",
      "/Users/kimeunbin/opt/anaconda3/envs/pythonProject/lib/python3.9/site-packages/IPython/core/pylabtools.py:151: UserWarning: Glyph 47732 (\\N{HANGUL SYLLABLE MYEON}) missing from current font.\n",
      "  fig.canvas.print_figure(bytes_io, **kw)\n",
      "/Users/kimeunbin/opt/anaconda3/envs/pythonProject/lib/python3.9/site-packages/IPython/core/pylabtools.py:151: UserWarning: Glyph 51201 (\\N{HANGUL SYLLABLE JEOG}) missing from current font.\n",
      "  fig.canvas.print_figure(bytes_io, **kw)\n",
      "/Users/kimeunbin/opt/anaconda3/envs/pythonProject/lib/python3.9/site-packages/IPython/core/pylabtools.py:151: UserWarning: Glyph 44608 (\\N{HANGUL SYLLABLE GIM}) missing from current font.\n",
      "  fig.canvas.print_figure(bytes_io, **kw)\n"
     ]
    },
    {
     "data": {
      "text/plain": "<Figure size 1296x864 with 2 Axes>",
      "image/png": "[encoded data removed]"
     },
     "metadata": {
      "needs_background": "light"
     },
     "output_type": "display_data"
    }
   ],
   "source": [
    "print_barplot('경기도')"
   ],
   "metadata": {
    "collapsed": false,
    "pycharm": {
     "name": "#%%\n"
    }
   }
  },
  {
   "cell_type": "code",
   "execution_count": 130,
   "outputs": [
    {
     "data": {
      "text/plain": "<AxesSubplot:xlabel='광역시도', ylabel='인구수'>"
     },
     "execution_count": 130,
     "metadata": {},
     "output_type": "execute_result"
    },
    {
     "name": "stderr",
     "output_type": "stream",
     "text": [
      "/Users/kimeunbin/opt/anaconda3/envs/pythonProject/lib/python3.9/site-packages/IPython/core/events.py:89: UserWarning: Glyph 44053 (\\N{HANGUL SYLLABLE GANG}) missing from current font.\n",
      "  func(*args, **kwargs)\n",
      "/Users/kimeunbin/opt/anaconda3/envs/pythonProject/lib/python3.9/site-packages/IPython/core/events.py:89: UserWarning: Glyph 50896 (\\N{HANGUL SYLLABLE WEON}) missing from current font.\n",
      "  func(*args, **kwargs)\n",
      "/Users/kimeunbin/opt/anaconda3/envs/pythonProject/lib/python3.9/site-packages/IPython/core/events.py:89: UserWarning: Glyph 46020 (\\N{HANGUL SYLLABLE DO}) missing from current font.\n",
      "  func(*args, **kwargs)\n",
      "/Users/kimeunbin/opt/anaconda3/envs/pythonProject/lib/python3.9/site-packages/IPython/core/events.py:89: UserWarning: Glyph 44221 (\\N{HANGUL SYLLABLE GYEONG}) missing from current font.\n",
      "  func(*args, **kwargs)\n",
      "/Users/kimeunbin/opt/anaconda3/envs/pythonProject/lib/python3.9/site-packages/IPython/core/events.py:89: UserWarning: Glyph 44592 (\\N{HANGUL SYLLABLE GI}) missing from current font.\n",
      "  func(*args, **kwargs)\n",
      "/Users/kimeunbin/opt/anaconda3/envs/pythonProject/lib/python3.9/site-packages/IPython/core/events.py:89: UserWarning: Glyph 49345 (\\N{HANGUL SYLLABLE SANG}) missing from current font.\n",
      "  func(*args, **kwargs)\n",
      "/Users/kimeunbin/opt/anaconda3/envs/pythonProject/lib/python3.9/site-packages/IPython/core/events.py:89: UserWarning: Glyph 45224 (\\N{HANGUL SYLLABLE NAM}) missing from current font.\n",
      "  func(*args, **kwargs)\n",
      "/Users/kimeunbin/opt/anaconda3/envs/pythonProject/lib/python3.9/site-packages/IPython/core/events.py:89: UserWarning: Glyph 48513 (\\N{HANGUL SYLLABLE BUG}) missing from current font.\n",
      "  func(*args, **kwargs)\n",
      "/Users/kimeunbin/opt/anaconda3/envs/pythonProject/lib/python3.9/site-packages/IPython/core/events.py:89: UserWarning: Glyph 44305 (\\N{HANGUL SYLLABLE GWANG}) missing from current font.\n",
      "  func(*args, **kwargs)\n",
      "/Users/kimeunbin/opt/anaconda3/envs/pythonProject/lib/python3.9/site-packages/IPython/core/events.py:89: UserWarning: Glyph 51452 (\\N{HANGUL SYLLABLE JU}) missing from current font.\n",
      "  func(*args, **kwargs)\n",
      "/Users/kimeunbin/opt/anaconda3/envs/pythonProject/lib/python3.9/site-packages/IPython/core/events.py:89: UserWarning: Glyph 50669 (\\N{HANGUL SYLLABLE YEOG}) missing from current font.\n",
      "  func(*args, **kwargs)\n",
      "/Users/kimeunbin/opt/anaconda3/envs/pythonProject/lib/python3.9/site-packages/IPython/core/events.py:89: UserWarning: Glyph 49884 (\\N{HANGUL SYLLABLE SI}) missing from current font.\n",
      "  func(*args, **kwargs)\n",
      "/Users/kimeunbin/opt/anaconda3/envs/pythonProject/lib/python3.9/site-packages/IPython/core/events.py:89: UserWarning: Glyph 45824 (\\N{HANGUL SYLLABLE DAE}) missing from current font.\n",
      "  func(*args, **kwargs)\n",
      "/Users/kimeunbin/opt/anaconda3/envs/pythonProject/lib/python3.9/site-packages/IPython/core/events.py:89: UserWarning: Glyph 44396 (\\N{HANGUL SYLLABLE GU}) missing from current font.\n",
      "  func(*args, **kwargs)\n",
      "/Users/kimeunbin/opt/anaconda3/envs/pythonProject/lib/python3.9/site-packages/IPython/core/events.py:89: UserWarning: Glyph 51204 (\\N{HANGUL SYLLABLE JEON}) missing from current font.\n",
      "  func(*args, **kwargs)\n",
      "/Users/kimeunbin/opt/anaconda3/envs/pythonProject/lib/python3.9/site-packages/IPython/core/events.py:89: UserWarning: Glyph 48512 (\\N{HANGUL SYLLABLE BU}) missing from current font.\n",
      "  func(*args, **kwargs)\n",
      "/Users/kimeunbin/opt/anaconda3/envs/pythonProject/lib/python3.9/site-packages/IPython/core/events.py:89: UserWarning: Glyph 49328 (\\N{HANGUL SYLLABLE SAN}) missing from current font.\n",
      "  func(*args, **kwargs)\n",
      "/Users/kimeunbin/opt/anaconda3/envs/pythonProject/lib/python3.9/site-packages/IPython/core/events.py:89: UserWarning: Glyph 49436 (\\N{HANGUL SYLLABLE SEO}) missing from current font.\n",
      "  func(*args, **kwargs)\n",
      "/Users/kimeunbin/opt/anaconda3/envs/pythonProject/lib/python3.9/site-packages/IPython/core/events.py:89: UserWarning: Glyph 50872 (\\N{HANGUL SYLLABLE UL}) missing from current font.\n",
      "  func(*args, **kwargs)\n",
      "/Users/kimeunbin/opt/anaconda3/envs/pythonProject/lib/python3.9/site-packages/IPython/core/events.py:89: UserWarning: Glyph 53945 (\\N{HANGUL SYLLABLE TEUG}) missing from current font.\n",
      "  func(*args, **kwargs)\n",
      "/Users/kimeunbin/opt/anaconda3/envs/pythonProject/lib/python3.9/site-packages/IPython/core/events.py:89: UserWarning: Glyph 48324 (\\N{HANGUL SYLLABLE BYEOL}) missing from current font.\n",
      "  func(*args, **kwargs)\n",
      "/Users/kimeunbin/opt/anaconda3/envs/pythonProject/lib/python3.9/site-packages/IPython/core/events.py:89: UserWarning: Glyph 49464 (\\N{HANGUL SYLLABLE SE}) missing from current font.\n",
      "  func(*args, **kwargs)\n",
      "/Users/kimeunbin/opt/anaconda3/envs/pythonProject/lib/python3.9/site-packages/IPython/core/events.py:89: UserWarning: Glyph 51333 (\\N{HANGUL SYLLABLE JONG}) missing from current font.\n",
      "  func(*args, **kwargs)\n",
      "/Users/kimeunbin/opt/anaconda3/envs/pythonProject/lib/python3.9/site-packages/IPython/core/events.py:89: UserWarning: Glyph 51088 (\\N{HANGUL SYLLABLE JA}) missing from current font.\n",
      "  func(*args, **kwargs)\n",
      "/Users/kimeunbin/opt/anaconda3/envs/pythonProject/lib/python3.9/site-packages/IPython/core/events.py:89: UserWarning: Glyph 52824 (\\N{HANGUL SYLLABLE CI}) missing from current font.\n",
      "  func(*args, **kwargs)\n",
      "/Users/kimeunbin/opt/anaconda3/envs/pythonProject/lib/python3.9/site-packages/IPython/core/events.py:89: UserWarning: Glyph 51064 (\\N{HANGUL SYLLABLE IN}) missing from current font.\n",
      "  func(*args, **kwargs)\n",
      "/Users/kimeunbin/opt/anaconda3/envs/pythonProject/lib/python3.9/site-packages/IPython/core/events.py:89: UserWarning: Glyph 52380 (\\N{HANGUL SYLLABLE CEON}) missing from current font.\n",
      "  func(*args, **kwargs)\n",
      "/Users/kimeunbin/opt/anaconda3/envs/pythonProject/lib/python3.9/site-packages/IPython/core/events.py:89: UserWarning: Glyph 46972 (\\N{HANGUL SYLLABLE RA}) missing from current font.\n",
      "  func(*args, **kwargs)\n",
      "/Users/kimeunbin/opt/anaconda3/envs/pythonProject/lib/python3.9/site-packages/IPython/core/events.py:89: UserWarning: Glyph 51228 (\\N{HANGUL SYLLABLE JE}) missing from current font.\n",
      "  func(*args, **kwargs)\n",
      "/Users/kimeunbin/opt/anaconda3/envs/pythonProject/lib/python3.9/site-packages/IPython/core/events.py:89: UserWarning: Glyph 52649 (\\N{HANGUL SYLLABLE CUNG}) missing from current font.\n",
      "  func(*args, **kwargs)\n",
      "/Users/kimeunbin/opt/anaconda3/envs/pythonProject/lib/python3.9/site-packages/IPython/core/events.py:89: UserWarning: Glyph 52397 (\\N{HANGUL SYLLABLE CEONG}) missing from current font.\n",
      "  func(*args, **kwargs)\n",
      "/Users/kimeunbin/opt/anaconda3/envs/pythonProject/lib/python3.9/site-packages/IPython/core/events.py:89: UserWarning: Glyph 49688 (\\N{HANGUL SYLLABLE SU}) missing from current font.\n",
      "  func(*args, **kwargs)\n",
      "/Users/kimeunbin/opt/anaconda3/envs/pythonProject/lib/python3.9/site-packages/IPython/core/pylabtools.py:151: UserWarning: Glyph 44053 (\\N{HANGUL SYLLABLE GANG}) missing from current font.\n",
      "  fig.canvas.print_figure(bytes_io, **kw)\n",
      "/Users/kimeunbin/opt/anaconda3/envs/pythonProject/lib/python3.9/site-packages/IPython/core/pylabtools.py:151: UserWarning: Glyph 50896 (\\N{HANGUL SYLLABLE WEON}) missing from current font.\n",
      "  fig.canvas.print_figure(bytes_io, **kw)\n",
      "/Users/kimeunbin/opt/anaconda3/envs/pythonProject/lib/python3.9/site-packages/IPython/core/pylabtools.py:151: UserWarning: Glyph 46020 (\\N{HANGUL SYLLABLE DO}) missing from current font.\n",
      "  fig.canvas.print_figure(bytes_io, **kw)\n",
      "/Users/kimeunbin/opt/anaconda3/envs/pythonProject/lib/python3.9/site-packages/IPython/core/pylabtools.py:151: UserWarning: Glyph 44221 (\\N{HANGUL SYLLABLE GYEONG}) missing from current font.\n",
      "  fig.canvas.print_figure(bytes_io, **kw)\n",
      "/Users/kimeunbin/opt/anaconda3/envs/pythonProject/lib/python3.9/site-packages/IPython/core/pylabtools.py:151: UserWarning: Glyph 44592 (\\N{HANGUL SYLLABLE GI}) missing from current font.\n",
      "  fig.canvas.print_figure(bytes_io, **kw)\n",
      "/Users/kimeunbin/opt/anaconda3/envs/pythonProject/lib/python3.9/site-packages/IPython/core/pylabtools.py:151: UserWarning: Glyph 49345 (\\N{HANGUL SYLLABLE SANG}) missing from current font.\n",
      "  fig.canvas.print_figure(bytes_io, **kw)\n",
      "/Users/kimeunbin/opt/anaconda3/envs/pythonProject/lib/python3.9/site-packages/IPython/core/pylabtools.py:151: UserWarning: Glyph 45224 (\\N{HANGUL SYLLABLE NAM}) missing from current font.\n",
      "  fig.canvas.print_figure(bytes_io, **kw)\n",
      "/Users/kimeunbin/opt/anaconda3/envs/pythonProject/lib/python3.9/site-packages/IPython/core/pylabtools.py:151: UserWarning: Glyph 48513 (\\N{HANGUL SYLLABLE BUG}) missing from current font.\n",
      "  fig.canvas.print_figure(bytes_io, **kw)\n",
      "/Users/kimeunbin/opt/anaconda3/envs/pythonProject/lib/python3.9/site-packages/IPython/core/pylabtools.py:151: UserWarning: Glyph 44305 (\\N{HANGUL SYLLABLE GWANG}) missing from current font.\n",
      "  fig.canvas.print_figure(bytes_io, **kw)\n",
      "/Users/kimeunbin/opt/anaconda3/envs/pythonProject/lib/python3.9/site-packages/IPython/core/pylabtools.py:151: UserWarning: Glyph 51452 (\\N{HANGUL SYLLABLE JU}) missing from current font.\n",
      "  fig.canvas.print_figure(bytes_io, **kw)\n",
      "/Users/kimeunbin/opt/anaconda3/envs/pythonProject/lib/python3.9/site-packages/IPython/core/pylabtools.py:151: UserWarning: Glyph 50669 (\\N{HANGUL SYLLABLE YEOG}) missing from current font.\n",
      "  fig.canvas.print_figure(bytes_io, **kw)\n",
      "/Users/kimeunbin/opt/anaconda3/envs/pythonProject/lib/python3.9/site-packages/IPython/core/pylabtools.py:151: UserWarning: Glyph 49884 (\\N{HANGUL SYLLABLE SI}) missing from current font.\n",
      "  fig.canvas.print_figure(bytes_io, **kw)\n",
      "/Users/kimeunbin/opt/anaconda3/envs/pythonProject/lib/python3.9/site-packages/IPython/core/pylabtools.py:151: UserWarning: Glyph 45824 (\\N{HANGUL SYLLABLE DAE}) missing from current font.\n",
      "  fig.canvas.print_figure(bytes_io, **kw)\n",
      "/Users/kimeunbin/opt/anaconda3/envs/pythonProject/lib/python3.9/site-packages/IPython/core/pylabtools.py:151: UserWarning: Glyph 44396 (\\N{HANGUL SYLLABLE GU}) missing from current font.\n",
      "  fig.canvas.print_figure(bytes_io, **kw)\n",
      "/Users/kimeunbin/opt/anaconda3/envs/pythonProject/lib/python3.9/site-packages/IPython/core/pylabtools.py:151: UserWarning: Glyph 51204 (\\N{HANGUL SYLLABLE JEON}) missing from current font.\n",
      "  fig.canvas.print_figure(bytes_io, **kw)\n",
      "/Users/kimeunbin/opt/anaconda3/envs/pythonProject/lib/python3.9/site-packages/IPython/core/pylabtools.py:151: UserWarning: Glyph 48512 (\\N{HANGUL SYLLABLE BU}) missing from current font.\n",
      "  fig.canvas.print_figure(bytes_io, **kw)\n",
      "/Users/kimeunbin/opt/anaconda3/envs/pythonProject/lib/python3.9/site-packages/IPython/core/pylabtools.py:151: UserWarning: Glyph 49328 (\\N{HANGUL SYLLABLE SAN}) missing from current font.\n",
      "  fig.canvas.print_figure(bytes_io, **kw)\n",
      "/Users/kimeunbin/opt/anaconda3/envs/pythonProject/lib/python3.9/site-packages/IPython/core/pylabtools.py:151: UserWarning: Glyph 49436 (\\N{HANGUL SYLLABLE SEO}) missing from current font.\n",
      "  fig.canvas.print_figure(bytes_io, **kw)\n",
      "/Users/kimeunbin/opt/anaconda3/envs/pythonProject/lib/python3.9/site-packages/IPython/core/pylabtools.py:151: UserWarning: Glyph 50872 (\\N{HANGUL SYLLABLE UL}) missing from current font.\n",
      "  fig.canvas.print_figure(bytes_io, **kw)\n",
      "/Users/kimeunbin/opt/anaconda3/envs/pythonProject/lib/python3.9/site-packages/IPython/core/pylabtools.py:151: UserWarning: Glyph 53945 (\\N{HANGUL SYLLABLE TEUG}) missing from current font.\n",
      "  fig.canvas.print_figure(bytes_io, **kw)\n",
      "/Users/kimeunbin/opt/anaconda3/envs/pythonProject/lib/python3.9/site-packages/IPython/core/pylabtools.py:151: UserWarning: Glyph 48324 (\\N{HANGUL SYLLABLE BYEOL}) missing from current font.\n",
      "  fig.canvas.print_figure(bytes_io, **kw)\n",
      "/Users/kimeunbin/opt/anaconda3/envs/pythonProject/lib/python3.9/site-packages/IPython/core/pylabtools.py:151: UserWarning: Glyph 49464 (\\N{HANGUL SYLLABLE SE}) missing from current font.\n",
      "  fig.canvas.print_figure(bytes_io, **kw)\n",
      "/Users/kimeunbin/opt/anaconda3/envs/pythonProject/lib/python3.9/site-packages/IPython/core/pylabtools.py:151: UserWarning: Glyph 51333 (\\N{HANGUL SYLLABLE JONG}) missing from current font.\n",
      "  fig.canvas.print_figure(bytes_io, **kw)\n",
      "/Users/kimeunbin/opt/anaconda3/envs/pythonProject/lib/python3.9/site-packages/IPython/core/pylabtools.py:151: UserWarning: Glyph 51088 (\\N{HANGUL SYLLABLE JA}) missing from current font.\n",
      "  fig.canvas.print_figure(bytes_io, **kw)\n",
      "/Users/kimeunbin/opt/anaconda3/envs/pythonProject/lib/python3.9/site-packages/IPython/core/pylabtools.py:151: UserWarning: Glyph 52824 (\\N{HANGUL SYLLABLE CI}) missing from current font.\n",
      "  fig.canvas.print_figure(bytes_io, **kw)\n",
      "/Users/kimeunbin/opt/anaconda3/envs/pythonProject/lib/python3.9/site-packages/IPython/core/pylabtools.py:151: UserWarning: Glyph 51064 (\\N{HANGUL SYLLABLE IN}) missing from current font.\n",
      "  fig.canvas.print_figure(bytes_io, **kw)\n",
      "/Users/kimeunbin/opt/anaconda3/envs/pythonProject/lib/python3.9/site-packages/IPython/core/pylabtools.py:151: UserWarning: Glyph 52380 (\\N{HANGUL SYLLABLE CEON}) missing from current font.\n",
      "  fig.canvas.print_figure(bytes_io, **kw)\n",
      "/Users/kimeunbin/opt/anaconda3/envs/pythonProject/lib/python3.9/site-packages/IPython/core/pylabtools.py:151: UserWarning: Glyph 46972 (\\N{HANGUL SYLLABLE RA}) missing from current font.\n",
      "  fig.canvas.print_figure(bytes_io, **kw)\n",
      "/Users/kimeunbin/opt/anaconda3/envs/pythonProject/lib/python3.9/site-packages/IPython/core/pylabtools.py:151: UserWarning: Glyph 51228 (\\N{HANGUL SYLLABLE JE}) missing from current font.\n",
      "  fig.canvas.print_figure(bytes_io, **kw)\n",
      "/Users/kimeunbin/opt/anaconda3/envs/pythonProject/lib/python3.9/site-packages/IPython/core/pylabtools.py:151: UserWarning: Glyph 52649 (\\N{HANGUL SYLLABLE CUNG}) missing from current font.\n",
      "  fig.canvas.print_figure(bytes_io, **kw)\n",
      "/Users/kimeunbin/opt/anaconda3/envs/pythonProject/lib/python3.9/site-packages/IPython/core/pylabtools.py:151: UserWarning: Glyph 52397 (\\N{HANGUL SYLLABLE CEONG}) missing from current font.\n",
      "  fig.canvas.print_figure(bytes_io, **kw)\n",
      "/Users/kimeunbin/opt/anaconda3/envs/pythonProject/lib/python3.9/site-packages/IPython/core/pylabtools.py:151: UserWarning: Glyph 49688 (\\N{HANGUL SYLLABLE SU}) missing from current font.\n",
      "  fig.canvas.print_figure(bytes_io, **kw)\n"
     ]
    },
    {
     "data": {
      "text/plain": "<Figure size 1296x864 with 1 Axes>",
      "image/png": "[encoded data removed]"
     },
     "metadata": {
      "needs_background": "light"
     },
     "output_type": "display_data"
    }
   ],
   "source": [
    "figure, axes1 = plt.subplots(nrows=1, ncols=1)\n",
    "figure.set_size_inches(18,12)\n",
    "sns.barplot(x='광역시도', y='인구수', data=data, ax=axes1)"
   ],
   "metadata": {
    "collapsed": false,
    "pycharm": {
     "name": "#%%\n"
    }
   }
  },
  {
   "cell_type": "code",
   "execution_count": 131,
   "outputs": [
    {
     "name": "stdout",
     "output_type": "stream",
     "text": [
      "0 124 526157\n",
      "1 125 432028\n",
      "2 126 310292\n",
      "3 127 554709\n",
      "4 128 484478\n",
      "5 129 342909\n",
      "6 130 401233\n",
      "7 131 222566\n",
      "8 132 547202\n",
      "9 133 331682\n",
      "10 134 342429\n",
      "11 135 383917\n",
      "12 136 364232\n",
      "13 137 288543\n",
      "14 138 407416\n",
      "15 139 279939\n",
      "16 140 434061\n",
      "17 141 615487\n",
      "18 142 453634\n",
      "19 143 351837\n",
      "20 144 208603\n",
      "21 145 464236\n",
      "22 146 140595\n",
      "23 147 114967\n",
      "24 148 391655\n"
     ]
    }
   ],
   "source": [
    "for i, v in enumerate(seoul_df[\"인구수\"].iteritems()):\n",
    "    print(i, v[0],v[1])"
   ],
   "metadata": {
    "collapsed": false,
    "pycharm": {
     "name": "#%%\n"
    }
   }
  },
  {
   "cell_type": "code",
   "execution_count": 132,
   "outputs": [
    {
     "name": "stderr",
     "output_type": "stream",
     "text": [
      "/var/folders/7d/9pfcr1bn2bl3ybstxw14zd1h0000gn/T/ipykernel_72279/2260474801.py:10: UserWarning: Glyph 44053 (\\N{HANGUL SYLLABLE GANG}) missing from current font.\n",
      "  plt.tight_layout()\n",
      "/var/folders/7d/9pfcr1bn2bl3ybstxw14zd1h0000gn/T/ipykernel_72279/2260474801.py:10: UserWarning: Glyph 45224 (\\N{HANGUL SYLLABLE NAM}) missing from current font.\n",
      "  plt.tight_layout()\n",
      "/var/folders/7d/9pfcr1bn2bl3ybstxw14zd1h0000gn/T/ipykernel_72279/2260474801.py:10: UserWarning: Glyph 44396 (\\N{HANGUL SYLLABLE GU}) missing from current font.\n",
      "  plt.tight_layout()\n",
      "/var/folders/7d/9pfcr1bn2bl3ybstxw14zd1h0000gn/T/ipykernel_72279/2260474801.py:10: UserWarning: Glyph 46041 (\\N{HANGUL SYLLABLE DONG}) missing from current font.\n",
      "  plt.tight_layout()\n",
      "/var/folders/7d/9pfcr1bn2bl3ybstxw14zd1h0000gn/T/ipykernel_72279/2260474801.py:10: UserWarning: Glyph 48513 (\\N{HANGUL SYLLABLE BUG}) missing from current font.\n",
      "  plt.tight_layout()\n",
      "/var/folders/7d/9pfcr1bn2bl3ybstxw14zd1h0000gn/T/ipykernel_72279/2260474801.py:10: UserWarning: Glyph 49436 (\\N{HANGUL SYLLABLE SEO}) missing from current font.\n",
      "  plt.tight_layout()\n",
      "/var/folders/7d/9pfcr1bn2bl3ybstxw14zd1h0000gn/T/ipykernel_72279/2260474801.py:10: UserWarning: Glyph 44288 (\\N{HANGUL SYLLABLE GWAN}) missing from current font.\n",
      "  plt.tight_layout()\n",
      "/var/folders/7d/9pfcr1bn2bl3ybstxw14zd1h0000gn/T/ipykernel_72279/2260474801.py:10: UserWarning: Glyph 50501 (\\N{HANGUL SYLLABLE AG}) missing from current font.\n",
      "  plt.tight_layout()\n",
      "/var/folders/7d/9pfcr1bn2bl3ybstxw14zd1h0000gn/T/ipykernel_72279/2260474801.py:10: UserWarning: Glyph 44305 (\\N{HANGUL SYLLABLE GWANG}) missing from current font.\n",
      "  plt.tight_layout()\n",
      "/var/folders/7d/9pfcr1bn2bl3ybstxw14zd1h0000gn/T/ipykernel_72279/2260474801.py:10: UserWarning: Glyph 51652 (\\N{HANGUL SYLLABLE JIN}) missing from current font.\n",
      "  plt.tight_layout()\n",
      "/var/folders/7d/9pfcr1bn2bl3ybstxw14zd1h0000gn/T/ipykernel_72279/2260474801.py:10: UserWarning: Glyph 47196 (\\N{HANGUL SYLLABLE RO}) missing from current font.\n",
      "  plt.tight_layout()\n",
      "/var/folders/7d/9pfcr1bn2bl3ybstxw14zd1h0000gn/T/ipykernel_72279/2260474801.py:10: UserWarning: Glyph 44552 (\\N{HANGUL SYLLABLE GEUM}) missing from current font.\n",
      "  plt.tight_layout()\n",
      "/var/folders/7d/9pfcr1bn2bl3ybstxw14zd1h0000gn/T/ipykernel_72279/2260474801.py:10: UserWarning: Glyph 52380 (\\N{HANGUL SYLLABLE CEON}) missing from current font.\n",
      "  plt.tight_layout()\n",
      "/var/folders/7d/9pfcr1bn2bl3ybstxw14zd1h0000gn/T/ipykernel_72279/2260474801.py:10: UserWarning: Glyph 45432 (\\N{HANGUL SYLLABLE NO}) missing from current font.\n",
      "  plt.tight_layout()\n",
      "/var/folders/7d/9pfcr1bn2bl3ybstxw14zd1h0000gn/T/ipykernel_72279/2260474801.py:10: UserWarning: Glyph 50896 (\\N{HANGUL SYLLABLE WEON}) missing from current font.\n",
      "  plt.tight_layout()\n",
      "/var/folders/7d/9pfcr1bn2bl3ybstxw14zd1h0000gn/T/ipykernel_72279/2260474801.py:10: UserWarning: Glyph 46020 (\\N{HANGUL SYLLABLE DO}) missing from current font.\n",
      "  plt.tight_layout()\n",
      "/var/folders/7d/9pfcr1bn2bl3ybstxw14zd1h0000gn/T/ipykernel_72279/2260474801.py:10: UserWarning: Glyph 48393 (\\N{HANGUL SYLLABLE BONG}) missing from current font.\n",
      "  plt.tight_layout()\n",
      "/var/folders/7d/9pfcr1bn2bl3ybstxw14zd1h0000gn/T/ipykernel_72279/2260474801.py:10: UserWarning: Glyph 45824 (\\N{HANGUL SYLLABLE DAE}) missing from current font.\n",
      "  plt.tight_layout()\n",
      "/var/folders/7d/9pfcr1bn2bl3ybstxw14zd1h0000gn/T/ipykernel_72279/2260474801.py:10: UserWarning: Glyph 47928 (\\N{HANGUL SYLLABLE MUN}) missing from current font.\n",
      "  plt.tight_layout()\n",
      "/var/folders/7d/9pfcr1bn2bl3ybstxw14zd1h0000gn/T/ipykernel_72279/2260474801.py:10: UserWarning: Glyph 51089 (\\N{HANGUL SYLLABLE JAG}) missing from current font.\n",
      "  plt.tight_layout()\n",
      "/var/folders/7d/9pfcr1bn2bl3ybstxw14zd1h0000gn/T/ipykernel_72279/2260474801.py:10: UserWarning: Glyph 47560 (\\N{HANGUL SYLLABLE MA}) missing from current font.\n",
      "  plt.tight_layout()\n",
      "/var/folders/7d/9pfcr1bn2bl3ybstxw14zd1h0000gn/T/ipykernel_72279/2260474801.py:10: UserWarning: Glyph 54252 (\\N{HANGUL SYLLABLE PO}) missing from current font.\n",
      "  plt.tight_layout()\n",
      "/var/folders/7d/9pfcr1bn2bl3ybstxw14zd1h0000gn/T/ipykernel_72279/2260474801.py:10: UserWarning: Glyph 52488 (\\N{HANGUL SYLLABLE CO}) missing from current font.\n",
      "  plt.tight_layout()\n",
      "/var/folders/7d/9pfcr1bn2bl3ybstxw14zd1h0000gn/T/ipykernel_72279/2260474801.py:10: UserWarning: Glyph 49457 (\\N{HANGUL SYLLABLE SEONG}) missing from current font.\n",
      "  plt.tight_layout()\n",
      "/var/folders/7d/9pfcr1bn2bl3ybstxw14zd1h0000gn/T/ipykernel_72279/2260474801.py:10: UserWarning: Glyph 49569 (\\N{HANGUL SYLLABLE SONG}) missing from current font.\n",
      "  plt.tight_layout()\n",
      "/var/folders/7d/9pfcr1bn2bl3ybstxw14zd1h0000gn/T/ipykernel_72279/2260474801.py:10: UserWarning: Glyph 54028 (\\N{HANGUL SYLLABLE PA}) missing from current font.\n",
      "  plt.tight_layout()\n",
      "/var/folders/7d/9pfcr1bn2bl3ybstxw14zd1h0000gn/T/ipykernel_72279/2260474801.py:10: UserWarning: Glyph 50577 (\\N{HANGUL SYLLABLE YANG}) missing from current font.\n",
      "  plt.tight_layout()\n",
      "/var/folders/7d/9pfcr1bn2bl3ybstxw14zd1h0000gn/T/ipykernel_72279/2260474801.py:10: UserWarning: Glyph 50689 (\\N{HANGUL SYLLABLE YEONG}) missing from current font.\n",
      "  plt.tight_layout()\n",
      "/var/folders/7d/9pfcr1bn2bl3ybstxw14zd1h0000gn/T/ipykernel_72279/2260474801.py:10: UserWarning: Glyph 46321 (\\N{HANGUL SYLLABLE DEUNG}) missing from current font.\n",
      "  plt.tight_layout()\n",
      "/var/folders/7d/9pfcr1bn2bl3ybstxw14zd1h0000gn/T/ipykernel_72279/2260474801.py:10: UserWarning: Glyph 50857 (\\N{HANGUL SYLLABLE YONG}) missing from current font.\n",
      "  plt.tight_layout()\n",
      "/var/folders/7d/9pfcr1bn2bl3ybstxw14zd1h0000gn/T/ipykernel_72279/2260474801.py:10: UserWarning: Glyph 49328 (\\N{HANGUL SYLLABLE SAN}) missing from current font.\n",
      "  plt.tight_layout()\n",
      "/var/folders/7d/9pfcr1bn2bl3ybstxw14zd1h0000gn/T/ipykernel_72279/2260474801.py:10: UserWarning: Glyph 51008 (\\N{HANGUL SYLLABLE EUN}) missing from current font.\n",
      "  plt.tight_layout()\n",
      "/var/folders/7d/9pfcr1bn2bl3ybstxw14zd1h0000gn/T/ipykernel_72279/2260474801.py:10: UserWarning: Glyph 54217 (\\N{HANGUL SYLLABLE PYEONG}) missing from current font.\n",
      "  plt.tight_layout()\n",
      "/var/folders/7d/9pfcr1bn2bl3ybstxw14zd1h0000gn/T/ipykernel_72279/2260474801.py:10: UserWarning: Glyph 51333 (\\N{HANGUL SYLLABLE JONG}) missing from current font.\n",
      "  plt.tight_layout()\n",
      "/var/folders/7d/9pfcr1bn2bl3ybstxw14zd1h0000gn/T/ipykernel_72279/2260474801.py:10: UserWarning: Glyph 51473 (\\N{HANGUL SYLLABLE JUNG}) missing from current font.\n",
      "  plt.tight_layout()\n",
      "/var/folders/7d/9pfcr1bn2bl3ybstxw14zd1h0000gn/T/ipykernel_72279/2260474801.py:10: UserWarning: Glyph 46993 (\\N{HANGUL SYLLABLE RANG}) missing from current font.\n",
      "  plt.tight_layout()\n",
      "/var/folders/7d/9pfcr1bn2bl3ybstxw14zd1h0000gn/T/ipykernel_72279/2260474801.py:10: UserWarning: Glyph 54665 (\\N{HANGUL SYLLABLE HAENG}) missing from current font.\n",
      "  plt.tight_layout()\n",
      "/var/folders/7d/9pfcr1bn2bl3ybstxw14zd1h0000gn/T/ipykernel_72279/2260474801.py:10: UserWarning: Glyph 51221 (\\N{HANGUL SYLLABLE JEONG}) missing from current font.\n",
      "  plt.tight_layout()\n",
      "/var/folders/7d/9pfcr1bn2bl3ybstxw14zd1h0000gn/T/ipykernel_72279/2260474801.py:10: UserWarning: Glyph 50669 (\\N{HANGUL SYLLABLE YEOG}) missing from current font.\n",
      "  plt.tight_layout()\n",
      "/var/folders/7d/9pfcr1bn2bl3ybstxw14zd1h0000gn/T/ipykernel_72279/2260474801.py:10: UserWarning: Glyph 51064 (\\N{HANGUL SYLLABLE IN}) missing from current font.\n",
      "  plt.tight_layout()\n",
      "/var/folders/7d/9pfcr1bn2bl3ybstxw14zd1h0000gn/T/ipykernel_72279/2260474801.py:10: UserWarning: Glyph 49688 (\\N{HANGUL SYLLABLE SU}) missing from current font.\n",
      "  plt.tight_layout()\n",
      "/Users/kimeunbin/opt/anaconda3/envs/pythonProject/lib/python3.9/site-packages/IPython/core/events.py:89: UserWarning: Glyph 44053 (\\N{HANGUL SYLLABLE GANG}) missing from current font.\n",
      "  func(*args, **kwargs)\n",
      "/Users/kimeunbin/opt/anaconda3/envs/pythonProject/lib/python3.9/site-packages/IPython/core/events.py:89: UserWarning: Glyph 45224 (\\N{HANGUL SYLLABLE NAM}) missing from current font.\n",
      "  func(*args, **kwargs)\n",
      "/Users/kimeunbin/opt/anaconda3/envs/pythonProject/lib/python3.9/site-packages/IPython/core/events.py:89: UserWarning: Glyph 44396 (\\N{HANGUL SYLLABLE GU}) missing from current font.\n",
      "  func(*args, **kwargs)\n",
      "/Users/kimeunbin/opt/anaconda3/envs/pythonProject/lib/python3.9/site-packages/IPython/core/events.py:89: UserWarning: Glyph 46041 (\\N{HANGUL SYLLABLE DONG}) missing from current font.\n",
      "  func(*args, **kwargs)\n",
      "/Users/kimeunbin/opt/anaconda3/envs/pythonProject/lib/python3.9/site-packages/IPython/core/events.py:89: UserWarning: Glyph 48513 (\\N{HANGUL SYLLABLE BUG}) missing from current font.\n",
      "  func(*args, **kwargs)\n",
      "/Users/kimeunbin/opt/anaconda3/envs/pythonProject/lib/python3.9/site-packages/IPython/core/events.py:89: UserWarning: Glyph 49436 (\\N{HANGUL SYLLABLE SEO}) missing from current font.\n",
      "  func(*args, **kwargs)\n",
      "/Users/kimeunbin/opt/anaconda3/envs/pythonProject/lib/python3.9/site-packages/IPython/core/events.py:89: UserWarning: Glyph 44288 (\\N{HANGUL SYLLABLE GWAN}) missing from current font.\n",
      "  func(*args, **kwargs)\n",
      "/Users/kimeunbin/opt/anaconda3/envs/pythonProject/lib/python3.9/site-packages/IPython/core/events.py:89: UserWarning: Glyph 50501 (\\N{HANGUL SYLLABLE AG}) missing from current font.\n",
      "  func(*args, **kwargs)\n",
      "/Users/kimeunbin/opt/anaconda3/envs/pythonProject/lib/python3.9/site-packages/IPython/core/events.py:89: UserWarning: Glyph 44305 (\\N{HANGUL SYLLABLE GWANG}) missing from current font.\n",
      "  func(*args, **kwargs)\n",
      "/Users/kimeunbin/opt/anaconda3/envs/pythonProject/lib/python3.9/site-packages/IPython/core/events.py:89: UserWarning: Glyph 51652 (\\N{HANGUL SYLLABLE JIN}) missing from current font.\n",
      "  func(*args, **kwargs)\n",
      "/Users/kimeunbin/opt/anaconda3/envs/pythonProject/lib/python3.9/site-packages/IPython/core/events.py:89: UserWarning: Glyph 47196 (\\N{HANGUL SYLLABLE RO}) missing from current font.\n",
      "  func(*args, **kwargs)\n",
      "/Users/kimeunbin/opt/anaconda3/envs/pythonProject/lib/python3.9/site-packages/IPython/core/events.py:89: UserWarning: Glyph 44552 (\\N{HANGUL SYLLABLE GEUM}) missing from current font.\n",
      "  func(*args, **kwargs)\n",
      "/Users/kimeunbin/opt/anaconda3/envs/pythonProject/lib/python3.9/site-packages/IPython/core/events.py:89: UserWarning: Glyph 52380 (\\N{HANGUL SYLLABLE CEON}) missing from current font.\n",
      "  func(*args, **kwargs)\n",
      "/Users/kimeunbin/opt/anaconda3/envs/pythonProject/lib/python3.9/site-packages/IPython/core/events.py:89: UserWarning: Glyph 45432 (\\N{HANGUL SYLLABLE NO}) missing from current font.\n",
      "  func(*args, **kwargs)\n",
      "/Users/kimeunbin/opt/anaconda3/envs/pythonProject/lib/python3.9/site-packages/IPython/core/events.py:89: UserWarning: Glyph 50896 (\\N{HANGUL SYLLABLE WEON}) missing from current font.\n",
      "  func(*args, **kwargs)\n",
      "/Users/kimeunbin/opt/anaconda3/envs/pythonProject/lib/python3.9/site-packages/IPython/core/events.py:89: UserWarning: Glyph 46020 (\\N{HANGUL SYLLABLE DO}) missing from current font.\n",
      "  func(*args, **kwargs)\n",
      "/Users/kimeunbin/opt/anaconda3/envs/pythonProject/lib/python3.9/site-packages/IPython/core/events.py:89: UserWarning: Glyph 48393 (\\N{HANGUL SYLLABLE BONG}) missing from current font.\n",
      "  func(*args, **kwargs)\n",
      "/Users/kimeunbin/opt/anaconda3/envs/pythonProject/lib/python3.9/site-packages/IPython/core/events.py:89: UserWarning: Glyph 45824 (\\N{HANGUL SYLLABLE DAE}) missing from current font.\n",
      "  func(*args, **kwargs)\n",
      "/Users/kimeunbin/opt/anaconda3/envs/pythonProject/lib/python3.9/site-packages/IPython/core/events.py:89: UserWarning: Glyph 47928 (\\N{HANGUL SYLLABLE MUN}) missing from current font.\n",
      "  func(*args, **kwargs)\n",
      "/Users/kimeunbin/opt/anaconda3/envs/pythonProject/lib/python3.9/site-packages/IPython/core/events.py:89: UserWarning: Glyph 51089 (\\N{HANGUL SYLLABLE JAG}) missing from current font.\n",
      "  func(*args, **kwargs)\n",
      "/Users/kimeunbin/opt/anaconda3/envs/pythonProject/lib/python3.9/site-packages/IPython/core/events.py:89: UserWarning: Glyph 47560 (\\N{HANGUL SYLLABLE MA}) missing from current font.\n",
      "  func(*args, **kwargs)\n",
      "/Users/kimeunbin/opt/anaconda3/envs/pythonProject/lib/python3.9/site-packages/IPython/core/events.py:89: UserWarning: Glyph 54252 (\\N{HANGUL SYLLABLE PO}) missing from current font.\n",
      "  func(*args, **kwargs)\n",
      "/Users/kimeunbin/opt/anaconda3/envs/pythonProject/lib/python3.9/site-packages/IPython/core/events.py:89: UserWarning: Glyph 52488 (\\N{HANGUL SYLLABLE CO}) missing from current font.\n",
      "  func(*args, **kwargs)\n",
      "/Users/kimeunbin/opt/anaconda3/envs/pythonProject/lib/python3.9/site-packages/IPython/core/events.py:89: UserWarning: Glyph 49457 (\\N{HANGUL SYLLABLE SEONG}) missing from current font.\n",
      "  func(*args, **kwargs)\n",
      "/Users/kimeunbin/opt/anaconda3/envs/pythonProject/lib/python3.9/site-packages/IPython/core/events.py:89: UserWarning: Glyph 49569 (\\N{HANGUL SYLLABLE SONG}) missing from current font.\n",
      "  func(*args, **kwargs)\n",
      "/Users/kimeunbin/opt/anaconda3/envs/pythonProject/lib/python3.9/site-packages/IPython/core/events.py:89: UserWarning: Glyph 54028 (\\N{HANGUL SYLLABLE PA}) missing from current font.\n",
      "  func(*args, **kwargs)\n",
      "/Users/kimeunbin/opt/anaconda3/envs/pythonProject/lib/python3.9/site-packages/IPython/core/events.py:89: UserWarning: Glyph 50577 (\\N{HANGUL SYLLABLE YANG}) missing from current font.\n",
      "  func(*args, **kwargs)\n",
      "/Users/kimeunbin/opt/anaconda3/envs/pythonProject/lib/python3.9/site-packages/IPython/core/events.py:89: UserWarning: Glyph 50689 (\\N{HANGUL SYLLABLE YEONG}) missing from current font.\n",
      "  func(*args, **kwargs)\n",
      "/Users/kimeunbin/opt/anaconda3/envs/pythonProject/lib/python3.9/site-packages/IPython/core/events.py:89: UserWarning: Glyph 46321 (\\N{HANGUL SYLLABLE DEUNG}) missing from current font.\n",
      "  func(*args, **kwargs)\n",
      "/Users/kimeunbin/opt/anaconda3/envs/pythonProject/lib/python3.9/site-packages/IPython/core/events.py:89: UserWarning: Glyph 50857 (\\N{HANGUL SYLLABLE YONG}) missing from current font.\n",
      "  func(*args, **kwargs)\n",
      "/Users/kimeunbin/opt/anaconda3/envs/pythonProject/lib/python3.9/site-packages/IPython/core/events.py:89: UserWarning: Glyph 49328 (\\N{HANGUL SYLLABLE SAN}) missing from current font.\n",
      "  func(*args, **kwargs)\n",
      "/Users/kimeunbin/opt/anaconda3/envs/pythonProject/lib/python3.9/site-packages/IPython/core/events.py:89: UserWarning: Glyph 51008 (\\N{HANGUL SYLLABLE EUN}) missing from current font.\n",
      "  func(*args, **kwargs)\n",
      "/Users/kimeunbin/opt/anaconda3/envs/pythonProject/lib/python3.9/site-packages/IPython/core/events.py:89: UserWarning: Glyph 54217 (\\N{HANGUL SYLLABLE PYEONG}) missing from current font.\n",
      "  func(*args, **kwargs)\n",
      "/Users/kimeunbin/opt/anaconda3/envs/pythonProject/lib/python3.9/site-packages/IPython/core/events.py:89: UserWarning: Glyph 51333 (\\N{HANGUL SYLLABLE JONG}) missing from current font.\n",
      "  func(*args, **kwargs)\n",
      "/Users/kimeunbin/opt/anaconda3/envs/pythonProject/lib/python3.9/site-packages/IPython/core/events.py:89: UserWarning: Glyph 51473 (\\N{HANGUL SYLLABLE JUNG}) missing from current font.\n",
      "  func(*args, **kwargs)\n",
      "/Users/kimeunbin/opt/anaconda3/envs/pythonProject/lib/python3.9/site-packages/IPython/core/events.py:89: UserWarning: Glyph 46993 (\\N{HANGUL SYLLABLE RANG}) missing from current font.\n",
      "  func(*args, **kwargs)\n",
      "/Users/kimeunbin/opt/anaconda3/envs/pythonProject/lib/python3.9/site-packages/IPython/core/events.py:89: UserWarning: Glyph 54665 (\\N{HANGUL SYLLABLE HAENG}) missing from current font.\n",
      "  func(*args, **kwargs)\n",
      "/Users/kimeunbin/opt/anaconda3/envs/pythonProject/lib/python3.9/site-packages/IPython/core/events.py:89: UserWarning: Glyph 51221 (\\N{HANGUL SYLLABLE JEONG}) missing from current font.\n",
      "  func(*args, **kwargs)\n",
      "/Users/kimeunbin/opt/anaconda3/envs/pythonProject/lib/python3.9/site-packages/IPython/core/events.py:89: UserWarning: Glyph 50669 (\\N{HANGUL SYLLABLE YEOG}) missing from current font.\n",
      "  func(*args, **kwargs)\n",
      "/Users/kimeunbin/opt/anaconda3/envs/pythonProject/lib/python3.9/site-packages/IPython/core/events.py:89: UserWarning: Glyph 51064 (\\N{HANGUL SYLLABLE IN}) missing from current font.\n",
      "  func(*args, **kwargs)\n",
      "/Users/kimeunbin/opt/anaconda3/envs/pythonProject/lib/python3.9/site-packages/IPython/core/events.py:89: UserWarning: Glyph 49688 (\\N{HANGUL SYLLABLE SU}) missing from current font.\n",
      "  func(*args, **kwargs)\n",
      "/Users/kimeunbin/opt/anaconda3/envs/pythonProject/lib/python3.9/site-packages/IPython/core/pylabtools.py:151: UserWarning: Glyph 44053 (\\N{HANGUL SYLLABLE GANG}) missing from current font.\n",
      "  fig.canvas.print_figure(bytes_io, **kw)\n",
      "/Users/kimeunbin/opt/anaconda3/envs/pythonProject/lib/python3.9/site-packages/IPython/core/pylabtools.py:151: UserWarning: Glyph 45224 (\\N{HANGUL SYLLABLE NAM}) missing from current font.\n",
      "  fig.canvas.print_figure(bytes_io, **kw)\n",
      "/Users/kimeunbin/opt/anaconda3/envs/pythonProject/lib/python3.9/site-packages/IPython/core/pylabtools.py:151: UserWarning: Glyph 44396 (\\N{HANGUL SYLLABLE GU}) missing from current font.\n",
      "  fig.canvas.print_figure(bytes_io, **kw)\n",
      "/Users/kimeunbin/opt/anaconda3/envs/pythonProject/lib/python3.9/site-packages/IPython/core/pylabtools.py:151: UserWarning: Glyph 46041 (\\N{HANGUL SYLLABLE DONG}) missing from current font.\n",
      "  fig.canvas.print_figure(bytes_io, **kw)\n",
      "/Users/kimeunbin/opt/anaconda3/envs/pythonProject/lib/python3.9/site-packages/IPython/core/pylabtools.py:151: UserWarning: Glyph 48513 (\\N{HANGUL SYLLABLE BUG}) missing from current font.\n",
      "  fig.canvas.print_figure(bytes_io, **kw)\n",
      "/Users/kimeunbin/opt/anaconda3/envs/pythonProject/lib/python3.9/site-packages/IPython/core/pylabtools.py:151: UserWarning: Glyph 49436 (\\N{HANGUL SYLLABLE SEO}) missing from current font.\n",
      "  fig.canvas.print_figure(bytes_io, **kw)\n",
      "/Users/kimeunbin/opt/anaconda3/envs/pythonProject/lib/python3.9/site-packages/IPython/core/pylabtools.py:151: UserWarning: Glyph 44288 (\\N{HANGUL SYLLABLE GWAN}) missing from current font.\n",
      "  fig.canvas.print_figure(bytes_io, **kw)\n",
      "/Users/kimeunbin/opt/anaconda3/envs/pythonProject/lib/python3.9/site-packages/IPython/core/pylabtools.py:151: UserWarning: Glyph 50501 (\\N{HANGUL SYLLABLE AG}) missing from current font.\n",
      "  fig.canvas.print_figure(bytes_io, **kw)\n",
      "/Users/kimeunbin/opt/anaconda3/envs/pythonProject/lib/python3.9/site-packages/IPython/core/pylabtools.py:151: UserWarning: Glyph 44305 (\\N{HANGUL SYLLABLE GWANG}) missing from current font.\n",
      "  fig.canvas.print_figure(bytes_io, **kw)\n",
      "/Users/kimeunbin/opt/anaconda3/envs/pythonProject/lib/python3.9/site-packages/IPython/core/pylabtools.py:151: UserWarning: Glyph 51652 (\\N{HANGUL SYLLABLE JIN}) missing from current font.\n",
      "  fig.canvas.print_figure(bytes_io, **kw)\n",
      "/Users/kimeunbin/opt/anaconda3/envs/pythonProject/lib/python3.9/site-packages/IPython/core/pylabtools.py:151: UserWarning: Glyph 47196 (\\N{HANGUL SYLLABLE RO}) missing from current font.\n",
      "  fig.canvas.print_figure(bytes_io, **kw)\n",
      "/Users/kimeunbin/opt/anaconda3/envs/pythonProject/lib/python3.9/site-packages/IPython/core/pylabtools.py:151: UserWarning: Glyph 44552 (\\N{HANGUL SYLLABLE GEUM}) missing from current font.\n",
      "  fig.canvas.print_figure(bytes_io, **kw)\n",
      "/Users/kimeunbin/opt/anaconda3/envs/pythonProject/lib/python3.9/site-packages/IPython/core/pylabtools.py:151: UserWarning: Glyph 52380 (\\N{HANGUL SYLLABLE CEON}) missing from current font.\n",
      "  fig.canvas.print_figure(bytes_io, **kw)\n",
      "/Users/kimeunbin/opt/anaconda3/envs/pythonProject/lib/python3.9/site-packages/IPython/core/pylabtools.py:151: UserWarning: Glyph 45432 (\\N{HANGUL SYLLABLE NO}) missing from current font.\n",
      "  fig.canvas.print_figure(bytes_io, **kw)\n",
      "/Users/kimeunbin/opt/anaconda3/envs/pythonProject/lib/python3.9/site-packages/IPython/core/pylabtools.py:151: UserWarning: Glyph 50896 (\\N{HANGUL SYLLABLE WEON}) missing from current font.\n",
      "  fig.canvas.print_figure(bytes_io, **kw)\n",
      "/Users/kimeunbin/opt/anaconda3/envs/pythonProject/lib/python3.9/site-packages/IPython/core/pylabtools.py:151: UserWarning: Glyph 46020 (\\N{HANGUL SYLLABLE DO}) missing from current font.\n",
      "  fig.canvas.print_figure(bytes_io, **kw)\n",
      "/Users/kimeunbin/opt/anaconda3/envs/pythonProject/lib/python3.9/site-packages/IPython/core/pylabtools.py:151: UserWarning: Glyph 48393 (\\N{HANGUL SYLLABLE BONG}) missing from current font.\n",
      "  fig.canvas.print_figure(bytes_io, **kw)\n",
      "/Users/kimeunbin/opt/anaconda3/envs/pythonProject/lib/python3.9/site-packages/IPython/core/pylabtools.py:151: UserWarning: Glyph 45824 (\\N{HANGUL SYLLABLE DAE}) missing from current font.\n",
      "  fig.canvas.print_figure(bytes_io, **kw)\n",
      "/Users/kimeunbin/opt/anaconda3/envs/pythonProject/lib/python3.9/site-packages/IPython/core/pylabtools.py:151: UserWarning: Glyph 47928 (\\N{HANGUL SYLLABLE MUN}) missing from current font.\n",
      "  fig.canvas.print_figure(bytes_io, **kw)\n",
      "/Users/kimeunbin/opt/anaconda3/envs/pythonProject/lib/python3.9/site-packages/IPython/core/pylabtools.py:151: UserWarning: Glyph 51089 (\\N{HANGUL SYLLABLE JAG}) missing from current font.\n",
      "  fig.canvas.print_figure(bytes_io, **kw)\n",
      "/Users/kimeunbin/opt/anaconda3/envs/pythonProject/lib/python3.9/site-packages/IPython/core/pylabtools.py:151: UserWarning: Glyph 47560 (\\N{HANGUL SYLLABLE MA}) missing from current font.\n",
      "  fig.canvas.print_figure(bytes_io, **kw)\n",
      "/Users/kimeunbin/opt/anaconda3/envs/pythonProject/lib/python3.9/site-packages/IPython/core/pylabtools.py:151: UserWarning: Glyph 54252 (\\N{HANGUL SYLLABLE PO}) missing from current font.\n",
      "  fig.canvas.print_figure(bytes_io, **kw)\n",
      "/Users/kimeunbin/opt/anaconda3/envs/pythonProject/lib/python3.9/site-packages/IPython/core/pylabtools.py:151: UserWarning: Glyph 52488 (\\N{HANGUL SYLLABLE CO}) missing from current font.\n",
      "  fig.canvas.print_figure(bytes_io, **kw)\n",
      "/Users/kimeunbin/opt/anaconda3/envs/pythonProject/lib/python3.9/site-packages/IPython/core/pylabtools.py:151: UserWarning: Glyph 49457 (\\N{HANGUL SYLLABLE SEONG}) missing from current font.\n",
      "  fig.canvas.print_figure(bytes_io, **kw)\n",
      "/Users/kimeunbin/opt/anaconda3/envs/pythonProject/lib/python3.9/site-packages/IPython/core/pylabtools.py:151: UserWarning: Glyph 49569 (\\N{HANGUL SYLLABLE SONG}) missing from current font.\n",
      "  fig.canvas.print_figure(bytes_io, **kw)\n",
      "/Users/kimeunbin/opt/anaconda3/envs/pythonProject/lib/python3.9/site-packages/IPython/core/pylabtools.py:151: UserWarning: Glyph 54028 (\\N{HANGUL SYLLABLE PA}) missing from current font.\n",
      "  fig.canvas.print_figure(bytes_io, **kw)\n",
      "/Users/kimeunbin/opt/anaconda3/envs/pythonProject/lib/python3.9/site-packages/IPython/core/pylabtools.py:151: UserWarning: Glyph 50577 (\\N{HANGUL SYLLABLE YANG}) missing from current font.\n",
      "  fig.canvas.print_figure(bytes_io, **kw)\n",
      "/Users/kimeunbin/opt/anaconda3/envs/pythonProject/lib/python3.9/site-packages/IPython/core/pylabtools.py:151: UserWarning: Glyph 50689 (\\N{HANGUL SYLLABLE YEONG}) missing from current font.\n",
      "  fig.canvas.print_figure(bytes_io, **kw)\n",
      "/Users/kimeunbin/opt/anaconda3/envs/pythonProject/lib/python3.9/site-packages/IPython/core/pylabtools.py:151: UserWarning: Glyph 46321 (\\N{HANGUL SYLLABLE DEUNG}) missing from current font.\n",
      "  fig.canvas.print_figure(bytes_io, **kw)\n",
      "/Users/kimeunbin/opt/anaconda3/envs/pythonProject/lib/python3.9/site-packages/IPython/core/pylabtools.py:151: UserWarning: Glyph 50857 (\\N{HANGUL SYLLABLE YONG}) missing from current font.\n",
      "  fig.canvas.print_figure(bytes_io, **kw)\n",
      "/Users/kimeunbin/opt/anaconda3/envs/pythonProject/lib/python3.9/site-packages/IPython/core/pylabtools.py:151: UserWarning: Glyph 49328 (\\N{HANGUL SYLLABLE SAN}) missing from current font.\n",
      "  fig.canvas.print_figure(bytes_io, **kw)\n",
      "/Users/kimeunbin/opt/anaconda3/envs/pythonProject/lib/python3.9/site-packages/IPython/core/pylabtools.py:151: UserWarning: Glyph 51008 (\\N{HANGUL SYLLABLE EUN}) missing from current font.\n",
      "  fig.canvas.print_figure(bytes_io, **kw)\n",
      "/Users/kimeunbin/opt/anaconda3/envs/pythonProject/lib/python3.9/site-packages/IPython/core/pylabtools.py:151: UserWarning: Glyph 54217 (\\N{HANGUL SYLLABLE PYEONG}) missing from current font.\n",
      "  fig.canvas.print_figure(bytes_io, **kw)\n",
      "/Users/kimeunbin/opt/anaconda3/envs/pythonProject/lib/python3.9/site-packages/IPython/core/pylabtools.py:151: UserWarning: Glyph 51333 (\\N{HANGUL SYLLABLE JONG}) missing from current font.\n",
      "  fig.canvas.print_figure(bytes_io, **kw)\n",
      "/Users/kimeunbin/opt/anaconda3/envs/pythonProject/lib/python3.9/site-packages/IPython/core/pylabtools.py:151: UserWarning: Glyph 51473 (\\N{HANGUL SYLLABLE JUNG}) missing from current font.\n",
      "  fig.canvas.print_figure(bytes_io, **kw)\n",
      "/Users/kimeunbin/opt/anaconda3/envs/pythonProject/lib/python3.9/site-packages/IPython/core/pylabtools.py:151: UserWarning: Glyph 46993 (\\N{HANGUL SYLLABLE RANG}) missing from current font.\n",
      "  fig.canvas.print_figure(bytes_io, **kw)\n",
      "/Users/kimeunbin/opt/anaconda3/envs/pythonProject/lib/python3.9/site-packages/IPython/core/pylabtools.py:151: UserWarning: Glyph 54665 (\\N{HANGUL SYLLABLE HAENG}) missing from current font.\n",
      "  fig.canvas.print_figure(bytes_io, **kw)\n",
      "/Users/kimeunbin/opt/anaconda3/envs/pythonProject/lib/python3.9/site-packages/IPython/core/pylabtools.py:151: UserWarning: Glyph 51221 (\\N{HANGUL SYLLABLE JEONG}) missing from current font.\n",
      "  fig.canvas.print_figure(bytes_io, **kw)\n",
      "/Users/kimeunbin/opt/anaconda3/envs/pythonProject/lib/python3.9/site-packages/IPython/core/pylabtools.py:151: UserWarning: Glyph 50669 (\\N{HANGUL SYLLABLE YEOG}) missing from current font.\n",
      "  fig.canvas.print_figure(bytes_io, **kw)\n",
      "/Users/kimeunbin/opt/anaconda3/envs/pythonProject/lib/python3.9/site-packages/IPython/core/pylabtools.py:151: UserWarning: Glyph 51064 (\\N{HANGUL SYLLABLE IN}) missing from current font.\n",
      "  fig.canvas.print_figure(bytes_io, **kw)\n",
      "/Users/kimeunbin/opt/anaconda3/envs/pythonProject/lib/python3.9/site-packages/IPython/core/pylabtools.py:151: UserWarning: Glyph 49688 (\\N{HANGUL SYLLABLE SU}) missing from current font.\n",
      "  fig.canvas.print_figure(bytes_io, **kw)\n"
     ]
    },
    {
     "data": {
      "text/plain": "<Figure size 1296x864 with 1 Axes>",
      "image/png": "[encoded data removed]"
     },
     "metadata": {
      "needs_background": "light"
     },
     "output_type": "display_data"
    }
   ],
   "source": [
    "figure, ax1 = plt.subplots(nrows=1, ncols=1)\n",
    "figure.set_size_inches(18,12)\n",
    "sns.barplot(data=seoul_df, x=\"행정구역\", y=\"인구수\", ax=ax1)\n",
    "ax1.get_yaxis().set_major_formatter(plt.FuncFormatter(lambda x, loc: \"{:,}\".format(int(x))))\n",
    "#ax1.set(ylabel='인구수')\n",
    "for item in ax1.get_xticklabels():\n",
    "    item.set_rotation(90)\n",
    "for i, v in enumerate(seoul_df[\"인구수\"].iteritems()):\n",
    "    ax1.text(i ,v[1], \"{:,}\".format(v[1]), color='m', va ='bottom', rotation=45)\n",
    "plt.tight_layout()"
   ],
   "metadata": {
    "collapsed": false,
    "pycharm": {
     "name": "#%%\n"
    }
   }
  }
 ],
 "metadata": {
  "kernelspec": {
   "display_name": "Python 3",
   "language": "python",
   "name": "python3"
  },
  "language_info": {
   "codemirror_mode": {
    "name": "ipython",
    "version": 2
   },
   "file_extension": ".py",
   "mimetype": "text/x-python",
   "name": "python",
   "nbconvert_exporter": "python",
   "pygments_lexer": "ipython2",
   "version": "2.7.6"
  }
 },
 "nbformat": 4,
 "nbformat_minor": 0
}