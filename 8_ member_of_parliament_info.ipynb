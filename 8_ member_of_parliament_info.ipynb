{
 "cells": [
  {
   "cell_type": "markdown",
   "metadata": {
    "collapsed": true,
    "pycharm": {
     "name": "#%% md\n"
    }
   },
   "source": [
    "### 국회의원 현황정보 수집/분석/시각화/저장\n",
    "- 이름과 ID 추출\n",
    "- 상세 페이지 정보 추출 (json 으로 저장)\n",
    "- 상세 정보 -> DataFrame 으로 변환\n",
    "- 시각화 (막대그래프, 히스토그램, 파이차트, 히트맵)\n",
    "- 테이블로 저장"
   ]
  },
  {
   "cell_type": "code",
   "execution_count": 6,
   "outputs": [
    {
     "name": "stdout",
     "output_type": "stream",
     "text": [
      "200\n",
      "295\n",
      "295\n",
      "['9771230', '9771142', '9771174']\n"
     ]
    }
   ],
   "source": [
    "import requests\n",
    "from bs4 import BeautifulSoup\n",
    "import re\n",
    "\n",
    "url = 'https://www.assembly.go.kr/assm/memact/congressman/memCond/memCondListAjax.do'\n",
    "req_param_dict = {\n",
    "    'currentPage':1,\n",
    "    'rowPerPage':500\n",
    "}\n",
    "\n",
    "res = requests.get(url, params=req_param_dict)\n",
    "print(res.status_code)\n",
    "\n",
    "if res.ok:\n",
    "    soup = BeautifulSoup(res.text, 'html.parser')\n",
    "    print(len(soup.select('div.memberna_list dl dt a')))\n",
    "    atag_list = soup.select('div.memberna_list dl dt a')\n",
    "    member_id_list = []\n",
    "    for atag in atag_list:\n",
    "        href = atag['href']\n",
    "        matched = re.search(r'(\\d+)', href)\n",
    "        if matched:\n",
    "            member_id = matched.group(0)\n",
    "        member_id_list.append(member_id)\n",
    "    print(len(member_id_list))\n",
    "    print(member_id_list[:3])"
   ],
   "metadata": {
    "collapsed": false,
    "pycharm": {
     "name": "#%%\n"
    }
   }
  },
  {
   "cell_type": "code",
   "execution_count": 24,
   "outputs": [
    {
     "name": "stdout",
     "output_type": "stream",
     "text": [
      "---------- start ----------\n",
      "1 https://www.assembly.go.kr/assm/memPop/memPopup.do?dept_cd=9771230\n",
      "2 https://www.assembly.go.kr/assm/memPop/memPopup.do?dept_cd=9771142\n",
      "3 https://www.assembly.go.kr/assm/memPop/memPopup.do?dept_cd=9771174\n",
      "4 https://www.assembly.go.kr/assm/memPop/memPopup.do?dept_cd=9771233\n",
      "5 https://www.assembly.go.kr/assm/memPop/memPopup.do?dept_cd=9771283\n",
      "6 https://www.assembly.go.kr/assm/memPop/memPopup.do?dept_cd=9770933\n",
      "7 https://www.assembly.go.kr/assm/memPop/memPopup.do?dept_cd=9771116\n",
      "8 https://www.assembly.go.kr/assm/memPop/memPopup.do?dept_cd=9771276\n",
      "9 https://www.assembly.go.kr/assm/memPop/memPopup.do?dept_cd=9771168\n",
      "10 https://www.assembly.go.kr/assm/memPop/memPopup.do?dept_cd=9771007\n",
      "11 https://www.assembly.go.kr/assm/memPop/memPopup.do?dept_cd=9771109\n",
      "12 https://www.assembly.go.kr/assm/memPop/memPopup.do?dept_cd=9771180\n",
      "13 https://www.assembly.go.kr/assm/memPop/memPopup.do?dept_cd=9770931\n",
      "14 https://www.assembly.go.kr/assm/memPop/memPopup.do?dept_cd=9771224\n",
      "15 https://www.assembly.go.kr/assm/memPop/memPopup.do?dept_cd=9771165\n",
      "16 https://www.assembly.go.kr/assm/memPop/memPopup.do?dept_cd=9770679\n",
      "17 https://www.assembly.go.kr/assm/memPop/memPopup.do?dept_cd=9771108\n",
      "18 https://www.assembly.go.kr/assm/memPop/memPopup.do?dept_cd=9770977\n",
      "19 https://www.assembly.go.kr/assm/memPop/memPopup.do?dept_cd=9771259\n",
      "20 https://www.assembly.go.kr/assm/memPop/memPopup.do?dept_cd=9770998\n",
      "21 https://www.assembly.go.kr/assm/memPop/memPopup.do?dept_cd=9770927\n",
      "22 https://www.assembly.go.kr/assm/memPop/memPopup.do?dept_cd=9771258\n",
      "23 https://www.assembly.go.kr/assm/memPop/memPopup.do?dept_cd=9770712\n",
      "24 https://www.assembly.go.kr/assm/memPop/memPopup.do?dept_cd=9771152\n",
      "25 https://www.assembly.go.kr/assm/memPop/memPopup.do?dept_cd=9771164\n",
      "26 https://www.assembly.go.kr/assm/memPop/memPopup.do?dept_cd=9771181\n",
      "27 https://www.assembly.go.kr/assm/memPop/memPopup.do?dept_cd=9770719\n",
      "28 https://www.assembly.go.kr/assm/memPop/memPopup.do?dept_cd=9770997\n",
      "29 https://www.assembly.go.kr/assm/memPop/memPopup.do?dept_cd=9771136\n",
      "30 https://www.assembly.go.kr/assm/memPop/memPopup.do?dept_cd=9770723\n",
      "31 https://www.assembly.go.kr/assm/memPop/memPopup.do?dept_cd=9771120\n",
      "32 https://www.assembly.go.kr/assm/memPop/memPopup.do?dept_cd=9771173\n",
      "33 https://www.assembly.go.kr/assm/memPop/memPopup.do?dept_cd=9770941\n",
      "34 https://www.assembly.go.kr/assm/memPop/memPopup.do?dept_cd=9770984\n",
      "35 https://www.assembly.go.kr/assm/memPop/memPopup.do?dept_cd=9771285\n",
      "36 https://www.assembly.go.kr/assm/memPop/memPopup.do?dept_cd=9771268\n",
      "37 https://www.assembly.go.kr/assm/memPop/memPopup.do?dept_cd=9770725\n",
      "38 https://www.assembly.go.kr/assm/memPop/memPopup.do?dept_cd=9770527\n",
      "39 https://www.assembly.go.kr/assm/memPop/memPopup.do?dept_cd=9771024\n",
      "40 https://www.assembly.go.kr/assm/memPop/memPopup.do?dept_cd=9771195\n",
      "41 https://www.assembly.go.kr/assm/memPop/memPopup.do?dept_cd=9770985\n",
      "42 https://www.assembly.go.kr/assm/memPop/memPopup.do?dept_cd=9771208\n",
      "43 https://www.assembly.go.kr/assm/memPop/memPopup.do?dept_cd=9771089\n",
      "44 https://www.assembly.go.kr/assm/memPop/memPopup.do?dept_cd=9771210\n",
      "45 https://www.assembly.go.kr/assm/memPop/memPopup.do?dept_cd=9771220\n",
      "46 https://www.assembly.go.kr/assm/memPop/memPopup.do?dept_cd=9771144\n",
      "47 https://www.assembly.go.kr/assm/memPop/memPopup.do?dept_cd=9771169\n",
      "48 https://www.assembly.go.kr/assm/memPop/memPopup.do?dept_cd=9771111\n",
      "49 https://www.assembly.go.kr/assm/memPop/memPopup.do?dept_cd=9771225\n",
      "50 https://www.assembly.go.kr/assm/memPop/memPopup.do?dept_cd=9770975\n",
      "51 https://www.assembly.go.kr/assm/memPop/memPopup.do?dept_cd=9770981\n",
      "52 https://www.assembly.go.kr/assm/memPop/memPopup.do?dept_cd=9770934\n",
      "53 https://www.assembly.go.kr/assm/memPop/memPopup.do?dept_cd=9771249\n",
      "54 https://www.assembly.go.kr/assm/memPop/memPopup.do?dept_cd=9771186\n",
      "55 https://www.assembly.go.kr/assm/memPop/memPopup.do?dept_cd=9771147\n",
      "56 https://www.assembly.go.kr/assm/memPop/memPopup.do?dept_cd=9771127\n",
      "57 https://www.assembly.go.kr/assm/memPop/memPopup.do?dept_cd=9771214\n",
      "58 https://www.assembly.go.kr/assm/memPop/memPopup.do?dept_cd=9771206\n",
      "59 https://www.assembly.go.kr/assm/memPop/memPopup.do?dept_cd=9771171\n",
      "60 https://www.assembly.go.kr/assm/memPop/memPopup.do?dept_cd=9771288\n",
      "61 https://www.assembly.go.kr/assm/memPop/memPopup.do?dept_cd=9771023\n",
      "62 https://www.assembly.go.kr/assm/memPop/memPopup.do?dept_cd=9771090\n",
      "63 https://www.assembly.go.kr/assm/memPop/memPopup.do?dept_cd=9771009\n",
      "64 https://www.assembly.go.kr/assm/memPop/memPopup.do?dept_cd=9771192\n",
      "65 https://www.assembly.go.kr/assm/memPop/memPopup.do?dept_cd=9770982\n",
      "66 https://www.assembly.go.kr/assm/memPop/memPopup.do?dept_cd=9770986\n",
      "67 https://www.assembly.go.kr/assm/memPop/memPopup.do?dept_cd=9770741\n",
      "68 https://www.assembly.go.kr/assm/memPop/memPopup.do?dept_cd=9771237\n",
      "69 https://www.assembly.go.kr/assm/memPop/memPopup.do?dept_cd=9770742\n",
      "70 https://www.assembly.go.kr/assm/memPop/memPopup.do?dept_cd=9770991\n",
      "71 https://www.assembly.go.kr/assm/memPop/memPopup.do?dept_cd=9771223\n",
      "72 https://www.assembly.go.kr/assm/memPop/memPopup.do?dept_cd=9771270\n",
      "73 https://www.assembly.go.kr/assm/memPop/memPopup.do?dept_cd=9771216\n",
      "74 https://www.assembly.go.kr/assm/memPop/memPopup.do?dept_cd=9771134\n",
      "75 https://www.assembly.go.kr/assm/memPop/memPopup.do?dept_cd=9771228\n",
      "76 https://www.assembly.go.kr/assm/memPop/memPopup.do?dept_cd=9770752\n",
      "77 https://www.assembly.go.kr/assm/memPop/memPopup.do?dept_cd=9770753\n",
      "78 https://www.assembly.go.kr/assm/memPop/memPopup.do?dept_cd=9770755\n",
      "79 https://www.assembly.go.kr/assm/memPop/memPopup.do?dept_cd=9771141\n",
      "80 https://www.assembly.go.kr/assm/memPop/memPopup.do?dept_cd=9771274\n",
      "81 https://www.assembly.go.kr/assm/memPop/memPopup.do?dept_cd=9771091\n",
      "82 https://www.assembly.go.kr/assm/memPop/memPopup.do?dept_cd=9771187\n",
      "83 https://www.assembly.go.kr/assm/memPop/memPopup.do?dept_cd=9771204\n",
      "84 https://www.assembly.go.kr/assm/memPop/memPopup.do?dept_cd=9771175\n",
      "85 https://www.assembly.go.kr/assm/memPop/memPopup.do?dept_cd=9771159\n",
      "86 https://www.assembly.go.kr/assm/memPop/memPopup.do?dept_cd=9770764\n",
      "87 https://www.assembly.go.kr/assm/memPop/memPopup.do?dept_cd=9770911\n",
      "88 https://www.assembly.go.kr/assm/memPop/memPopup.do?dept_cd=9771248\n",
      "89 https://www.assembly.go.kr/assm/memPop/memPopup.do?dept_cd=9770767\n",
      "90 https://www.assembly.go.kr/assm/memPop/memPopup.do?dept_cd=9770768\n",
      "91 https://www.assembly.go.kr/assm/memPop/memPopup.do?dept_cd=9770770\n",
      "92 https://www.assembly.go.kr/assm/memPop/memPopup.do?dept_cd=9770090\n",
      "93 https://www.assembly.go.kr/assm/memPop/memPopup.do?dept_cd=9771193\n",
      "94 https://www.assembly.go.kr/assm/memPop/memPopup.do?dept_cd=9771163\n",
      "95 https://www.assembly.go.kr/assm/memPop/memPopup.do?dept_cd=9771107\n",
      "96 https://www.assembly.go.kr/assm/memPop/memPopup.do?dept_cd=9770944\n",
      "97 https://www.assembly.go.kr/assm/memPop/memPopup.do?dept_cd=9771135\n",
      "98 https://www.assembly.go.kr/assm/memPop/memPopup.do?dept_cd=9771162\n",
      "99 https://www.assembly.go.kr/assm/memPop/memPopup.do?dept_cd=9771030\n",
      "100 https://www.assembly.go.kr/assm/memPop/memPopup.do?dept_cd=9770774\n",
      "101 https://www.assembly.go.kr/assm/memPop/memPopup.do?dept_cd=9770929\n",
      "102 https://www.assembly.go.kr/assm/memPop/memPopup.do?dept_cd=9770950\n",
      "103 https://www.assembly.go.kr/assm/memPop/memPopup.do?dept_cd=9770995\n",
      "104 https://www.assembly.go.kr/assm/memPop/memPopup.do?dept_cd=9770932\n",
      "105 https://www.assembly.go.kr/assm/memPop/memPopup.do?dept_cd=9771125\n",
      "106 https://www.assembly.go.kr/assm/memPop/memPopup.do?dept_cd=9770963\n",
      "107 https://www.assembly.go.kr/assm/memPop/memPopup.do?dept_cd=9771226\n",
      "108 https://www.assembly.go.kr/assm/memPop/memPopup.do?dept_cd=9770779\n",
      "109 https://www.assembly.go.kr/assm/memPop/memPopup.do?dept_cd=9771148\n",
      "110 https://www.assembly.go.kr/assm/memPop/memPopup.do?dept_cd=9771277\n",
      "111 https://www.assembly.go.kr/assm/memPop/memPopup.do?dept_cd=9771128\n",
      "112 https://www.assembly.go.kr/assm/memPop/memPopup.do?dept_cd=9771137\n",
      "113 https://www.assembly.go.kr/assm/memPop/memPopup.do?dept_cd=9770980\n",
      "114 https://www.assembly.go.kr/assm/memPop/memPopup.do?dept_cd=9770356\n",
      "115 https://www.assembly.go.kr/assm/memPop/memPopup.do?dept_cd=9771218\n",
      "116 https://www.assembly.go.kr/assm/memPop/memPopup.do?dept_cd=9771166\n",
      "117 https://www.assembly.go.kr/assm/memPop/memPopup.do?dept_cd=9771133\n",
      "118 https://www.assembly.go.kr/assm/memPop/memPopup.do?dept_cd=9771092\n",
      "119 https://www.assembly.go.kr/assm/memPop/memPopup.do?dept_cd=9770784\n",
      "120 https://www.assembly.go.kr/assm/memPop/memPopup.do?dept_cd=9771176\n",
      "121 https://www.assembly.go.kr/assm/memPop/memPopup.do?dept_cd=9771236\n",
      "122 https://www.assembly.go.kr/assm/memPop/memPopup.do?dept_cd=9771254\n",
      "123 https://www.assembly.go.kr/assm/memPop/memPopup.do?dept_cd=9770786\n",
      "124 https://www.assembly.go.kr/assm/memPop/memPopup.do?dept_cd=9771008\n",
      "125 https://www.assembly.go.kr/assm/memPop/memPopup.do?dept_cd=9771217\n",
      "126 https://www.assembly.go.kr/assm/memPop/memPopup.do?dept_cd=9770999\n",
      "127 https://www.assembly.go.kr/assm/memPop/memPopup.do?dept_cd=9771093\n",
      "128 https://www.assembly.go.kr/assm/memPop/memPopup.do?dept_cd=9771001\n",
      "129 https://www.assembly.go.kr/assm/memPop/memPopup.do?dept_cd=9770996\n",
      "130 https://www.assembly.go.kr/assm/memPop/memPopup.do?dept_cd=9771094\n",
      "131 https://www.assembly.go.kr/assm/memPop/memPopup.do?dept_cd=9770967\n",
      "132 https://www.assembly.go.kr/assm/memPop/memPopup.do?dept_cd=9771058\n",
      "133 https://www.assembly.go.kr/assm/memPop/memPopup.do?dept_cd=9771238\n",
      "134 https://www.assembly.go.kr/assm/memPop/memPopup.do?dept_cd=9770968\n",
      "135 https://www.assembly.go.kr/assm/memPop/memPopup.do?dept_cd=9771209\n",
      "136 https://www.assembly.go.kr/assm/memPop/memPopup.do?dept_cd=9771246\n",
      "137 https://www.assembly.go.kr/assm/memPop/memPopup.do?dept_cd=9771219\n",
      "138 https://www.assembly.go.kr/assm/memPop/memPopup.do?dept_cd=9771257\n",
      "139 https://www.assembly.go.kr/assm/memPop/memPopup.do?dept_cd=9770869\n",
      "140 https://www.assembly.go.kr/assm/memPop/memPopup.do?dept_cd=9770587\n",
      "141 https://www.assembly.go.kr/assm/memPop/memPopup.do?dept_cd=9770372\n",
      "142 https://www.assembly.go.kr/assm/memPop/memPopup.do?dept_cd=9771132\n",
      "143 https://www.assembly.go.kr/assm/memPop/memPopup.do?dept_cd=9771017\n",
      "144 https://www.assembly.go.kr/assm/memPop/memPopup.do?dept_cd=9771273\n",
      "145 https://www.assembly.go.kr/assm/memPop/memPopup.do?dept_cd=9771143\n",
      "146 https://www.assembly.go.kr/assm/memPop/memPopup.do?dept_cd=9771178\n",
      "147 https://www.assembly.go.kr/assm/memPop/memPopup.do?dept_cd=9771287\n",
      "148 https://www.assembly.go.kr/assm/memPop/memPopup.do?dept_cd=9771271\n",
      "149 https://www.assembly.go.kr/assm/memPop/memPopup.do?dept_cd=9771155\n",
      "150 https://www.assembly.go.kr/assm/memPop/memPopup.do?dept_cd=9771010\n",
      "151 https://www.assembly.go.kr/assm/memPop/memPopup.do?dept_cd=9771202\n",
      "152 https://www.assembly.go.kr/assm/memPop/memPopup.do?dept_cd=9771113\n",
      "153 https://www.assembly.go.kr/assm/memPop/memPopup.do?dept_cd=9771172\n",
      "154 https://www.assembly.go.kr/assm/memPop/memPopup.do?dept_cd=9771037\n",
      "155 https://www.assembly.go.kr/assm/memPop/memPopup.do?dept_cd=9771261\n",
      "156 https://www.assembly.go.kr/assm/memPop/memPopup.do?dept_cd=9770871\n",
      "157 https://www.assembly.go.kr/assm/memPop/memPopup.do?dept_cd=9770872\n",
      "158 https://www.assembly.go.kr/assm/memPop/memPopup.do?dept_cd=9771038\n",
      "159 https://www.assembly.go.kr/assm/memPop/memPopup.do?dept_cd=9771126\n",
      "160 https://www.assembly.go.kr/assm/memPop/memPopup.do?dept_cd=9771121\n",
      "161 https://www.assembly.go.kr/assm/memPop/memPopup.do?dept_cd=9770966\n",
      "162 https://www.assembly.go.kr/assm/memPop/memPopup.do?dept_cd=9771199\n",
      "163 https://www.assembly.go.kr/assm/memPop/memPopup.do?dept_cd=9770912\n",
      "164 https://www.assembly.go.kr/assm/memPop/memPopup.do?dept_cd=9771266\n",
      "165 https://www.assembly.go.kr/assm/memPop/memPopup.do?dept_cd=9771118\n",
      "166 https://www.assembly.go.kr/assm/memPop/memPopup.do?dept_cd=9770808\n",
      "167 https://www.assembly.go.kr/assm/memPop/memPopup.do?dept_cd=9771227\n",
      "168 https://www.assembly.go.kr/assm/memPop/memPopup.do?dept_cd=9771263\n",
      "169 https://www.assembly.go.kr/assm/memPop/memPopup.do?dept_cd=9770598\n",
      "170 https://www.assembly.go.kr/assm/memPop/memPopup.do?dept_cd=9771153\n",
      "171 https://www.assembly.go.kr/assm/memPop/memPopup.do?dept_cd=9770811\n",
      "172 https://www.assembly.go.kr/assm/memPop/memPopup.do?dept_cd=9771170\n",
      "173 https://www.assembly.go.kr/assm/memPop/memPopup.do?dept_cd=9771221\n",
      "174 https://www.assembly.go.kr/assm/memPop/memPopup.do?dept_cd=9770812\n",
      "175 https://www.assembly.go.kr/assm/memPop/memPopup.do?dept_cd=9771239\n",
      "176 https://www.assembly.go.kr/assm/memPop/memPopup.do?dept_cd=9771212\n",
      "177 https://www.assembly.go.kr/assm/memPop/memPopup.do?dept_cd=9771240\n",
      "178 https://www.assembly.go.kr/assm/memPop/memPopup.do?dept_cd=9771032\n",
      "179 https://www.assembly.go.kr/assm/memPop/memPopup.do?dept_cd=9770876\n",
      "180 https://www.assembly.go.kr/assm/memPop/memPopup.do?dept_cd=9770813\n",
      "181 https://www.assembly.go.kr/assm/memPop/memPopup.do?dept_cd=9770905\n",
      "182 https://www.assembly.go.kr/assm/memPop/memPopup.do?dept_cd=9771198\n",
      "183 https://www.assembly.go.kr/assm/memPop/memPopup.do?dept_cd=9771232\n",
      "184 https://www.assembly.go.kr/assm/memPop/memPopup.do?dept_cd=9771260\n",
      "185 https://www.assembly.go.kr/assm/memPop/memPopup.do?dept_cd=9771028\n",
      "186 https://www.assembly.go.kr/assm/memPop/memPopup.do?dept_cd=9770602\n",
      "187 https://www.assembly.go.kr/assm/memPop/memPopup.do?dept_cd=9771154\n",
      "188 https://www.assembly.go.kr/assm/memPop/memPopup.do?dept_cd=9770414\n",
      "189 https://www.assembly.go.kr/assm/memPop/memPopup.do?dept_cd=9771207\n",
      "190 https://www.assembly.go.kr/assm/memPop/memPopup.do?dept_cd=9771098\n",
      "191 https://www.assembly.go.kr/assm/memPop/memPopup.do?dept_cd=9771151\n",
      "192 https://www.assembly.go.kr/assm/memPop/memPopup.do?dept_cd=9771185\n",
      "193 https://www.assembly.go.kr/assm/memPop/memPopup.do?dept_cd=9771284\n",
      "194 https://www.assembly.go.kr/assm/memPop/memPopup.do?dept_cd=9771269\n",
      "195 https://www.assembly.go.kr/assm/memPop/memPopup.do?dept_cd=9771003\n",
      "196 https://www.assembly.go.kr/assm/memPop/memPopup.do?dept_cd=9771251\n",
      "197 https://www.assembly.go.kr/assm/memPop/memPopup.do?dept_cd=9771255\n",
      "198 https://www.assembly.go.kr/assm/memPop/memPopup.do?dept_cd=9771158\n",
      "199 https://www.assembly.go.kr/assm/memPop/memPopup.do?dept_cd=9771115\n",
      "200 https://www.assembly.go.kr/assm/memPop/memPopup.do?dept_cd=9771184\n",
      "201 https://www.assembly.go.kr/assm/memPop/memPopup.do?dept_cd=9771015\n",
      "202 https://www.assembly.go.kr/assm/memPop/memPopup.do?dept_cd=9770826\n",
      "203 https://www.assembly.go.kr/assm/memPop/memPopup.do?dept_cd=9771213\n",
      "204 https://www.assembly.go.kr/assm/memPop/memPopup.do?dept_cd=9771278\n",
      "205 https://www.assembly.go.kr/assm/memPop/memPopup.do?dept_cd=9770878\n",
      "206 https://www.assembly.go.kr/assm/memPop/memPopup.do?dept_cd=9771201\n",
      "207 https://www.assembly.go.kr/assm/memPop/memPopup.do?dept_cd=9771060\n",
      "208 https://www.assembly.go.kr/assm/memPop/memPopup.do?dept_cd=9771205\n",
      "209 https://www.assembly.go.kr/assm/memPop/memPopup.do?dept_cd=9770914\n",
      "210 https://www.assembly.go.kr/assm/memPop/memPopup.do?dept_cd=9771242\n",
      "211 https://www.assembly.go.kr/assm/memPop/memPopup.do?dept_cd=9771138\n",
      "212 https://www.assembly.go.kr/assm/memPop/memPopup.do?dept_cd=9770835\n",
      "213 https://www.assembly.go.kr/assm/memPop/memPopup.do?dept_cd=9771002\n",
      "214 https://www.assembly.go.kr/assm/memPop/memPopup.do?dept_cd=9771190\n",
      "215 https://www.assembly.go.kr/assm/memPop/memPopup.do?dept_cd=9771280\n",
      "216 https://www.assembly.go.kr/assm/memPop/memPopup.do?dept_cd=9770836\n",
      "217 https://www.assembly.go.kr/assm/memPop/memPopup.do?dept_cd=9771129\n",
      "218 https://www.assembly.go.kr/assm/memPop/memPopup.do?dept_cd=9770837\n",
      "219 https://www.assembly.go.kr/assm/memPop/memPopup.do?dept_cd=9771157\n",
      "220 https://www.assembly.go.kr/assm/memPop/memPopup.do?dept_cd=9770839\n",
      "221 https://www.assembly.go.kr/assm/memPop/memPopup.do?dept_cd=9771177\n",
      "222 https://www.assembly.go.kr/assm/memPop/memPopup.do?dept_cd=9771041\n",
      "223 https://www.assembly.go.kr/assm/memPop/memPopup.do?dept_cd=9771000\n",
      "224 https://www.assembly.go.kr/assm/memPop/memPopup.do?dept_cd=9771203\n",
      "225 https://www.assembly.go.kr/assm/memPop/memPopup.do?dept_cd=9771110\n",
      "226 https://www.assembly.go.kr/assm/memPop/memPopup.do?dept_cd=9770954\n",
      "227 https://www.assembly.go.kr/assm/memPop/memPopup.do?dept_cd=9771160\n",
      "228 https://www.assembly.go.kr/assm/memPop/memPopup.do?dept_cd=9771275\n",
      "229 https://www.assembly.go.kr/assm/memPop/memPopup.do?dept_cd=9771139\n",
      "230 https://www.assembly.go.kr/assm/memPop/memPopup.do?dept_cd=9771272\n",
      "231 https://www.assembly.go.kr/assm/memPop/memPopup.do?dept_cd=9770951\n",
      "232 https://www.assembly.go.kr/assm/memPop/memPopup.do?dept_cd=9771253\n",
      "233 https://www.assembly.go.kr/assm/memPop/memPopup.do?dept_cd=9770846\n",
      "234 https://www.assembly.go.kr/assm/memPop/memPopup.do?dept_cd=9770926\n",
      "235 https://www.assembly.go.kr/assm/memPop/memPopup.do?dept_cd=9771245\n",
      "236 https://www.assembly.go.kr/assm/memPop/memPopup.do?dept_cd=9771140\n",
      "237 https://www.assembly.go.kr/assm/memPop/memPopup.do?dept_cd=9770881\n",
      "238 https://www.assembly.go.kr/assm/memPop/memPopup.do?dept_cd=9771012\n",
      "239 https://www.assembly.go.kr/assm/memPop/memPopup.do?dept_cd=9771150\n",
      "240 https://www.assembly.go.kr/assm/memPop/memPopup.do?dept_cd=9771103\n",
      "241 https://www.assembly.go.kr/assm/memPop/memPopup.do?dept_cd=9771006\n",
      "242 https://www.assembly.go.kr/assm/memPop/memPopup.do?dept_cd=9771189\n",
      "243 https://www.assembly.go.kr/assm/memPop/memPopup.do?dept_cd=9771114\n",
      "244 https://www.assembly.go.kr/assm/memPop/memPopup.do?dept_cd=9771068\n",
      "245 https://www.assembly.go.kr/assm/memPop/memPopup.do?dept_cd=9771122\n",
      "246 https://www.assembly.go.kr/assm/memPop/memPopup.do?dept_cd=9771264\n",
      "247 https://www.assembly.go.kr/assm/memPop/memPopup.do?dept_cd=9771229\n",
      "248 https://www.assembly.go.kr/assm/memPop/memPopup.do?dept_cd=9770450\n",
      "249 https://www.assembly.go.kr/assm/memPop/memPopup.do?dept_cd=9771247\n",
      "250 https://www.assembly.go.kr/assm/memPop/memPopup.do?dept_cd=9771243\n",
      "251 https://www.assembly.go.kr/assm/memPop/memPopup.do?dept_cd=9770973\n",
      "252 https://www.assembly.go.kr/assm/memPop/memPopup.do?dept_cd=9771156\n",
      "253 https://www.assembly.go.kr/assm/memPop/memPopup.do?dept_cd=9770990\n",
      "254 https://www.assembly.go.kr/assm/memPop/memPopup.do?dept_cd=9770456\n",
      "255 https://www.assembly.go.kr/assm/memPop/memPopup.do?dept_cd=9771262\n",
      "256 https://www.assembly.go.kr/assm/memPop/memPopup.do?dept_cd=9771244\n",
      "257 https://www.assembly.go.kr/assm/memPop/memPopup.do?dept_cd=9771235\n",
      "258 https://www.assembly.go.kr/assm/memPop/memPopup.do?dept_cd=9771215\n",
      "259 https://www.assembly.go.kr/assm/memPop/memPopup.do?dept_cd=9770883\n",
      "260 https://www.assembly.go.kr/assm/memPop/memPopup.do?dept_cd=9771250\n",
      "261 https://www.assembly.go.kr/assm/memPop/memPopup.do?dept_cd=9770852\n",
      "262 https://www.assembly.go.kr/assm/memPop/memPopup.do?dept_cd=9771117\n",
      "263 https://www.assembly.go.kr/assm/memPop/memPopup.do?dept_cd=9771112\n",
      "264 https://www.assembly.go.kr/assm/memPop/memPopup.do?dept_cd=9771282\n",
      "265 https://www.assembly.go.kr/assm/memPop/memPopup.do?dept_cd=9771119\n",
      "266 https://www.assembly.go.kr/assm/memPop/memPopup.do?dept_cd=9771252\n",
      "267 https://www.assembly.go.kr/assm/memPop/memPopup.do?dept_cd=9771279\n",
      "268 https://www.assembly.go.kr/assm/memPop/memPopup.do?dept_cd=9770952\n",
      "269 https://www.assembly.go.kr/assm/memPop/memPopup.do?dept_cd=9771188\n",
      "270 https://www.assembly.go.kr/assm/memPop/memPopup.do?dept_cd=9771194\n",
      "271 https://www.assembly.go.kr/assm/memPop/memPopup.do?dept_cd=9771231\n",
      "272 https://www.assembly.go.kr/assm/memPop/memPopup.do?dept_cd=9771267\n",
      "273 https://www.assembly.go.kr/assm/memPop/memPopup.do?dept_cd=9770962\n",
      "274 https://www.assembly.go.kr/assm/memPop/memPopup.do?dept_cd=9771286\n",
      "275 https://www.assembly.go.kr/assm/memPop/memPopup.do?dept_cd=9771234\n",
      "276 https://www.assembly.go.kr/assm/memPop/memPopup.do?dept_cd=9770858\n",
      "277 https://www.assembly.go.kr/assm/memPop/memPopup.do?dept_cd=9771197\n",
      "278 https://www.assembly.go.kr/assm/memPop/memPopup.do?dept_cd=9771241\n",
      "279 https://www.assembly.go.kr/assm/memPop/memPopup.do?dept_cd=9771211\n",
      "280 https://www.assembly.go.kr/assm/memPop/memPopup.do?dept_cd=9770859\n",
      "281 https://www.assembly.go.kr/assm/memPop/memPopup.do?dept_cd=9771182\n",
      "282 https://www.assembly.go.kr/assm/memPop/memPopup.do?dept_cd=9771196\n",
      "283 https://www.assembly.go.kr/assm/memPop/memPopup.do?dept_cd=9771256\n",
      "284 https://www.assembly.go.kr/assm/memPop/memPopup.do?dept_cd=9771149\n",
      "285 https://www.assembly.go.kr/assm/memPop/memPopup.do?dept_cd=9771179\n",
      "286 https://www.assembly.go.kr/assm/memPop/memPopup.do?dept_cd=9770886\n",
      "287 https://www.assembly.go.kr/assm/memPop/memPopup.do?dept_cd=9771146\n",
      "288 https://www.assembly.go.kr/assm/memPop/memPopup.do?dept_cd=9771167\n",
      "289 https://www.assembly.go.kr/assm/memPop/memPopup.do?dept_cd=9770676\n",
      "290 https://www.assembly.go.kr/assm/memPop/memPopup.do?dept_cd=9770864\n",
      "291 https://www.assembly.go.kr/assm/memPop/memPopup.do?dept_cd=9771183\n",
      "292 https://www.assembly.go.kr/assm/memPop/memPopup.do?dept_cd=9771145\n",
      "293 https://www.assembly.go.kr/assm/memPop/memPopup.do?dept_cd=9771130\n",
      "294 https://www.assembly.go.kr/assm/memPop/memPopup.do?dept_cd=9771161\n",
      "295 https://www.assembly.go.kr/assm/memPop/memPopup.do?dept_cd=9770936\n",
      "295\n",
      "---------- end ----------\n"
     ]
    }
   ],
   "source": [
    "import requests\n",
    "from bs4 import BeautifulSoup\n",
    "import re\n",
    "from urllib.parse import urljoin\n",
    "\n",
    "print('---------- start ----------')\n",
    "member_detail_list = []\n",
    "for idx,mem_id in enumerate(member_id_list,1):\n",
    "    detail_url = f'https://www.assembly.go.kr/assm/memPop/memPopup.do?dept_cd={mem_id}'\n",
    "    print(idx, detail_url)\n",
    "    res = requests.get(detail_url)\n",
    "    if res.ok:\n",
    "        soup = BeautifulSoup(res.text, 'html.parser')\n",
    "\n",
    "        #1명의 정보를 저장할 dict 선언\n",
    "        member_detail_dict = {}\n",
    "\n",
    "        dt_list = [dt_tag.text for dt_tag in soup.select('dl.pro_detail dt')]\n",
    "\n",
    "        dd_list = []\n",
    "        for dd_tag in soup.select('dl.pro_detail dd'):\n",
    "            pattern = re.compile(f'[\\n\\r\\t]')\n",
    "            dd_text = pattern.sub('',dd_tag.text.strip()).replace(\" \",\"\")\n",
    "            dd_list.append(dd_text)\n",
    "\n",
    "        member_detail_dict = dict(zip(dt_list, dd_list))\n",
    "\n",
    "        for div_tag in soup.select('div.profile'):\n",
    "            #print(div_tag)\n",
    "            member_detail_dict['이름']=div_tag.find('h4').text\n",
    "\n",
    "            img_tag = div_tag.select('img')\n",
    "            if img_tag:\n",
    "                member_detail_dict['이미지'] = urljoin(detail_url, img_tag[0]['src'])\n",
    "\n",
    "            member_detail_dict['생년월일'] = div_tag.select_one('li:nth-of-type(4)').text\n",
    "        # print(member_detail_dict)\n",
    "\n",
    "        #1명의 정보가 저장된 dict를 list에 추가하기\n",
    "        member_detail_list.append(member_detail_dict)\n",
    "\n",
    "print(len(member_detail_list))\n",
    "print('---------- end ----------')"
   ],
   "metadata": {
    "collapsed": false,
    "pycharm": {
     "name": "#%%\n"
    }
   }
  },
  {
   "cell_type": "code",
   "execution_count": 25,
   "outputs": [],
   "source": [
    "import json\n",
    "\n",
    "with open('data/member.json', 'w') as file:\n",
    "    json.dump(member_detail_list,file)"
   ],
   "metadata": {
    "collapsed": false,
    "pycharm": {
     "name": "#%%\n"
    }
   }
  },
  {
   "cell_type": "code",
   "execution_count": 26,
   "outputs": [
    {
     "name": "stdout",
     "output_type": "stream",
     "text": [
      "(295, 16)\n"
     ]
    }
   ],
   "source": [
    "import pandas as pd\n",
    "\n",
    "member_df = pd.read_json('data/member.json')\n",
    "print(member_df.shape)"
   ],
   "metadata": {
    "collapsed": false,
    "pycharm": {
     "name": "#%%\n"
    }
   }
  },
  {
   "cell_type": "code",
   "execution_count": 27,
   "outputs": [
    {
     "data": {
      "text/plain": "     정당       선거구            소속위원회         당선횟수       사무실 전화    사무실 호실  \\\n0  국민의힘  경남창원시성산구          보건복지위원회  재선(19대,21대)  02-784-1751  의원회관937호   \n1  국민의힘     대구동구을  국방위원회,정치개혁특별위원회      초선(21대)  02-784-5275  의원회관341호   \n\n                           홈페이지                 이메일      보좌관      비서관  \\\n0  http://blog.naver.com/ggotop    ggotop@naver.com  김홍광,한영애  지상훈,최광림   \n1                                kds21341@naver.com  박홍규,정운태  유진영,윤미라   \n\n                    비서 취미, 특기 의원실 안내   이름  \\\n0  김영록,안효상,이유진,홍지형,김지훈                강기윤   \n1      박순권,김광연,김현정,송민욱                강대식   \n\n                                            이미지        생년월일  \n0  https://www.assembly.go.kr/photo/9771230.jpg  1960-06-04  \n1  https://www.assembly.go.kr/photo/9771142.jpg  1959-11-02  ",
      "text/html": "<div>\n<style scoped>\n    .dataframe tbody tr th:only-of-type {\n        vertical-align: middle;\n    }\n\n    .dataframe tbody tr th {\n        vertical-align: top;\n    }\n\n    .dataframe thead th {\n        text-align: right;\n    }\n</style>\n<table border=\"1\" class=\"dataframe\">\n  <thead>\n    <tr style=\"text-align: right;\">\n      <th></th>\n      <th>정당</th>\n      <th>선거구</th>\n      <th>소속위원회</th>\n      <th>당선횟수</th>\n      <th>사무실 전화</th>\n      <th>사무실 호실</th>\n      <th>홈페이지</th>\n      <th>이메일</th>\n      <th>보좌관</th>\n      <th>비서관</th>\n      <th>비서</th>\n      <th>취미, 특기</th>\n      <th>의원실 안내</th>\n      <th>이름</th>\n      <th>이미지</th>\n      <th>생년월일</th>\n    </tr>\n  </thead>\n  <tbody>\n    <tr>\n      <th>0</th>\n      <td>국민의힘</td>\n      <td>경남창원시성산구</td>\n      <td>보건복지위원회</td>\n      <td>재선(19대,21대)</td>\n      <td>02-784-1751</td>\n      <td>의원회관937호</td>\n      <td>http://blog.naver.com/ggotop</td>\n      <td>ggotop@naver.com</td>\n      <td>김홍광,한영애</td>\n      <td>지상훈,최광림</td>\n      <td>김영록,안효상,이유진,홍지형,김지훈</td>\n      <td></td>\n      <td></td>\n      <td>강기윤</td>\n      <td>https://www.assembly.go.kr/photo/9771230.jpg</td>\n      <td>1960-06-04</td>\n    </tr>\n    <tr>\n      <th>1</th>\n      <td>국민의힘</td>\n      <td>대구동구을</td>\n      <td>국방위원회,정치개혁특별위원회</td>\n      <td>초선(21대)</td>\n      <td>02-784-5275</td>\n      <td>의원회관341호</td>\n      <td></td>\n      <td>kds21341@naver.com</td>\n      <td>박홍규,정운태</td>\n      <td>유진영,윤미라</td>\n      <td>박순권,김광연,김현정,송민욱</td>\n      <td></td>\n      <td></td>\n      <td>강대식</td>\n      <td>https://www.assembly.go.kr/photo/9771142.jpg</td>\n      <td>1959-11-02</td>\n    </tr>\n  </tbody>\n</table>\n</div>"
     },
     "execution_count": 27,
     "metadata": {},
     "output_type": "execute_result"
    }
   ],
   "source": [
    "member_df.head(2)"
   ],
   "metadata": {
    "collapsed": false,
    "pycharm": {
     "name": "#%%\n"
    }
   }
  },
  {
   "cell_type": "code",
   "execution_count": 28,
   "outputs": [
    {
     "name": "stdout",
     "output_type": "stream",
     "text": [
      "<class 'pandas.core.frame.DataFrame'>\n",
      "RangeIndex: 295 entries, 0 to 294\n",
      "Data columns (total 16 columns):\n",
      " #   Column  Non-Null Count  Dtype \n",
      "---  ------  --------------  ----- \n",
      " 0   정당      295 non-null    object\n",
      " 1   선거구     295 non-null    object\n",
      " 2   소속위원회   295 non-null    object\n",
      " 3   당선횟수    295 non-null    object\n",
      " 4   사무실 전화  295 non-null    object\n",
      " 5   사무실 호실  295 non-null    object\n",
      " 6   홈페이지    295 non-null    object\n",
      " 7   이메일     295 non-null    object\n",
      " 8   보좌관     295 non-null    object\n",
      " 9   비서관     295 non-null    object\n",
      " 10  비서      295 non-null    object\n",
      " 11  취미, 특기  295 non-null    object\n",
      " 12  의원실 안내  295 non-null    object\n",
      " 13  이름      295 non-null    object\n",
      " 14  이미지     295 non-null    object\n",
      " 15  생년월일    295 non-null    object\n",
      "dtypes: object(16)\n",
      "memory usage: 37.0+ KB\n"
     ]
    }
   ],
   "source": [
    "member_df.info()"
   ],
   "metadata": {
    "collapsed": false,
    "pycharm": {
     "name": "#%%\n"
    }
   }
  },
  {
   "cell_type": "code",
   "execution_count": 38,
   "outputs": [
    {
     "data": {
      "text/plain": "array(['국민의힘', '더불어민주당', '정의당', '국민의당', '무소속', '기본소득당', '시대전환'],\n      dtype=object)"
     },
     "execution_count": 38,
     "metadata": {},
     "output_type": "execute_result"
    }
   ],
   "source": [
    "member_df['정당'].unique()"
   ],
   "metadata": {
    "collapsed": false,
    "pycharm": {
     "name": "#%%\n"
    }
   }
  },
  {
   "cell_type": "code",
   "execution_count": 29,
   "outputs": [
    {
     "data": {
      "text/plain": "더불어민주당    172\n국민의힘      106\n정의당         6\n무소속         6\n국민의당        3\n기본소득당       1\n시대전환        1\nName: 정당, dtype: int64"
     },
     "execution_count": 29,
     "metadata": {},
     "output_type": "execute_result"
    }
   ],
   "source": [
    "member_df['정당'].value_counts()"
   ],
   "metadata": {
    "collapsed": false,
    "pycharm": {
     "name": "#%%\n"
    }
   }
  },
  {
   "cell_type": "code",
   "execution_count": 30,
   "outputs": [
    {
     "data": {
      "text/plain": "초선(21대)                        149\n재선(20대,21대)                     60\n3선(19대,20대,21대)                 33\n4선(17대,19대,20대,21대)             10\n재선(19대,21대)                      9\n5선(17대,18대,19대,20대,21대)          7\n4선(18대,19대,20대,21대)              6\n3선(18대,19대,21대)                  3\n재선(17대,21대)                      2\n4선(16대,17대,18대,21대)              2\n5선(16대,17대,18대,20대,21대)          2\n3선(17대,19대,21대)                  2\n3선(18대,20대,21대)                  2\n4선(17대,18대,19대,21대)              1\n3선(15대,16대,21대)                  1\n6선(16대,17대,18대,19대,20대,21대)      1\n5선(16대,17대,18대,19대,21대)          1\n5선(15대,16대,19대,20대,21대)          1\n3선(17대,18대,21대)                  1\n재선(18대,21대)                      1\n5선(15대,16대,17대,18대,21대)          1\nName: 당선횟수, dtype: int64"
     },
     "execution_count": 30,
     "metadata": {},
     "output_type": "execute_result"
    }
   ],
   "source": [
    "member_df['당선횟수'].value_counts()"
   ],
   "metadata": {
    "collapsed": false,
    "pycharm": {
     "name": "#%%\n"
    }
   }
  },
  {
   "cell_type": "code",
   "execution_count": 34,
   "outputs": [
    {
     "data": {
      "text/plain": "비례대표              47\n경남창원시성산구           1\n광주광산구갑             1\n전남담양군함평군영광군장성군     1\n강원원주시갑             1\n                  ..\n경남창원시의창구           1\n충남천안시을             1\n서울강북구을             1\n부산남구을              1\n서울양천구갑             1\nName: 선거구, Length: 249, dtype: int64"
     },
     "execution_count": 34,
     "metadata": {},
     "output_type": "execute_result"
    }
   ],
   "source": [
    "member_df['선거구'].value_counts()"
   ],
   "metadata": {
    "collapsed": false,
    "pycharm": {
     "name": "#%%\n"
    }
   }
  },
  {
   "cell_type": "code",
   "execution_count": 33,
   "outputs": [
    {
     "name": "stdout",
     "output_type": "stream",
     "text": [
      "0                  재선(19대,21대)\n",
      "1                      초선(21대)\n",
      "2                      초선(21대)\n",
      "3                      초선(21대)\n",
      "4                      초선(21대)\n",
      "                ...           \n",
      "290                    초선(21대)\n",
      "291    5선(15대,16대,17대,18대,21대)\n",
      "292                    초선(21대)\n",
      "293                    초선(21대)\n",
      "294                재선(20대,21대)\n",
      "Name: 당선횟수, Length: 295, dtype: object\n",
      "<pandas.core.strings.accessor.StringMethods object at 0x7fae889b8f10>\n"
     ]
    },
    {
     "data": {
      "text/plain": "          당선횟수 당선횟수2\n0  재선(19대,21대)    재선\n1      초선(21대)    초선\n2      초선(21대)    초선\n3      초선(21대)    초선",
      "text/html": "<div>\n<style scoped>\n    .dataframe tbody tr th:only-of-type {\n        vertical-align: middle;\n    }\n\n    .dataframe tbody tr th {\n        vertical-align: top;\n    }\n\n    .dataframe thead th {\n        text-align: right;\n    }\n</style>\n<table border=\"1\" class=\"dataframe\">\n  <thead>\n    <tr style=\"text-align: right;\">\n      <th></th>\n      <th>당선횟수</th>\n      <th>당선횟수2</th>\n    </tr>\n  </thead>\n  <tbody>\n    <tr>\n      <th>0</th>\n      <td>재선(19대,21대)</td>\n      <td>재선</td>\n    </tr>\n    <tr>\n      <th>1</th>\n      <td>초선(21대)</td>\n      <td>초선</td>\n    </tr>\n    <tr>\n      <th>2</th>\n      <td>초선(21대)</td>\n      <td>초선</td>\n    </tr>\n    <tr>\n      <th>3</th>\n      <td>초선(21대)</td>\n      <td>초선</td>\n    </tr>\n  </tbody>\n</table>\n</div>"
     },
     "execution_count": 33,
     "metadata": {},
     "output_type": "execute_result"
    }
   ],
   "source": [
    "print(member_df['당선횟수'])\n",
    "print(member_df['당선횟수'].str)\n",
    "\n",
    "temp_str = member_df['당선횟수'].str\n",
    "\n",
    "member_df['당선횟수2'] = temp_str[:2]\n",
    "\n",
    "member_df.loc[0:3, ['당선횟수', '당선횟수2']]"
   ],
   "metadata": {
    "collapsed": false,
    "pycharm": {
     "name": "#%%\n"
    }
   }
  },
  {
   "cell_type": "code",
   "execution_count": 35,
   "outputs": [
    {
     "data": {
      "text/plain": "초선    149\n재선     72\n3선     42\n4선     19\n5선     12\n6선      1\nName: 당선횟수2, dtype: int64"
     },
     "execution_count": 35,
     "metadata": {},
     "output_type": "execute_result"
    }
   ],
   "source": [
    "member_df['당선횟수2'].value_counts()"
   ],
   "metadata": {
    "collapsed": false,
    "pycharm": {
     "name": "#%%\n"
    }
   }
  },
  {
   "cell_type": "code",
   "execution_count": 39,
   "outputs": [
    {
     "data": {
      "text/plain": "     정당    선거구 소속위원회                         당선횟수        사무실 전화    사무실 호실  \\\n91  무소속  대전서구갑        6선(16대,17대,18대,19대,20대,21대)  02-6788-6461  의원회관804호   \n\n   홈페이지                이메일      보좌관      비서관                   비서 취미, 특기  \\\n91       pbs2100@gmail.com  박승규,송석근  김민숙,좌승택  이영해,조연길,최지연,임규보,이초롱          \n\n   의원실 안내   이름                                           이미지        생년월일 당선횟수2  \n91         박병석  https://www.assembly.go.kr/photo/9770090.jpg  1952-01-25    6선  ",
      "text/html": "<div>\n<style scoped>\n    .dataframe tbody tr th:only-of-type {\n        vertical-align: middle;\n    }\n\n    .dataframe tbody tr th {\n        vertical-align: top;\n    }\n\n    .dataframe thead th {\n        text-align: right;\n    }\n</style>\n<table border=\"1\" class=\"dataframe\">\n  <thead>\n    <tr style=\"text-align: right;\">\n      <th></th>\n      <th>정당</th>\n      <th>선거구</th>\n      <th>소속위원회</th>\n      <th>당선횟수</th>\n      <th>사무실 전화</th>\n      <th>사무실 호실</th>\n      <th>홈페이지</th>\n      <th>이메일</th>\n      <th>보좌관</th>\n      <th>비서관</th>\n      <th>비서</th>\n      <th>취미, 특기</th>\n      <th>의원실 안내</th>\n      <th>이름</th>\n      <th>이미지</th>\n      <th>생년월일</th>\n      <th>당선횟수2</th>\n    </tr>\n  </thead>\n  <tbody>\n    <tr>\n      <th>91</th>\n      <td>무소속</td>\n      <td>대전서구갑</td>\n      <td></td>\n      <td>6선(16대,17대,18대,19대,20대,21대)</td>\n      <td>02-6788-6461</td>\n      <td>의원회관804호</td>\n      <td></td>\n      <td>pbs2100@gmail.com</td>\n      <td>박승규,송석근</td>\n      <td>김민숙,좌승택</td>\n      <td>이영해,조연길,최지연,임규보,이초롱</td>\n      <td></td>\n      <td></td>\n      <td>박병석</td>\n      <td>https://www.assembly.go.kr/photo/9770090.jpg</td>\n      <td>1952-01-25</td>\n      <td>6선</td>\n    </tr>\n  </tbody>\n</table>\n</div>"
     },
     "execution_count": 39,
     "metadata": {},
     "output_type": "execute_result"
    }
   ],
   "source": [
    "#6선 국회의원 누구?\n",
    "member_df.loc[member_df['당선횟수2'] == '6선']"
   ],
   "metadata": {
    "collapsed": false,
    "pycharm": {
     "name": "#%%\n"
    }
   }
  },
  {
   "cell_type": "code",
   "execution_count": 40,
   "outputs": [
    {
     "name": "stdout",
     "output_type": "stream",
     "text": [
      "<class 'pandas.core.series.Series'>\n",
      "<class 'pandas.core.strings.accessor.StringMethods'>\n"
     ]
    },
    {
     "data": {
      "text/plain": "        선거구 선거구2\n0  경남창원시성산구   경남\n1     대구동구을   대구\n2  경기안양시만안구   경기\n3    경남진주시을   경남",
      "text/html": "<div>\n<style scoped>\n    .dataframe tbody tr th:only-of-type {\n        vertical-align: middle;\n    }\n\n    .dataframe tbody tr th {\n        vertical-align: top;\n    }\n\n    .dataframe thead th {\n        text-align: right;\n    }\n</style>\n<table border=\"1\" class=\"dataframe\">\n  <thead>\n    <tr style=\"text-align: right;\">\n      <th></th>\n      <th>선거구</th>\n      <th>선거구2</th>\n    </tr>\n  </thead>\n  <tbody>\n    <tr>\n      <th>0</th>\n      <td>경남창원시성산구</td>\n      <td>경남</td>\n    </tr>\n    <tr>\n      <th>1</th>\n      <td>대구동구을</td>\n      <td>대구</td>\n    </tr>\n    <tr>\n      <th>2</th>\n      <td>경기안양시만안구</td>\n      <td>경기</td>\n    </tr>\n    <tr>\n      <th>3</th>\n      <td>경남진주시을</td>\n      <td>경남</td>\n    </tr>\n  </tbody>\n</table>\n</div>"
     },
     "execution_count": 40,
     "metadata": {},
     "output_type": "execute_result"
    }
   ],
   "source": [
    "#선거구2 컬럼을 새로 추가\n",
    "#재선(20대,21대) -> 재선\n",
    "print(type(member_df['선거구']))\n",
    "print(type(member_df['선거구'].str))\n",
    "#Series객체를 StringMethods 객체로 변환(문자열 슬라이싱을 하기 위해서)\n",
    "temp_str = member_df['선거구'].str\n",
    "#2글자 슬라이싱 값을 선거구2 라는 컬럼으로 저장\n",
    "member_df['선거구2'] = temp_str[:2]\n",
    "\n",
    "member_df.loc[0:3,['선거구','선거구2']]"
   ],
   "metadata": {
    "collapsed": false,
    "pycharm": {
     "name": "#%%\n"
    }
   }
  },
  {
   "cell_type": "code",
   "execution_count": 41,
   "outputs": [
    {
     "data": {
      "text/plain": "경기    58\n비례    47\n서울    47\n부산    18\n경남    16\n경북    13\n인천    13\n충남    11\n대구    11\n전북    10\n전남    10\n광주     8\n강원     8\n충북     7\n대전     7\n울산     6\n제주     3\n세종     2\nName: 선거구2, dtype: int64"
     },
     "execution_count": 41,
     "metadata": {},
     "output_type": "execute_result"
    }
   ],
   "source": [
    "member_df['선거구2'].value_counts()"
   ],
   "metadata": {
    "collapsed": false,
    "pycharm": {
     "name": "#%%\n"
    }
   }
  },
  {
   "cell_type": "code",
   "execution_count": 42,
   "outputs": [
    {
     "data": {
      "text/plain": "경기    0.196610\n비례    0.159322\n서울    0.159322\n부산    0.061017\n경남    0.054237\n경북    0.044068\n인천    0.044068\n충남    0.037288\n대구    0.037288\n전북    0.033898\n전남    0.033898\n광주    0.027119\n강원    0.027119\n충북    0.023729\n대전    0.023729\n울산    0.020339\n제주    0.010169\n세종    0.006780\nName: 선거구2, dtype: float64"
     },
     "execution_count": 42,
     "metadata": {},
     "output_type": "execute_result"
    }
   ],
   "source": [
    "member_df['선거구2'].value_counts(normalize=True)"
   ],
   "metadata": {
    "collapsed": false,
    "pycharm": {
     "name": "#%%\n"
    }
   }
  },
  {
   "cell_type": "code",
   "execution_count": 43,
   "outputs": [
    {
     "data": {
      "text/plain": "0    1960-06-04\n1    1959-11-02\n2    1963-05-27\nName: 생년월일, dtype: object"
     },
     "execution_count": 43,
     "metadata": {},
     "output_type": "execute_result"
    }
   ],
   "source": [
    "member_df['생년월일'].head(3)"
   ],
   "metadata": {
    "collapsed": false,
    "pycharm": {
     "name": "#%%\n"
    }
   }
  },
  {
   "cell_type": "code",
   "execution_count": 45,
   "outputs": [
    {
     "name": "stdout",
     "output_type": "stream",
     "text": [
      "int64\n"
     ]
    },
    {
     "data": {
      "text/plain": "   year  month  day\n0  1960      6    4\n1  1959     11    2\n2  1963      5   27\n3  1971      3    3",
      "text/html": "<div>\n<style scoped>\n    .dataframe tbody tr th:only-of-type {\n        vertical-align: middle;\n    }\n\n    .dataframe tbody tr th {\n        vertical-align: top;\n    }\n\n    .dataframe thead th {\n        text-align: right;\n    }\n</style>\n<table border=\"1\" class=\"dataframe\">\n  <thead>\n    <tr style=\"text-align: right;\">\n      <th></th>\n      <th>year</th>\n      <th>month</th>\n      <th>day</th>\n    </tr>\n  </thead>\n  <tbody>\n    <tr>\n      <th>0</th>\n      <td>1960</td>\n      <td>6</td>\n      <td>4</td>\n    </tr>\n    <tr>\n      <th>1</th>\n      <td>1959</td>\n      <td>11</td>\n      <td>2</td>\n    </tr>\n    <tr>\n      <th>2</th>\n      <td>1963</td>\n      <td>5</td>\n      <td>27</td>\n    </tr>\n    <tr>\n      <th>3</th>\n      <td>1971</td>\n      <td>3</td>\n      <td>3</td>\n    </tr>\n  </tbody>\n</table>\n</div>"
     },
     "execution_count": 45,
     "metadata": {},
     "output_type": "execute_result"
    }
   ],
   "source": [
    "#DatetimeIndex 객체를 사용해서 생년월일 컬럼의 값을 year,month,day 로 각각 추출한다.\n",
    "#year,month, day 3개의 컬럼을 새로 추가한다.\n",
    "#print(pd.DatetimeIndex(member_df['생년월일']).year)\n",
    "\n",
    "member_df['year'] = pd.DatetimeIndex(member_df['생년월일']).year\n",
    "member_df['month'] = pd.DatetimeIndex(member_df['생년월일']).month\n",
    "member_df['day'] = pd.DatetimeIndex(member_df['생년월일']).day\n",
    "\n",
    "print(member_df['year'].dtypes)\n",
    "\n",
    "member_df.loc[0:3,['year','month','day']]"
   ],
   "metadata": {
    "collapsed": false,
    "pycharm": {
     "name": "#%%\n"
    }
   }
  },
  {
   "cell_type": "code",
   "execution_count": 46,
   "outputs": [
    {
     "data": {
      "text/plain": "     이름   정당\n79  류호정  정의당",
      "text/html": "<div>\n<style scoped>\n    .dataframe tbody tr th:only-of-type {\n        vertical-align: middle;\n    }\n\n    .dataframe tbody tr th {\n        vertical-align: top;\n    }\n\n    .dataframe thead th {\n        text-align: right;\n    }\n</style>\n<table border=\"1\" class=\"dataframe\">\n  <thead>\n    <tr style=\"text-align: right;\">\n      <th></th>\n      <th>이름</th>\n      <th>정당</th>\n    </tr>\n  </thead>\n  <tbody>\n    <tr>\n      <th>79</th>\n      <td>류호정</td>\n      <td>정의당</td>\n    </tr>\n  </tbody>\n</table>\n</div>"
     },
     "execution_count": 46,
     "metadata": {},
     "output_type": "execute_result"
    }
   ],
   "source": [
    "#가장 나이가 어린 사람은?\n",
    "member_df.loc[member_df['year'] == member_df['year'].max(),['이름','정당']]"
   ],
   "metadata": {
    "collapsed": false,
    "pycharm": {
     "name": "#%%\n"
    }
   }
  },
  {
   "cell_type": "code",
   "execution_count": 47,
   "outputs": [],
   "source": [
    "#나이를 계산하는 함수 정의하기\n",
    "from datetime import date\n",
    "\n",
    "# 인자로 받는 birth는 datetime.date 객체이다.\n",
    "def calc_age(birth):\n",
    "    #현재날짜\n",
    "    today = date.today()\n",
    "    age = today.year - birth.year - ((today.month, today.day) < (birth.month, birth.day))\n",
    "    return age"
   ],
   "metadata": {
    "collapsed": false,
    "pycharm": {
     "name": "#%%\n"
    }
   }
  },
  {
   "cell_type": "code",
   "execution_count": 48,
   "outputs": [
    {
     "data": {
      "text/plain": "32"
     },
     "execution_count": 48,
     "metadata": {},
     "output_type": "execute_result"
    }
   ],
   "source": [
    "calc_age(date(1990,1,1))"
   ],
   "metadata": {
    "collapsed": false,
    "pycharm": {
     "name": "#%%\n"
    }
   }
  },
  {
   "cell_type": "code",
   "execution_count": 49,
   "outputs": [
    {
     "name": "stdout",
     "output_type": "stream",
     "text": [
      "295\n"
     ]
    },
    {
     "data": {
      "text/plain": "[61, 62, 58, 50, 60, 50, 43, 51, 57, 48]"
     },
     "execution_count": 49,
     "metadata": {},
     "output_type": "execute_result"
    }
   ],
   "source": [
    "#Row별로 년,월,일 컬럼의 값으로 나이를 계산하고\n",
    "#계산된 나이값을 age_list에 추가하기\n",
    "age_list = []\n",
    "for idx,row in member_df.iterrows():\n",
    "    #print(idx,type(row), row['year'])\n",
    "    age = calc_age(date(row['year'],row['month'],row['day']))\n",
    "    age_list.append(age)\n",
    "\n",
    "print(len(age_list))\n",
    "age_list[:10]"
   ],
   "metadata": {
    "collapsed": false,
    "pycharm": {
     "name": "#%%\n"
    }
   }
  },
  {
   "cell_type": "code",
   "execution_count": 50,
   "outputs": [
    {
     "data": {
      "text/plain": "         생년월일  나이\n0  1960-06-04  61\n1  1959-11-02  62\n2  1963-05-27  58\n3  1971-03-03  50\n4  1961-04-26  60",
      "text/html": "<div>\n<style scoped>\n    .dataframe tbody tr th:only-of-type {\n        vertical-align: middle;\n    }\n\n    .dataframe tbody tr th {\n        vertical-align: top;\n    }\n\n    .dataframe thead th {\n        text-align: right;\n    }\n</style>\n<table border=\"1\" class=\"dataframe\">\n  <thead>\n    <tr style=\"text-align: right;\">\n      <th></th>\n      <th>생년월일</th>\n      <th>나이</th>\n    </tr>\n  </thead>\n  <tbody>\n    <tr>\n      <th>0</th>\n      <td>1960-06-04</td>\n      <td>61</td>\n    </tr>\n    <tr>\n      <th>1</th>\n      <td>1959-11-02</td>\n      <td>62</td>\n    </tr>\n    <tr>\n      <th>2</th>\n      <td>1963-05-27</td>\n      <td>58</td>\n    </tr>\n    <tr>\n      <th>3</th>\n      <td>1971-03-03</td>\n      <td>50</td>\n    </tr>\n    <tr>\n      <th>4</th>\n      <td>1961-04-26</td>\n      <td>60</td>\n    </tr>\n  </tbody>\n</table>\n</div>"
     },
     "execution_count": 50,
     "metadata": {},
     "output_type": "execute_result"
    }
   ],
   "source": [
    "#나이 컬럼추가\n",
    "member_df['나이'] = age_list\n",
    "member_df[['생년월일','나이']].head()"
   ],
   "metadata": {
    "collapsed": false,
    "pycharm": {
     "name": "#%%\n"
    }
   }
  },
  {
   "cell_type": "code",
   "execution_count": 51,
   "outputs": [
    {
     "data": {
      "text/plain": "count    295.000000\nmean      56.667797\nstd        7.352968\nmin       29.000000\n25%       54.000000\n50%       58.000000\n75%       61.000000\nmax       74.000000\nName: 나이, dtype: float64"
     },
     "execution_count": 51,
     "metadata": {},
     "output_type": "execute_result"
    }
   ],
   "source": [
    "member_df['나이'].describe()"
   ],
   "metadata": {
    "collapsed": false,
    "pycharm": {
     "name": "#%%\n"
    }
   }
  },
  {
   "cell_type": "code",
   "execution_count": 52,
   "outputs": [
    {
     "data": {
      "text/plain": "Index(['정당', '선거구', '소속위원회', '당선횟수', '사무실 전화', '사무실 호실', '홈페이지', '이메일', '보좌관',\n       '비서관', '비서', '취미, 특기', '의원실 안내', '이름', '이미지', '생년월일', '당선횟수2', '선거구2',\n       'year', 'month', 'day', '나이'],\n      dtype='object')"
     },
     "execution_count": 52,
     "metadata": {},
     "output_type": "execute_result"
    }
   ],
   "source": [
    "member_df.columns"
   ],
   "metadata": {
    "collapsed": false,
    "pycharm": {
     "name": "#%%\n"
    }
   }
  },
  {
   "cell_type": "code",
   "execution_count": 53,
   "outputs": [
    {
     "data": {
      "text/plain": "290    https://www.assembly.go.kr/photo/9771183.jpg\n291    https://www.assembly.go.kr/photo/9771145.jpg\n292    https://www.assembly.go.kr/photo/9771130.jpg\n293    https://www.assembly.go.kr/photo/9771161.jpg\n294    https://www.assembly.go.kr/photo/9770936.jpg\nName: 이미지, dtype: object"
     },
     "execution_count": 53,
     "metadata": {},
     "output_type": "execute_result"
    }
   ],
   "source": [
    "member_df['이미지'].tail()"
   ],
   "metadata": {
    "collapsed": false,
    "pycharm": {
     "name": "#%%\n"
    }
   }
  },
  {
   "cell_type": "markdown",
   "source": [
    "### 시각화(Visualization)\n",
    "- Image 출력 - IPython에서 제공하는 Image 객체, display() 함수 사용\n",
    "- seaborn - countplot, distplot, heatmap\n",
    "- matplotlib - histogram, pie chart\n",
    "- 한글폰트 설정"
   ],
   "metadata": {
    "collapsed": false,
    "pycharm": {
     "name": "#%% md\n"
    }
   }
  },
  {
   "cell_type": "code",
   "execution_count": 54,
   "outputs": [
    {
     "name": "stdout",
     "output_type": "stream",
     "text": [
      "https://www.assembly.go.kr/photo/9771089.jpg\n",
      "https://www.assembly.go.kr/photo/9771156.jpg\n"
     ]
    }
   ],
   "source": [
    "from IPython.display import Image, display\n",
    "\n",
    "for img_url in member_df['이미지'].sample(2):\n",
    "    print(img_url)\n",
    "    #display(Image(url=img_url))"
   ],
   "metadata": {
    "collapsed": false,
    "pycharm": {
     "name": "#%%\n"
    }
   }
  },
  {
   "cell_type": "code",
   "execution_count": 55,
   "outputs": [],
   "source": [
    "%matplotlib inline"
   ],
   "metadata": {
    "collapsed": false,
    "pycharm": {
     "name": "#%%\n"
    }
   }
  },
  {
   "cell_type": "code",
   "execution_count": 56,
   "outputs": [],
   "source": [
    "import matplotlib\n",
    "import matplotlib.pyplot as plt\n",
    "import matplotlib.font_manager as fm\n",
    "\n",
    "import seaborn as sns"
   ],
   "metadata": {
    "collapsed": false,
    "pycharm": {
     "name": "#%%\n"
    }
   }
  },
  {
   "cell_type": "code",
   "execution_count": 57,
   "outputs": [
    {
     "ename": "FileNotFoundError",
     "evalue": "[Errno 2] No such file or directory: '/Users/kimeunbin/Documents/Cloud/0126/webscrap_source/C:\\\\Windows\\\\Fonts\\\\malgun.ttf'",
     "output_type": "error",
     "traceback": [
      "\u001B[0;31m---------------------------------------------------------------------------\u001B[0m",
      "\u001B[0;31mFileNotFoundError\u001B[0m                         Traceback (most recent call last)",
      "\u001B[0;32m/var/folders/7d/9pfcr1bn2bl3ybstxw14zd1h0000gn/T/ipykernel_15047/2464814586.py\u001B[0m in \u001B[0;36m<module>\u001B[0;34m\u001B[0m\n\u001B[1;32m      2\u001B[0m \u001B[0mfont_path\u001B[0m \u001B[0;34m=\u001B[0m \u001B[0;34m'C:\\\\Windows\\\\Fonts\\\\malgun.ttf'\u001B[0m\u001B[0;34m\u001B[0m\u001B[0;34m\u001B[0m\u001B[0m\n\u001B[1;32m      3\u001B[0m \u001B[0;31m# font의 파일정보로 font name을 알아내기\u001B[0m\u001B[0;34m\u001B[0m\u001B[0;34m\u001B[0m\u001B[0m\n\u001B[0;32m----> 4\u001B[0;31m \u001B[0mfont_prop\u001B[0m \u001B[0;34m=\u001B[0m \u001B[0mfm\u001B[0m\u001B[0;34m.\u001B[0m\u001B[0mFontProperties\u001B[0m\u001B[0;34m(\u001B[0m\u001B[0mfname\u001B[0m\u001B[0;34m=\u001B[0m\u001B[0mfont_path\u001B[0m\u001B[0;34m)\u001B[0m\u001B[0;34m.\u001B[0m\u001B[0mget_name\u001B[0m\u001B[0;34m(\u001B[0m\u001B[0;34m)\u001B[0m\u001B[0;34m\u001B[0m\u001B[0;34m\u001B[0m\u001B[0m\n\u001B[0m\u001B[1;32m      5\u001B[0m \u001B[0mprint\u001B[0m\u001B[0;34m(\u001B[0m\u001B[0mfont_prop\u001B[0m\u001B[0;34m)\u001B[0m\u001B[0;34m\u001B[0m\u001B[0;34m\u001B[0m\u001B[0m\n\u001B[1;32m      6\u001B[0m \u001B[0;31m# matplotlib의 rc(run command) 함수를 사용해서 폰트이름 설정\u001B[0m\u001B[0;34m\u001B[0m\u001B[0;34m\u001B[0m\u001B[0m\n",
      "\u001B[0;32m~/opt/anaconda3/envs/pythonProject/lib/python3.9/site-packages/matplotlib/font_manager.py\u001B[0m in \u001B[0;36mget_name\u001B[0;34m(self)\u001B[0m\n\u001B[1;32m    735\u001B[0m         \u001B[0mReturn\u001B[0m \u001B[0mthe\u001B[0m \u001B[0mname\u001B[0m \u001B[0mof\u001B[0m \u001B[0mthe\u001B[0m \u001B[0mfont\u001B[0m \u001B[0mthat\u001B[0m \u001B[0mbest\u001B[0m \u001B[0mmatches\u001B[0m \u001B[0mthe\u001B[0m \u001B[0mfont\u001B[0m \u001B[0mproperties\u001B[0m\u001B[0;34m.\u001B[0m\u001B[0;34m\u001B[0m\u001B[0;34m\u001B[0m\u001B[0m\n\u001B[1;32m    736\u001B[0m         \"\"\"\n\u001B[0;32m--> 737\u001B[0;31m         \u001B[0;32mreturn\u001B[0m \u001B[0mget_font\u001B[0m\u001B[0;34m(\u001B[0m\u001B[0mfindfont\u001B[0m\u001B[0;34m(\u001B[0m\u001B[0mself\u001B[0m\u001B[0;34m)\u001B[0m\u001B[0;34m)\u001B[0m\u001B[0;34m.\u001B[0m\u001B[0mfamily_name\u001B[0m\u001B[0;34m\u001B[0m\u001B[0;34m\u001B[0m\u001B[0m\n\u001B[0m\u001B[1;32m    738\u001B[0m \u001B[0;34m\u001B[0m\u001B[0m\n\u001B[1;32m    739\u001B[0m     \u001B[0;32mdef\u001B[0m \u001B[0mget_style\u001B[0m\u001B[0;34m(\u001B[0m\u001B[0mself\u001B[0m\u001B[0;34m)\u001B[0m\u001B[0;34m:\u001B[0m\u001B[0;34m\u001B[0m\u001B[0;34m\u001B[0m\u001B[0m\n",
      "\u001B[0;32m~/opt/anaconda3/envs/pythonProject/lib/python3.9/site-packages/matplotlib/font_manager.py\u001B[0m in \u001B[0;36mget_font\u001B[0;34m(filename, hinting_factor)\u001B[0m\n\u001B[1;32m   1422\u001B[0m         \u001B[0mhinting_factor\u001B[0m \u001B[0;34m=\u001B[0m \u001B[0mrcParams\u001B[0m\u001B[0;34m[\u001B[0m\u001B[0;34m'text.hinting_factor'\u001B[0m\u001B[0;34m]\u001B[0m\u001B[0;34m\u001B[0m\u001B[0;34m\u001B[0m\u001B[0m\n\u001B[1;32m   1423\u001B[0m     \u001B[0;31m# also key on the thread ID to prevent segfaults with multi-threading\u001B[0m\u001B[0;34m\u001B[0m\u001B[0;34m\u001B[0m\u001B[0m\n\u001B[0;32m-> 1424\u001B[0;31m     return _get_font(filename, hinting_factor,\n\u001B[0m\u001B[1;32m   1425\u001B[0m                      \u001B[0m_kerning_factor\u001B[0m\u001B[0;34m=\u001B[0m\u001B[0mrcParams\u001B[0m\u001B[0;34m[\u001B[0m\u001B[0;34m'text.kerning_factor'\u001B[0m\u001B[0;34m]\u001B[0m\u001B[0;34m,\u001B[0m\u001B[0;34m\u001B[0m\u001B[0;34m\u001B[0m\u001B[0m\n\u001B[1;32m   1426\u001B[0m                      thread_id=threading.get_ident())\n",
      "\u001B[0;32m~/opt/anaconda3/envs/pythonProject/lib/python3.9/site-packages/matplotlib/font_manager.py\u001B[0m in \u001B[0;36m_get_font\u001B[0;34m(filename, hinting_factor, _kerning_factor, thread_id)\u001B[0m\n\u001B[1;32m   1403\u001B[0m \u001B[0;34m@\u001B[0m\u001B[0mlru_cache\u001B[0m\u001B[0;34m(\u001B[0m\u001B[0;36m64\u001B[0m\u001B[0;34m)\u001B[0m\u001B[0;34m\u001B[0m\u001B[0;34m\u001B[0m\u001B[0m\n\u001B[1;32m   1404\u001B[0m \u001B[0;32mdef\u001B[0m \u001B[0m_get_font\u001B[0m\u001B[0;34m(\u001B[0m\u001B[0mfilename\u001B[0m\u001B[0;34m,\u001B[0m \u001B[0mhinting_factor\u001B[0m\u001B[0;34m,\u001B[0m \u001B[0;34m*\u001B[0m\u001B[0;34m,\u001B[0m \u001B[0m_kerning_factor\u001B[0m\u001B[0;34m,\u001B[0m \u001B[0mthread_id\u001B[0m\u001B[0;34m)\u001B[0m\u001B[0;34m:\u001B[0m\u001B[0;34m\u001B[0m\u001B[0;34m\u001B[0m\u001B[0m\n\u001B[0;32m-> 1405\u001B[0;31m     return ft2font.FT2Font(\n\u001B[0m\u001B[1;32m   1406\u001B[0m         filename, hinting_factor, _kerning_factor=_kerning_factor)\n\u001B[1;32m   1407\u001B[0m \u001B[0;34m\u001B[0m\u001B[0m\n",
      "\u001B[0;31mFileNotFoundError\u001B[0m: [Errno 2] No such file or directory: '/Users/kimeunbin/Documents/Cloud/0126/webscrap_source/C:\\\\Windows\\\\Fonts\\\\malgun.ttf'"
     ]
    }
   ],
   "source": [
    "#한글폰트 설정\n",
    "font_path = 'C:\\\\Windows\\\\Fonts\\\\malgun.ttf'\n",
    "# font의 파일정보로 font name을 알아내기\n",
    "font_prop = fm.FontProperties(fname=font_path).get_name()\n",
    "print(font_prop)\n",
    "# matplotlib의 rc(run command) 함수를 사용해서 폰트이름 설정\n",
    "matplotlib.rc('font', family=font_prop)"
   ],
   "metadata": {
    "collapsed": false,
    "pycharm": {
     "name": "#%%\n"
    }
   }
  },
  {
   "cell_type": "markdown",
   "source": [
    "### Seaborn의 막대그래프\n",
    "- barplot - x축과 y축을 둘 다 설정할 수 있음\n",
    "- countplot - x축 이나 y축 중에서 하나만 설정할 수 있음"
   ],
   "metadata": {
    "collapsed": false,
    "pycharm": {
     "name": "#%% md\n"
    }
   }
  },
  {
   "cell_type": "code",
   "execution_count": 58,
   "outputs": [
    {
     "data": {
      "text/plain": "더불어민주당    172\n국민의힘      106\n정의당         6\n무소속         6\n국민의당        3\n기본소득당       1\n시대전환        1\nName: 정당, dtype: int64"
     },
     "execution_count": 58,
     "metadata": {},
     "output_type": "execute_result"
    }
   ],
   "source": [
    "member_df['정당'].value_counts()"
   ],
   "metadata": {
    "collapsed": false,
    "pycharm": {
     "name": "#%%\n"
    }
   }
  },
  {
   "cell_type": "code",
   "execution_count": 59,
   "outputs": [
    {
     "data": {
      "text/plain": "Index(['더불어민주당', '국민의힘', '정의당', '무소속', '국민의당', '기본소득당', '시대전환'], dtype='object')"
     },
     "execution_count": 59,
     "metadata": {},
     "output_type": "execute_result"
    }
   ],
   "source": [
    "member_df['정당'].value_counts().index"
   ],
   "metadata": {
    "collapsed": false,
    "pycharm": {
     "name": "#%%\n"
    }
   }
  },
  {
   "cell_type": "code",
   "execution_count": 60,
   "outputs": [
    {
     "data": {
      "text/plain": "<AxesSubplot:xlabel='당선횟수2', ylabel='count'>"
     },
     "execution_count": 60,
     "metadata": {},
     "output_type": "execute_result"
    },
    {
     "name": "stderr",
     "output_type": "stream",
     "text": [
      "/Users/kimeunbin/opt/anaconda3/envs/pythonProject/lib/python3.9/site-packages/IPython/core/events.py:89: UserWarning: Glyph 45908 (\\N{HANGUL SYLLABLE DEO}) missing from current font.\n",
      "  func(*args, **kwargs)\n",
      "/Users/kimeunbin/opt/anaconda3/envs/pythonProject/lib/python3.9/site-packages/IPython/core/events.py:89: UserWarning: Glyph 48520 (\\N{HANGUL SYLLABLE BUL}) missing from current font.\n",
      "  func(*args, **kwargs)\n",
      "/Users/kimeunbin/opt/anaconda3/envs/pythonProject/lib/python3.9/site-packages/IPython/core/events.py:89: UserWarning: Glyph 50612 (\\N{HANGUL SYLLABLE EO}) missing from current font.\n",
      "  func(*args, **kwargs)\n",
      "/Users/kimeunbin/opt/anaconda3/envs/pythonProject/lib/python3.9/site-packages/IPython/core/events.py:89: UserWarning: Glyph 48124 (\\N{HANGUL SYLLABLE MIN}) missing from current font.\n",
      "  func(*args, **kwargs)\n",
      "/Users/kimeunbin/opt/anaconda3/envs/pythonProject/lib/python3.9/site-packages/IPython/core/events.py:89: UserWarning: Glyph 51452 (\\N{HANGUL SYLLABLE JU}) missing from current font.\n",
      "  func(*args, **kwargs)\n",
      "/Users/kimeunbin/opt/anaconda3/envs/pythonProject/lib/python3.9/site-packages/IPython/core/events.py:89: UserWarning: Glyph 45817 (\\N{HANGUL SYLLABLE DANG}) missing from current font.\n",
      "  func(*args, **kwargs)\n",
      "/Users/kimeunbin/opt/anaconda3/envs/pythonProject/lib/python3.9/site-packages/IPython/core/events.py:89: UserWarning: Glyph 44397 (\\N{HANGUL SYLLABLE GUG}) missing from current font.\n",
      "  func(*args, **kwargs)\n",
      "/Users/kimeunbin/opt/anaconda3/envs/pythonProject/lib/python3.9/site-packages/IPython/core/events.py:89: UserWarning: Glyph 51032 (\\N{HANGUL SYLLABLE YI}) missing from current font.\n",
      "  func(*args, **kwargs)\n",
      "/Users/kimeunbin/opt/anaconda3/envs/pythonProject/lib/python3.9/site-packages/IPython/core/events.py:89: UserWarning: Glyph 55192 (\\N{HANGUL SYLLABLE HIM}) missing from current font.\n",
      "  func(*args, **kwargs)\n",
      "/Users/kimeunbin/opt/anaconda3/envs/pythonProject/lib/python3.9/site-packages/IPython/core/events.py:89: UserWarning: Glyph 51221 (\\N{HANGUL SYLLABLE JEONG}) missing from current font.\n",
      "  func(*args, **kwargs)\n",
      "/Users/kimeunbin/opt/anaconda3/envs/pythonProject/lib/python3.9/site-packages/IPython/core/events.py:89: UserWarning: Glyph 47924 (\\N{HANGUL SYLLABLE MU}) missing from current font.\n",
      "  func(*args, **kwargs)\n",
      "/Users/kimeunbin/opt/anaconda3/envs/pythonProject/lib/python3.9/site-packages/IPython/core/events.py:89: UserWarning: Glyph 49548 (\\N{HANGUL SYLLABLE SO}) missing from current font.\n",
      "  func(*args, **kwargs)\n",
      "/Users/kimeunbin/opt/anaconda3/envs/pythonProject/lib/python3.9/site-packages/IPython/core/events.py:89: UserWarning: Glyph 49549 (\\N{HANGUL SYLLABLE SOG}) missing from current font.\n",
      "  func(*args, **kwargs)\n",
      "/Users/kimeunbin/opt/anaconda3/envs/pythonProject/lib/python3.9/site-packages/IPython/core/events.py:89: UserWarning: Glyph 44592 (\\N{HANGUL SYLLABLE GI}) missing from current font.\n",
      "  func(*args, **kwargs)\n",
      "/Users/kimeunbin/opt/anaconda3/envs/pythonProject/lib/python3.9/site-packages/IPython/core/events.py:89: UserWarning: Glyph 48376 (\\N{HANGUL SYLLABLE BON}) missing from current font.\n",
      "  func(*args, **kwargs)\n",
      "/Users/kimeunbin/opt/anaconda3/envs/pythonProject/lib/python3.9/site-packages/IPython/core/events.py:89: UserWarning: Glyph 46301 (\\N{HANGUL SYLLABLE DEUG}) missing from current font.\n",
      "  func(*args, **kwargs)\n",
      "/Users/kimeunbin/opt/anaconda3/envs/pythonProject/lib/python3.9/site-packages/IPython/core/events.py:89: UserWarning: Glyph 49884 (\\N{HANGUL SYLLABLE SI}) missing from current font.\n",
      "  func(*args, **kwargs)\n",
      "/Users/kimeunbin/opt/anaconda3/envs/pythonProject/lib/python3.9/site-packages/IPython/core/events.py:89: UserWarning: Glyph 45824 (\\N{HANGUL SYLLABLE DAE}) missing from current font.\n",
      "  func(*args, **kwargs)\n",
      "/Users/kimeunbin/opt/anaconda3/envs/pythonProject/lib/python3.9/site-packages/IPython/core/events.py:89: UserWarning: Glyph 51204 (\\N{HANGUL SYLLABLE JEON}) missing from current font.\n",
      "  func(*args, **kwargs)\n",
      "/Users/kimeunbin/opt/anaconda3/envs/pythonProject/lib/python3.9/site-packages/IPython/core/events.py:89: UserWarning: Glyph 54872 (\\N{HANGUL SYLLABLE HWAN}) missing from current font.\n",
      "  func(*args, **kwargs)\n",
      "/Users/kimeunbin/opt/anaconda3/envs/pythonProject/lib/python3.9/site-packages/IPython/core/events.py:89: UserWarning: Glyph 52488 (\\N{HANGUL SYLLABLE CO}) missing from current font.\n",
      "  func(*args, **kwargs)\n",
      "/Users/kimeunbin/opt/anaconda3/envs/pythonProject/lib/python3.9/site-packages/IPython/core/events.py:89: UserWarning: Glyph 49440 (\\N{HANGUL SYLLABLE SEON}) missing from current font.\n",
      "  func(*args, **kwargs)\n",
      "/Users/kimeunbin/opt/anaconda3/envs/pythonProject/lib/python3.9/site-packages/IPython/core/events.py:89: UserWarning: Glyph 51116 (\\N{HANGUL SYLLABLE JAE}) missing from current font.\n",
      "  func(*args, **kwargs)\n",
      "/Users/kimeunbin/opt/anaconda3/envs/pythonProject/lib/python3.9/site-packages/IPython/core/events.py:89: UserWarning: Glyph 54943 (\\N{HANGUL SYLLABLE HOES}) missing from current font.\n",
      "  func(*args, **kwargs)\n",
      "/Users/kimeunbin/opt/anaconda3/envs/pythonProject/lib/python3.9/site-packages/IPython/core/events.py:89: UserWarning: Glyph 49688 (\\N{HANGUL SYLLABLE SU}) missing from current font.\n",
      "  func(*args, **kwargs)\n",
      "/Users/kimeunbin/opt/anaconda3/envs/pythonProject/lib/python3.9/site-packages/IPython/core/pylabtools.py:151: UserWarning: Glyph 45908 (\\N{HANGUL SYLLABLE DEO}) missing from current font.\n",
      "  fig.canvas.print_figure(bytes_io, **kw)\n",
      "/Users/kimeunbin/opt/anaconda3/envs/pythonProject/lib/python3.9/site-packages/IPython/core/pylabtools.py:151: UserWarning: Glyph 48520 (\\N{HANGUL SYLLABLE BUL}) missing from current font.\n",
      "  fig.canvas.print_figure(bytes_io, **kw)\n",
      "/Users/kimeunbin/opt/anaconda3/envs/pythonProject/lib/python3.9/site-packages/IPython/core/pylabtools.py:151: UserWarning: Glyph 50612 (\\N{HANGUL SYLLABLE EO}) missing from current font.\n",
      "  fig.canvas.print_figure(bytes_io, **kw)\n",
      "/Users/kimeunbin/opt/anaconda3/envs/pythonProject/lib/python3.9/site-packages/IPython/core/pylabtools.py:151: UserWarning: Glyph 48124 (\\N{HANGUL SYLLABLE MIN}) missing from current font.\n",
      "  fig.canvas.print_figure(bytes_io, **kw)\n",
      "/Users/kimeunbin/opt/anaconda3/envs/pythonProject/lib/python3.9/site-packages/IPython/core/pylabtools.py:151: UserWarning: Glyph 51452 (\\N{HANGUL SYLLABLE JU}) missing from current font.\n",
      "  fig.canvas.print_figure(bytes_io, **kw)\n",
      "/Users/kimeunbin/opt/anaconda3/envs/pythonProject/lib/python3.9/site-packages/IPython/core/pylabtools.py:151: UserWarning: Glyph 45817 (\\N{HANGUL SYLLABLE DANG}) missing from current font.\n",
      "  fig.canvas.print_figure(bytes_io, **kw)\n",
      "/Users/kimeunbin/opt/anaconda3/envs/pythonProject/lib/python3.9/site-packages/IPython/core/pylabtools.py:151: UserWarning: Glyph 44397 (\\N{HANGUL SYLLABLE GUG}) missing from current font.\n",
      "  fig.canvas.print_figure(bytes_io, **kw)\n",
      "/Users/kimeunbin/opt/anaconda3/envs/pythonProject/lib/python3.9/site-packages/IPython/core/pylabtools.py:151: UserWarning: Glyph 51032 (\\N{HANGUL SYLLABLE YI}) missing from current font.\n",
      "  fig.canvas.print_figure(bytes_io, **kw)\n",
      "/Users/kimeunbin/opt/anaconda3/envs/pythonProject/lib/python3.9/site-packages/IPython/core/pylabtools.py:151: UserWarning: Glyph 55192 (\\N{HANGUL SYLLABLE HIM}) missing from current font.\n",
      "  fig.canvas.print_figure(bytes_io, **kw)\n",
      "/Users/kimeunbin/opt/anaconda3/envs/pythonProject/lib/python3.9/site-packages/IPython/core/pylabtools.py:151: UserWarning: Glyph 51221 (\\N{HANGUL SYLLABLE JEONG}) missing from current font.\n",
      "  fig.canvas.print_figure(bytes_io, **kw)\n",
      "/Users/kimeunbin/opt/anaconda3/envs/pythonProject/lib/python3.9/site-packages/IPython/core/pylabtools.py:151: UserWarning: Glyph 47924 (\\N{HANGUL SYLLABLE MU}) missing from current font.\n",
      "  fig.canvas.print_figure(bytes_io, **kw)\n",
      "/Users/kimeunbin/opt/anaconda3/envs/pythonProject/lib/python3.9/site-packages/IPython/core/pylabtools.py:151: UserWarning: Glyph 49548 (\\N{HANGUL SYLLABLE SO}) missing from current font.\n",
      "  fig.canvas.print_figure(bytes_io, **kw)\n",
      "/Users/kimeunbin/opt/anaconda3/envs/pythonProject/lib/python3.9/site-packages/IPython/core/pylabtools.py:151: UserWarning: Glyph 49549 (\\N{HANGUL SYLLABLE SOG}) missing from current font.\n",
      "  fig.canvas.print_figure(bytes_io, **kw)\n",
      "/Users/kimeunbin/opt/anaconda3/envs/pythonProject/lib/python3.9/site-packages/IPython/core/pylabtools.py:151: UserWarning: Glyph 44592 (\\N{HANGUL SYLLABLE GI}) missing from current font.\n",
      "  fig.canvas.print_figure(bytes_io, **kw)\n",
      "/Users/kimeunbin/opt/anaconda3/envs/pythonProject/lib/python3.9/site-packages/IPython/core/pylabtools.py:151: UserWarning: Glyph 48376 (\\N{HANGUL SYLLABLE BON}) missing from current font.\n",
      "  fig.canvas.print_figure(bytes_io, **kw)\n",
      "/Users/kimeunbin/opt/anaconda3/envs/pythonProject/lib/python3.9/site-packages/IPython/core/pylabtools.py:151: UserWarning: Glyph 46301 (\\N{HANGUL SYLLABLE DEUG}) missing from current font.\n",
      "  fig.canvas.print_figure(bytes_io, **kw)\n",
      "/Users/kimeunbin/opt/anaconda3/envs/pythonProject/lib/python3.9/site-packages/IPython/core/pylabtools.py:151: UserWarning: Glyph 49884 (\\N{HANGUL SYLLABLE SI}) missing from current font.\n",
      "  fig.canvas.print_figure(bytes_io, **kw)\n",
      "/Users/kimeunbin/opt/anaconda3/envs/pythonProject/lib/python3.9/site-packages/IPython/core/pylabtools.py:151: UserWarning: Glyph 45824 (\\N{HANGUL SYLLABLE DAE}) missing from current font.\n",
      "  fig.canvas.print_figure(bytes_io, **kw)\n",
      "/Users/kimeunbin/opt/anaconda3/envs/pythonProject/lib/python3.9/site-packages/IPython/core/pylabtools.py:151: UserWarning: Glyph 51204 (\\N{HANGUL SYLLABLE JEON}) missing from current font.\n",
      "  fig.canvas.print_figure(bytes_io, **kw)\n",
      "/Users/kimeunbin/opt/anaconda3/envs/pythonProject/lib/python3.9/site-packages/IPython/core/pylabtools.py:151: UserWarning: Glyph 54872 (\\N{HANGUL SYLLABLE HWAN}) missing from current font.\n",
      "  fig.canvas.print_figure(bytes_io, **kw)\n",
      "/Users/kimeunbin/opt/anaconda3/envs/pythonProject/lib/python3.9/site-packages/IPython/core/pylabtools.py:151: UserWarning: Glyph 52488 (\\N{HANGUL SYLLABLE CO}) missing from current font.\n",
      "  fig.canvas.print_figure(bytes_io, **kw)\n",
      "/Users/kimeunbin/opt/anaconda3/envs/pythonProject/lib/python3.9/site-packages/IPython/core/pylabtools.py:151: UserWarning: Glyph 49440 (\\N{HANGUL SYLLABLE SEON}) missing from current font.\n",
      "  fig.canvas.print_figure(bytes_io, **kw)\n",
      "/Users/kimeunbin/opt/anaconda3/envs/pythonProject/lib/python3.9/site-packages/IPython/core/pylabtools.py:151: UserWarning: Glyph 51116 (\\N{HANGUL SYLLABLE JAE}) missing from current font.\n",
      "  fig.canvas.print_figure(bytes_io, **kw)\n",
      "/Users/kimeunbin/opt/anaconda3/envs/pythonProject/lib/python3.9/site-packages/IPython/core/pylabtools.py:151: UserWarning: Glyph 54943 (\\N{HANGUL SYLLABLE HOES}) missing from current font.\n",
      "  fig.canvas.print_figure(bytes_io, **kw)\n",
      "/Users/kimeunbin/opt/anaconda3/envs/pythonProject/lib/python3.9/site-packages/IPython/core/pylabtools.py:151: UserWarning: Glyph 49688 (\\N{HANGUL SYLLABLE SU}) missing from current font.\n",
      "  fig.canvas.print_figure(bytes_io, **kw)\n"
     ]
    },
    {
     "data": {
      "text/plain": "<Figure size 1296x864 with 2 Axes>",
      "image/png": "[encoded data removed]"
     },
     "metadata": {
      "needs_background": "light"
     },
     "output_type": "display_data"
    }
   ],
   "source": [
    "figure, (axes1,axes2) = plt.subplots(nrows=2, ncols=1)\n",
    "figure.set_size_inches(18,12)\n",
    "\n",
    "sns.countplot(data=member_df, x='정당', ax=axes1, order=member_df['정당'].value_counts().index)\n",
    "sns.countplot(data=member_df, x='당선횟수2', ax=axes2, order=member_df['당선횟수2'].value_counts().index)"
   ],
   "metadata": {
    "collapsed": false,
    "pycharm": {
     "name": "#%%\n"
    }
   }
  }
 ],
 "metadata": {
  "kernelspec": {
   "display_name": "Python 3",
   "language": "python",
   "name": "python3"
  },
  "language_info": {
   "codemirror_mode": {
    "name": "ipython",
    "version": 2
   },
   "file_extension": ".py",
   "mimetype": "text/x-python",
   "name": "python",
   "nbconvert_exporter": "python",
   "pygments_lexer": "ipython2",
   "version": "2.7.6"
  }
 },
 "nbformat": 4,
 "nbformat_minor": 0
}