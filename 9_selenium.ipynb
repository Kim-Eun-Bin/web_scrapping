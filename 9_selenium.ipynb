{
 "cells": [
  {
   "cell_type": "markdown",
   "metadata": {},
   "source": [
    "### WebDriver 의 Chrome 객체생성\n",
    "* python.org 웹사이트로 요청을 보내기\n",
    "* pypi 메뉴를 클릭해서 pypi.org 웹사이트로 이동하기"
   ]
  },
  {
   "cell_type": "code",
   "execution_count": 7,
   "metadata": {},
   "outputs": [
    {
     "name": "stderr",
     "output_type": "stream",
     "text": [
      "/var/folders/7d/9pfcr1bn2bl3ybstxw14zd1h0000gn/T/ipykernel_16805/497502020.py:5: DeprecationWarning: executable_path has been deprecated, please pass in a Service object\n",
      "  driver = webdriver.Chrome('./chromedriver.exe')\n"
     ]
    },
    {
     "ename": "WebDriverException",
     "evalue": "Message: 'chromedriver.exe' executable needs to be in PATH. Please see https://chromedriver.chromium.org/home\n",
     "output_type": "error",
     "traceback": [
      "\u001B[0;31m---------------------------------------------------------------------------\u001B[0m",
      "\u001B[0;31mFileNotFoundError\u001B[0m                         Traceback (most recent call last)",
      "\u001B[0;32m~/opt/anaconda3/envs/pythonProject/lib/python3.9/site-packages/selenium/webdriver/common/service.py\u001B[0m in \u001B[0;36mstart\u001B[0;34m(self)\u001B[0m\n\u001B[1;32m     70\u001B[0m             \u001B[0mcmd\u001B[0m \u001B[0;34m=\u001B[0m \u001B[0;34m[\u001B[0m\u001B[0mself\u001B[0m\u001B[0;34m.\u001B[0m\u001B[0mpath\u001B[0m\u001B[0;34m]\u001B[0m\u001B[0;34m\u001B[0m\u001B[0;34m\u001B[0m\u001B[0m\n\u001B[0;32m---> 71\u001B[0;31m             \u001B[0mcmd\u001B[0m\u001B[0;34m.\u001B[0m\u001B[0mextend\u001B[0m\u001B[0;34m(\u001B[0m\u001B[0mself\u001B[0m\u001B[0;34m.\u001B[0m\u001B[0mcommand_line_args\u001B[0m\u001B[0;34m(\u001B[0m\u001B[0;34m)\u001B[0m\u001B[0;34m)\u001B[0m\u001B[0;34m\u001B[0m\u001B[0;34m\u001B[0m\u001B[0m\n\u001B[0m\u001B[1;32m     72\u001B[0m             self.process = subprocess.Popen(cmd, env=self.env,\n",
      "\u001B[0;32m~/opt/anaconda3/envs/pythonProject/lib/python3.9/subprocess.py\u001B[0m in \u001B[0;36m__init__\u001B[0;34m(self, args, bufsize, executable, stdin, stdout, stderr, preexec_fn, close_fds, shell, cwd, env, universal_newlines, startupinfo, creationflags, restore_signals, start_new_session, pass_fds, user, group, extra_groups, encoding, errors, text, umask)\u001B[0m\n\u001B[1;32m    950\u001B[0m \u001B[0;34m\u001B[0m\u001B[0m\n\u001B[0;32m--> 951\u001B[0;31m             self._execute_child(args, executable, preexec_fn, close_fds,\n\u001B[0m\u001B[1;32m    952\u001B[0m                                 \u001B[0mpass_fds\u001B[0m\u001B[0;34m,\u001B[0m \u001B[0mcwd\u001B[0m\u001B[0;34m,\u001B[0m \u001B[0menv\u001B[0m\u001B[0;34m,\u001B[0m\u001B[0;34m\u001B[0m\u001B[0;34m\u001B[0m\u001B[0m\n",
      "\u001B[0;32m~/opt/anaconda3/envs/pythonProject/lib/python3.9/subprocess.py\u001B[0m in \u001B[0;36m_execute_child\u001B[0;34m(self, args, executable, preexec_fn, close_fds, pass_fds, cwd, env, startupinfo, creationflags, shell, p2cread, p2cwrite, c2pread, c2pwrite, errread, errwrite, restore_signals, gid, gids, uid, umask, start_new_session)\u001B[0m\n\u001B[1;32m   1820\u001B[0m                         \u001B[0merr_msg\u001B[0m \u001B[0;34m=\u001B[0m \u001B[0mos\u001B[0m\u001B[0;34m.\u001B[0m\u001B[0mstrerror\u001B[0m\u001B[0;34m(\u001B[0m\u001B[0merrno_num\u001B[0m\u001B[0;34m)\u001B[0m\u001B[0;34m\u001B[0m\u001B[0;34m\u001B[0m\u001B[0m\n\u001B[0;32m-> 1821\u001B[0;31m                     \u001B[0;32mraise\u001B[0m \u001B[0mchild_exception_type\u001B[0m\u001B[0;34m(\u001B[0m\u001B[0merrno_num\u001B[0m\u001B[0;34m,\u001B[0m \u001B[0merr_msg\u001B[0m\u001B[0;34m,\u001B[0m \u001B[0merr_filename\u001B[0m\u001B[0;34m)\u001B[0m\u001B[0;34m\u001B[0m\u001B[0;34m\u001B[0m\u001B[0m\n\u001B[0m\u001B[1;32m   1822\u001B[0m                 \u001B[0;32mraise\u001B[0m \u001B[0mchild_exception_type\u001B[0m\u001B[0;34m(\u001B[0m\u001B[0merr_msg\u001B[0m\u001B[0;34m)\u001B[0m\u001B[0;34m\u001B[0m\u001B[0;34m\u001B[0m\u001B[0m\n",
      "\u001B[0;31mFileNotFoundError\u001B[0m: [Errno 2] No such file or directory: './chromedriver.exe'",
      "\nDuring handling of the above exception, another exception occurred:\n",
      "\u001B[0;31mWebDriverException\u001B[0m                        Traceback (most recent call last)",
      "\u001B[0;32m/var/folders/7d/9pfcr1bn2bl3ybstxw14zd1h0000gn/T/ipykernel_16805/497502020.py\u001B[0m in \u001B[0;36m<module>\u001B[0;34m\u001B[0m\n\u001B[1;32m      3\u001B[0m \u001B[0;34m\u001B[0m\u001B[0m\n\u001B[1;32m      4\u001B[0m \u001B[0;31m#webdriver에 포함된 Chrome 객체를 생성 - chromedriver.exe 사용해서\u001B[0m\u001B[0;34m\u001B[0m\u001B[0;34m\u001B[0m\u001B[0m\n\u001B[0;32m----> 5\u001B[0;31m \u001B[0mdriver\u001B[0m \u001B[0;34m=\u001B[0m \u001B[0mwebdriver\u001B[0m\u001B[0;34m.\u001B[0m\u001B[0mChrome\u001B[0m\u001B[0;34m(\u001B[0m\u001B[0;34m'./chromedriver.exe'\u001B[0m\u001B[0;34m)\u001B[0m\u001B[0;34m\u001B[0m\u001B[0;34m\u001B[0m\u001B[0m\n\u001B[0m\u001B[1;32m      6\u001B[0m \u001B[0;31m#python.org 사이트로 요청을 보내기\u001B[0m\u001B[0;34m\u001B[0m\u001B[0;34m\u001B[0m\u001B[0m\n\u001B[1;32m      7\u001B[0m \u001B[0mdriver\u001B[0m\u001B[0;34m.\u001B[0m\u001B[0mget\u001B[0m\u001B[0;34m(\u001B[0m\u001B[0;34m'https://www.python.org/'\u001B[0m\u001B[0;34m)\u001B[0m\u001B[0;34m\u001B[0m\u001B[0;34m\u001B[0m\u001B[0m\n",
      "\u001B[0;32m~/opt/anaconda3/envs/pythonProject/lib/python3.9/site-packages/selenium/webdriver/chrome/webdriver.py\u001B[0m in \u001B[0;36m__init__\u001B[0;34m(self, executable_path, port, options, service_args, desired_capabilities, service_log_path, chrome_options, service, keep_alive)\u001B[0m\n\u001B[1;32m     68\u001B[0m         self.service = Service(\n\u001B[1;32m     69\u001B[0m             \u001B[0mexecutable_path\u001B[0m\u001B[0;34m,\u001B[0m\u001B[0;34m\u001B[0m\u001B[0;34m\u001B[0m\u001B[0m\n\u001B[0;32m---> 70\u001B[0;31m             \u001B[0mport\u001B[0m\u001B[0;34m=\u001B[0m\u001B[0mport\u001B[0m\u001B[0;34m,\u001B[0m\u001B[0;34m\u001B[0m\u001B[0;34m\u001B[0m\u001B[0m\n\u001B[0m\u001B[1;32m     71\u001B[0m             \u001B[0mservice_args\u001B[0m\u001B[0;34m=\u001B[0m\u001B[0mservice_args\u001B[0m\u001B[0;34m,\u001B[0m\u001B[0;34m\u001B[0m\u001B[0;34m\u001B[0m\u001B[0m\n\u001B[1;32m     72\u001B[0m             log_path=service_log_path)\n",
      "\u001B[0;32m~/opt/anaconda3/envs/pythonProject/lib/python3.9/site-packages/selenium/webdriver/chromium/webdriver.py\u001B[0m in \u001B[0;36m__init__\u001B[0;34m(self, browser_name, vendor_prefix, port, options, service_args, desired_capabilities, service_log_path, service, keep_alive)\u001B[0m\n\u001B[1;32m     88\u001B[0m \u001B[0;34m\u001B[0m\u001B[0m\n\u001B[1;32m     89\u001B[0m         \u001B[0mself\u001B[0m\u001B[0;34m.\u001B[0m\u001B[0mservice\u001B[0m \u001B[0;34m=\u001B[0m \u001B[0mservice\u001B[0m\u001B[0;34m\u001B[0m\u001B[0;34m\u001B[0m\u001B[0m\n\u001B[0;32m---> 90\u001B[0;31m         \u001B[0mself\u001B[0m\u001B[0;34m.\u001B[0m\u001B[0mservice\u001B[0m\u001B[0;34m.\u001B[0m\u001B[0mstart\u001B[0m\u001B[0;34m(\u001B[0m\u001B[0;34m)\u001B[0m\u001B[0;34m\u001B[0m\u001B[0;34m\u001B[0m\u001B[0m\n\u001B[0m\u001B[1;32m     91\u001B[0m \u001B[0;34m\u001B[0m\u001B[0m\n\u001B[1;32m     92\u001B[0m         \u001B[0;32mtry\u001B[0m\u001B[0;34m:\u001B[0m\u001B[0;34m\u001B[0m\u001B[0;34m\u001B[0m\u001B[0m\n",
      "\u001B[0;32m~/opt/anaconda3/envs/pythonProject/lib/python3.9/site-packages/selenium/webdriver/common/service.py\u001B[0m in \u001B[0;36mstart\u001B[0;34m(self)\u001B[0m\n\u001B[1;32m     79\u001B[0m         \u001B[0;32mexcept\u001B[0m \u001B[0mOSError\u001B[0m \u001B[0;32mas\u001B[0m \u001B[0merr\u001B[0m\u001B[0;34m:\u001B[0m\u001B[0;34m\u001B[0m\u001B[0;34m\u001B[0m\u001B[0m\n\u001B[1;32m     80\u001B[0m             \u001B[0;32mif\u001B[0m \u001B[0merr\u001B[0m\u001B[0;34m.\u001B[0m\u001B[0merrno\u001B[0m \u001B[0;34m==\u001B[0m \u001B[0merrno\u001B[0m\u001B[0;34m.\u001B[0m\u001B[0mENOENT\u001B[0m\u001B[0;34m:\u001B[0m\u001B[0;34m\u001B[0m\u001B[0;34m\u001B[0m\u001B[0m\n\u001B[0;32m---> 81\u001B[0;31m                 raise WebDriverException(\n\u001B[0m\u001B[1;32m     82\u001B[0m                     \"'%s' executable needs to be in PATH. %s\" % (\n\u001B[1;32m     83\u001B[0m                         os.path.basename(self.path), self.start_error_message)\n",
      "\u001B[0;31mWebDriverException\u001B[0m: Message: 'chromedriver.exe' executable needs to be in PATH. Please see https://chromedriver.chromium.org/home\n"
     ]
    }
   ],
   "source": [
    "from selenium import webdriver\n",
    "import time\n",
    "\n",
    "#webdriver에 포함된 Chrome 객체를 생성 - chromedriver.exe 사용해서\n",
    "driver = webdriver.Chrome('./chromedriver.exe')\n",
    "#python.org 사이트로 요청을 보내기\n",
    "driver.get('https://www.python.org/')\n",
    "\n",
    "#li 엘리먼트 선택해서 가져오기\n",
    "li_tags = driver.find_elements_by_css_selector('div#top ul.menu li')\n",
    "#print(li_tags)\n",
    "#pypi 엘리먼트를 찾아서 저장할 변수 선언\n",
    "pypi = None\n",
    "for li_tag in li_tags:\n",
    "    print(li_tag.text)\n",
    "    if li_tag.text == 'PyPI':\n",
    "        pypi = li_tag\n",
    "        \n",
    "time.sleep(3)\n",
    "\n",
    "#pypi 엘리멘트의 click() 함수 호출\n",
    "pypi.click()\n",
    "\n",
    "#5초로 waiting time 설정\n",
    "time.sleep(5)\n",
    "#driver 종료\n",
    "driver.quit()"
   ]
  },
  {
   "cell_type": "markdown",
   "metadata": {},
   "source": [
    "### 네이버 포털의 image를 save 해보기"
   ]
  },
  {
   "cell_type": "code",
   "execution_count": null,
   "metadata": {},
   "outputs": [],
   "source": [
    "import os\n",
    "#img 디렉토리 생성\n",
    "#img 디렉토리가 없으면\n",
    "if not os.path.isdir('img'):\n",
    "    os.mkdir('img')   "
   ]
  },
  {
   "cell_type": "code",
   "execution_count": null,
   "metadata": {},
   "outputs": [],
   "source": [
    "from selenium import webdriver\n",
    "import time\n",
    "\n",
    "driver = webdriver.Chrome('./chromedriver.exe')\n",
    "driver.get('https://www.naver.com/')\n",
    "driver.save_screenshot('img/naver.png')\n",
    "\n",
    "time.sleep(3)\n",
    "driver.quit()"
   ]
  },
  {
   "cell_type": "markdown",
   "metadata": {},
   "source": [
    "### 네이버 포털에 파이썬 검색어를 입력\n",
    "* 검색어를 입력하고 엔터를 치고\n",
    "* 검색된 결과중에서 지식인에 검색된 링크를 클릭"
   ]
  },
  {
   "cell_type": "code",
   "execution_count": null,
   "metadata": {},
   "outputs": [],
   "source": [
    "from selenium import webdriver\n",
    "from selenium.webdriver.common.keys import Keys\n",
    "import time\n",
    "\n",
    "#webdriver에 포함된 Chrome 객체 생성 - chromedriver.exe를 사용\n",
    "driver = webdriver.Chrome('./chromedriver.exe')\n",
    "#네이버 포털에 요청 보내기\n",
    "driver.get('https://www.naver.com/')\n",
    "time.sleep(2)\n",
    "\n",
    "#검색어 엘리먼트 가져오기\n",
    "search_tag = driver.find_element_by_css_selector('#query')\n",
    "#print(search_tag)\n",
    "\n",
    "#검색창에 파이썬 키워드를 입력한다.\n",
    "search_tag.send_keys('파이썬')\n",
    "#엔터를 입력한다.\n",
    "search_tag.send_keys(Keys.ENTER)\n",
    "time.sleep(2)\n",
    "\n",
    "#검색된 결과 중에서 a tag 가져오기 <a class='lnk_tit'>\n",
    "a_tags = driver.find_elements_by_css_selector('a.lnk_tit')\n",
    "if a_tags:\n",
    "    #첫번째 a tag 선택하고, click() 함수 호출\n",
    "    a_tags[0].click()\n",
    "\n",
    "#지연 시간을 5초로 설정\n",
    "time.sleep(5)\n",
    "#driver 종료\n",
    "driver.quit()"
   ]
  },
  {
   "cell_type": "markdown",
   "metadata": {},
   "source": [
    "### Daum 포털 로그인 / 로그아웃\n",
    "* id 와 password를 입력하고 패스워드 필드에서 엔터를 치거나 로그인 버튼 클릭해서 로그인\n",
    "* 로그인 후에 이름과 메일건수를 알아내기\n",
    "* 로그아웃 버튼을 클릭해서 로그아웃 "
   ]
  },
  {
   "cell_type": "markdown",
   "metadata": {},
   "source": [
    "### 로그인 실패할 경우 처리한 코드"
   ]
  },
  {
   "cell_type": "code",
   "execution_count": null,
   "metadata": {},
   "outputs": [],
   "source": [
    "from selenium import webdriver\n",
    "from selenium.webdriver.common.keys import Keys\n",
    "import time\n",
    "\n",
    "from selenium.webdriver.support.ui import WebDriverWait\n",
    "from selenium.webdriver.support import expected_conditions as EC\n",
    "from selenium.webdriver.common.by import By\n",
    "\n",
    "from selenium.common.exceptions import NoSuchElementException\n",
    "\n",
    "url = 'https://logins.daum.net/accounts/signinform.do'\n",
    "\n",
    "driver = webdriver.Chrome('./chromedriver.exe')\n",
    "driver.get(url)\n",
    "\n",
    "#웹리소스 로딩을 위해서 2초 wait를 반드시 해주어야 합니다. \n",
    "#클래스 선택자를 못가져오고 에러가 발생했던 원인은 웹리소스들이 로딩이 되기 전에 tag를 가져와서 에러가 발생하였음\n",
    "driver.implicitly_wait(2)\n",
    "\n",
    "time.sleep(2)\n",
    "\n",
    "#id와 password를 엘리먼트 찾고, 값을 입력하기\n",
    "driver.find_element_by_css_selector('input#id').send_keys('id')\n",
    "driver.find_element_by_css_selector('input#inputPwd').send_keys('!pass')\n",
    "time.sleep(2)\n",
    "\n",
    "#password필드에서 엔터치기\n",
    "driver.find_element_by_css_selector('input#inputPwd').send_keys(Keys.RETURN)\n",
    "\n",
    "login_ok = None\n",
    "try:\n",
    "    if driver.find_element_by_css_selector('p#id_msg').is_displayed() or driver.find_element_by_css_selector('p#pw_msg').is_displayed():    \n",
    "        pwfail_tag = driver.find_element_by_css_selector('p#pw_msg').get_attribute('style')\n",
    "        print(pwfail_tag)\n",
    "        if 'block' in pwfail_tag:\n",
    "            login_ok = False    \n",
    "            print(\"login fail\")\n",
    "        #fail_tag = WebDriverWait(driver,timeout=5).until(EC.presence_of_element_located((By.CSS_SELECTOR, \"p#pw_msg\")))\n",
    "except NoSuchElementException as nexp:\n",
    "    #print(nexp)\n",
    "    # p#pw_msg 엘리먼트가 없으면 로그인 성공한것임\n",
    "    login_ok = True    \n",
    "except Exception as exp:\n",
    "    print(exp)\n",
    "        \n",
    "if login_ok:\n",
    "    print('login ok ----------------')\n",
    "    \n",
    "    # implicitly_wait() 하지 않을 경우에는 엘리먼트를 가져올때 waiting 타임을 주어서 가져오는 방법입니다.\n",
    "    # name_tag = WebDriverWait(driver,timeout=5).until(EC.presence_of_element_located((By.CSS_SELECTOR, \"a.name_user\")))\n",
    "    # print(name_tag)\n",
    "    name_tag = driver.find_element_by_css_selector('a.name_user')\n",
    "    if name_tag:\n",
    "        name_text = name_tag.text\n",
    "        print(\"이름 \", name_text)\n",
    "\n",
    "    #mail_tag = WebDriverWait(driver,timeout=5).until(EC.presence_of_element_located((By.CSS_SELECTOR, \"a.link_num\")))\n",
    "    mail_tag = driver.find_element_by_css_selector('a.link_num')\n",
    "    print(mail_tag)\n",
    "    if mail_tag:\n",
    "        mail_cnt = mail_tag.text\n",
    "        print(\"메일건수 \", mail_cnt)\n",
    "\n",
    "    logout_tag = driver.find_element_by_css_selector('a.btn_logout')    \n",
    "    if logout_tag:    \n",
    "        logout_tag.click()\n",
    "\n",
    "time.sleep(3)\n",
    "driver.quit()"
   ]
  }
 ],
 "metadata": {
  "kernelspec": {
   "display_name": "Python 3",
   "language": "python",
   "name": "python3"
  },
  "language_info": {
   "codemirror_mode": {
    "name": "ipython",
    "version": 3
   },
   "file_extension": ".py",
   "mimetype": "text/x-python",
   "name": "python",
   "nbconvert_exporter": "python",
   "pygments_lexer": "ipython3",
   "version": "3.8.5"
  }
 },
 "nbformat": 4,
 "nbformat_minor": 4
}